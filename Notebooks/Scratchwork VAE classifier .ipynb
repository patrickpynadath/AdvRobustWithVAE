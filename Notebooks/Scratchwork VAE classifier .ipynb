{
 "cells": [
  {
   "cell_type": "code",
   "execution_count": 1,
   "id": "d7257826",
   "metadata": {},
   "outputs": [],
   "source": [
    "import os\n",
    "import os.path\n",
    "import torch\n",
    "from torch.utils.data import DataLoader\n",
    "import torchvision\n",
    "import torchvision.transforms as transforms\n",
    "from Utils.utils import *"
   ]
  },
  {
   "cell_type": "code",
   "execution_count": 2,
   "id": "5bb97a37",
   "metadata": {},
   "outputs": [
    {
     "name": "stdout",
     "output_type": "stream",
     "text": [
      "Files already downloaded and verified\n",
      "Files already downloaded and verified\n"
     ]
    }
   ],
   "source": [
    "trainset, testset = get_cifar_sets()\n",
    "dataloader_dct = get_class_loaders(trainset, 32)"
   ]
  },
  {
   "cell_type": "code",
   "execution_count": 3,
   "id": "74eb1cdf",
   "metadata": {},
   "outputs": [],
   "source": [
    "from Models.vae_classifier import VAE_Classifier"
   ]
  },
  {
   "cell_type": "code",
   "execution_count": 4,
   "id": "a8a52d6e",
   "metadata": {},
   "outputs": [],
   "source": [
    "vae_clf = VAE_Classifier(10, '', 32, kernel_num=40, channel_num=3, z_size=20, device='cpu')"
   ]
  },
  {
   "cell_type": "code",
   "execution_count": 5,
   "id": "b5775bcc",
   "metadata": {},
   "outputs": [
    {
     "name": "stderr",
     "output_type": "stream",
     "text": [
      "  0%|                                                   | 0/157 [00:00<?, ?it/s]/opt/anaconda3/envs/RobustnessResearch/lib/python3.10/site-packages/torch/nn/_reduction.py:42: UserWarning: size_average and reduce args will be deprecated, please use reduction='sum' instead.\n",
      "  warnings.warn(warning.format(ret))\n",
      "epoch: 1 | iteration: 157 | progress: [1256/5000] (100%) | loss => total: 2009.0\n",
      "epoch: 2 | iteration: 157 | progress: [1256/5000] (100%) | loss => total: 1983.7\n",
      "epoch: 3 | iteration: 157 | progress: [1256/5000] (100%) | loss => total: 1929.8\n",
      "epoch: 1 | iteration: 157 | progress: [1256/5000] (100%) | loss => total: 2063.1\n",
      "epoch: 2 | iteration: 157 | progress: [1256/5000] (100%) | loss => total: 2125.5\n",
      "epoch: 3 | iteration: 157 | progress: [1256/5000] (100%) | loss => total: 2025.0\n",
      "epoch: 1 | iteration: 157 | progress: [1256/5000] (100%) | loss => total: 2111.0\n",
      "epoch: 2 | iteration: 157 | progress: [1256/5000] (100%) | loss => total: 2159.3\n",
      "epoch: 3 | iteration: 157 | progress: [1256/5000] (100%) | loss => total: 2106.3\n",
      "epoch: 1 | iteration: 157 | progress: [1256/5000] (100%) | loss => total: 2086.0\n",
      "epoch: 2 | iteration: 157 | progress: [1256/5000] (100%) | loss => total: 2149.8\n",
      "epoch: 3 | iteration: 157 | progress: [1256/5000] (100%) | loss => total: 1972.3\n",
      "epoch: 1 | iteration: 157 | progress: [1256/5000] (100%) | loss => total: 2074.5\n",
      "epoch: 2 | iteration: 157 | progress: [1256/5000] (100%) | loss => total: 2085.0\n",
      "epoch: 3 | iteration: 157 | progress: [1256/5000] (100%) | loss => total: 2036.5\n",
      "epoch: 1 | iteration: 157 | progress: [1256/5000] (100%) | loss => total: 2098.8\n",
      "epoch: 2 | iteration: 157 | progress: [1256/5000] (100%) | loss => total: 2009.7\n",
      "epoch: 3 | iteration: 157 | progress: [1256/5000] (100%) | loss => total: 2072.2\n",
      "epoch: 1 | iteration: 157 | progress: [1256/5000] (100%) | loss => total: 2137.0\n",
      "epoch: 2 | iteration: 157 | progress: [1256/5000] (100%) | loss => total: 2168.7\n",
      "epoch: 3 | iteration: 157 | progress: [1256/5000] (100%) | loss => total: 2067.6\n",
      "epoch: 1 | iteration: 157 | progress: [1256/5000] (100%) | loss => total: 2077.1\n",
      "epoch: 2 | iteration: 157 | progress: [1256/5000] (100%) | loss => total: 2077.9\n",
      "epoch: 3 | iteration: 157 | progress: [1256/5000] (100%) | loss => total: 2046.0\n",
      "epoch: 1 | iteration: 157 | progress: [1256/5000] (100%) | loss => total: 1970.3\n",
      "epoch: 2 | iteration: 157 | progress: [1256/5000] (100%) | loss => total: 1968.3\n",
      "epoch: 3 | iteration: 157 | progress: [1256/5000] (100%) | loss => total: 1905.2\n",
      "epoch: 1 | iteration: 157 | progress: [1256/5000] (100%) | loss => total: 1977.9\n",
      "epoch: 2 | iteration: 157 | progress: [1256/5000] (100%) | loss => total: 2078.4\n",
      "epoch: 3 | iteration: 157 | progress: [1256/5000] (100%) | loss => total: 2023.7\n"
     ]
    }
   ],
   "source": [
    "vae_clf.train_vaes(dataloader_dct, epochs=3)"
   ]
  },
  {
   "cell_type": "code",
   "execution_count": 8,
   "id": "a647f6a9",
   "metadata": {},
   "outputs": [
    {
     "name": "stderr",
     "output_type": "stream",
     "text": [
      "Exception ignored in: <function _MultiProcessingDataLoaderIter.__del__ at 0x7fc6903ec160>\n",
      "Traceback (most recent call last):\n",
      "  File \"/opt/anaconda3/envs/RobustnessResearch/lib/python3.10/site-packages/torch/utils/data/dataloader.py\", line 1481, in __del__\n",
      "    self._shutdown_workers()\n",
      "  File \"/opt/anaconda3/envs/RobustnessResearch/lib/python3.10/site-packages/torch/utils/data/dataloader.py\", line 1445, in _shutdown_workers\n",
      "    w.join(timeout=_utils.MP_STATUS_CHECK_INTERVAL)\n",
      "  File \"/opt/anaconda3/envs/RobustnessResearch/lib/python3.10/multiprocessing/process.py\", line 149, in join\n",
      "    res = self._popen.wait(timeout)\n",
      "  File \"/opt/anaconda3/envs/RobustnessResearch/lib/python3.10/multiprocessing/popen_fork.py\", line 40, in wait\n",
      "    if not wait([self.sentinel], timeout):\n",
      "  File \"/opt/anaconda3/envs/RobustnessResearch/lib/python3.10/multiprocessing/connection.py\", line 936, in wait\n",
      "    ready = selector.select(timeout)\n",
      "  File \"/opt/anaconda3/envs/RobustnessResearch/lib/python3.10/selectors.py\", line 416, in select\n",
      "    fd_event_list = self._selector.poll(timeout)\n",
      "KeyboardInterrupt: \n",
      "\n",
      "KeyboardInterrupt\n",
      "\n"
     ]
    }
   ],
   "source": [
    "testloader = torch.utils.data.DataLoader(trainset, batch_size=32,\n",
    "                                                 shuffle=False, num_workers=2)\n",
    "num_right = 0\n",
    "for i, data in enumerate(testloader): \n",
    "    inputs, labels = data[0], data[1]\n",
    "    for j in range(len(inputs)):\n",
    "        label = labels[j].item()\n",
    "        pred = vae_clf.predict_label(inputs[j, :][None, :])\n",
    "        if label == pred: \n",
    "            num_right += 1\n",
    "print(num_right/len(testloader.dataset))"
   ]
  },
  {
   "cell_type": "code",
   "execution_count": null,
   "id": "d0059506",
   "metadata": {},
   "outputs": [],
   "source": [
    "testset[0]"
   ]
  },
  {
   "cell_type": "code",
   "execution_count": null,
   "id": "9eb644bb",
   "metadata": {},
   "outputs": [],
   "source": []
  }
 ],
 "metadata": {
  "kernelspec": {
   "display_name": "Python 3 (ipykernel)",
   "language": "python",
   "name": "python3"
  },
  "language_info": {
   "codemirror_mode": {
    "name": "ipython",
    "version": 3
   },
   "file_extension": ".py",
   "mimetype": "text/x-python",
   "name": "python",
   "nbconvert_exporter": "python",
   "pygments_lexer": "ipython3",
   "version": "3.10.4"
  }
 },
 "nbformat": 4,
 "nbformat_minor": 5
}
