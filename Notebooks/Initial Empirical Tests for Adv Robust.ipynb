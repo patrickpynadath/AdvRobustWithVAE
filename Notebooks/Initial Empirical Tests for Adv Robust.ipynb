{
 "cells": [
  {
   "cell_type": "code",
   "execution_count": 1,
   "id": "9bc87e67",
   "metadata": {
    "pycharm": {
     "name": "#%%\n"
    }
   },
   "outputs": [],
   "source": [
    "import torch\n",
    "import torchvision\n",
    "import torchvision.transforms as transforms\n",
    "import torch.nn as nn\n"
   ]
  },
  {
   "cell_type": "code",
   "execution_count": 2,
   "id": "b8aca253",
   "metadata": {
    "pycharm": {
     "name": "#%%\n"
    }
   },
   "outputs": [
    {
     "name": "stdout",
     "output_type": "stream",
     "text": [
      "Files already downloaded and verified\n",
      "Files already downloaded and verified\n"
     ]
    }
   ],
   "source": [
    "transform = transforms.Compose(\n",
    "    [transforms.ToTensor()])\n",
    "\n",
    "batch_size = 5\n",
    "root_dir = r'/Users/patrickpynadath/PycharmProjects/RobustnessResearch/OriginalWork'\n",
    "trainset = torchvision.datasets.CIFAR10(root=root_dir, train=True,\n",
    "                                        download=True, transform=transform)\n",
    "\n",
    "trainloader = torch.utils.data.DataLoader(trainset, batch_size=batch_size,\n",
    "                                          shuffle=True, num_workers=2)\n",
    "\n",
    "testset = torchvision.datasets.CIFAR10(root=root_dir, train=False,\n",
    "                                       download=True, transform=transform)\n",
    "\n",
    "testloader = torch.utils.data.DataLoader(testset, batch_size=batch_size,\n",
    "                                         shuffle=False, num_workers=2)\n",
    "\n",
    "classes = ('plane', 'car', 'bird', 'cat',\n",
    "           'deer', 'dog', 'frog', 'horse', 'ship', 'truck')"
   ]
  },
  {
   "cell_type": "code",
   "execution_count": 3,
   "id": "157d0da1",
   "metadata": {
    "pycharm": {
     "name": "#%%\n"
    }
   },
   "outputs": [
    {
     "ename": "TypeError",
     "evalue": "Trainer.training_loop() missing 1 required positional argument: 'writer'",
     "output_type": "error",
     "traceback": [
      "\u001b[0;31m---------------------------------------------------------------------------\u001b[0m",
      "\u001b[0;31mTypeError\u001b[0m                                 Traceback (most recent call last)",
      "Input \u001b[0;32mIn [3]\u001b[0m, in \u001b[0;36m<cell line: 8>\u001b[0;34m()\u001b[0m\n\u001b[1;32m      6\u001b[0m smooth_net \u001b[38;5;241m=\u001b[39m Smooth(net, \u001b[38;5;28mlen\u001b[39m(classes), \u001b[38;5;241m.2\u001b[39m, \u001b[38;5;124m'\u001b[39m\u001b[38;5;124mcpu\u001b[39m\u001b[38;5;124m'\u001b[39m, \u001b[38;5;241m10\u001b[39m, batch_size)\n\u001b[1;32m      7\u001b[0m smooth_net_trainer \u001b[38;5;241m=\u001b[39m Trainer(smooth_net)\n\u001b[0;32m----> 8\u001b[0m \u001b[43msmooth_net_trainer\u001b[49m\u001b[38;5;241;43m.\u001b[39;49m\u001b[43mtraining_loop\u001b[49m\u001b[43m(\u001b[49m\u001b[38;5;241;43m2\u001b[39;49m\u001b[43m,\u001b[49m\u001b[43m \u001b[49m\u001b[43mtrainloader\u001b[49m\u001b[43m,\u001b[49m\u001b[43m \u001b[49m\u001b[43mtestloader\u001b[49m\u001b[43m,\u001b[49m\u001b[43m \u001b[49m\u001b[38;5;124;43m'\u001b[39;49m\u001b[38;5;124;43mcpu\u001b[39;49m\u001b[38;5;124;43m'\u001b[39;49m\u001b[43m,\u001b[49m\u001b[43m \u001b[49m\u001b[43mnn\u001b[49m\u001b[38;5;241;43m.\u001b[39;49m\u001b[43mCrossEntropyLoss\u001b[49m\u001b[43m(\u001b[49m\u001b[43m)\u001b[49m\u001b[43m,\u001b[49m\u001b[43m \u001b[49m\u001b[38;5;241;43m.01\u001b[39;49m\u001b[43m)\u001b[49m\n",
      "\u001b[0;31mTypeError\u001b[0m: Trainer.training_loop() missing 1 required positional argument: 'writer'"
     ]
    }
   ],
   "source": [
    "from smoothing import Smooth\n",
    "from train import Trainer\n",
    "from simple_conv import simple_conv_net\n",
    "\n",
    "net = simple_conv_net()\n",
    "smooth_net = Smooth(net, len(classes), .2, 'cpu', 10, batch_size)\n",
    "smooth_net_trainer = Trainer(smooth_net)\n",
    "smooth_net_trainer.training_loop(2, trainloader, testloader, 'cpu', nn.CrossEntropyLoss(), .01)"
   ]
  },
  {
   "cell_type": "code",
   "execution_count": 4,
   "id": "9bcbe84d",
   "metadata": {
    "pycharm": {
     "name": "#%%\n"
    }
   },
   "outputs": [
    {
     "name": "stderr",
     "output_type": "stream",
     "text": [
      "epoch: 0 | iteration: 3 | progress: [20/50000] (0%) | avg loss: 0.4663 / accuracy :  0.00: : 3it [00:00, 10.18it/s]"
     ]
    },
    {
     "name": "stdout",
     "output_type": "stream",
     "text": [
      "0.0\n",
      "tensor(2.2991, grad_fn=<NllLossBackward0>)\n",
      "2.2991318702697754\n",
      "\n",
      "2.2991318702697754\n",
      "tensor(2.3588, grad_fn=<NllLossBackward0>)\n",
      "2.3587889671325684\n",
      "\n",
      "4.657920837402344\n",
      "tensor(2.3499, grad_fn=<NllLossBackward0>)\n",
      "2.349949359893799\n",
      "\n",
      "7.007870197296143\n",
      "tensor(2.3186, grad_fn=<NllLossBackward0>)\n",
      "2.318613052368164\n",
      "\n"
     ]
    },
    {
     "name": "stderr",
     "output_type": "stream",
     "text": [
      "epoch: 0 | iteration: 7 | progress: [40/50000] (0%) | avg loss: 0.4647 / accuracy :  0.05: : 7it [00:00, 15.52it/s]"
     ]
    },
    {
     "name": "stdout",
     "output_type": "stream",
     "text": [
      "9.326483249664307\n",
      "tensor(2.3793, grad_fn=<NllLossBackward0>)\n",
      "2.3792564868927\n",
      "\n",
      "11.705739736557007\n",
      "tensor(2.2369, grad_fn=<NllLossBackward0>)\n",
      "2.236922025680542\n",
      "\n",
      "13.942661762237549\n",
      "tensor(2.3835, grad_fn=<NllLossBackward0>)\n",
      "2.383483409881592\n",
      "\n",
      "16.32614517211914\n",
      "tensor(2.2601, grad_fn=<NllLossBackward0>)\n",
      "2.2600674629211426\n",
      "\n"
     ]
    },
    {
     "name": "stderr",
     "output_type": "stream",
     "text": [
      "epoch: 0 | iteration: 11 | progress: [60/50000] (0%) | avg loss: 0.4641 / accuracy :  0.08: : 11it [00:00, 17.69it/s]"
     ]
    },
    {
     "name": "stdout",
     "output_type": "stream",
     "text": [
      "18.586212635040283\n",
      "tensor(2.2848, grad_fn=<NllLossBackward0>)\n",
      "2.284759759902954\n",
      "\n",
      "20.870972394943237\n",
      "tensor(2.2992, grad_fn=<NllLossBackward0>)\n",
      "2.2991933822631836\n",
      "\n",
      "23.17016577720642\n",
      "tensor(2.3311, grad_fn=<NllLossBackward0>)\n",
      "2.331112861633301\n",
      "\n",
      "25.50127863883972\n",
      "tensor(2.3435, grad_fn=<NllLossBackward0>)\n",
      "2.3435471057891846\n",
      "\n",
      "27.844825744628906\n"
     ]
    },
    {
     "name": "stderr",
     "output_type": "stream",
     "text": [
      "epoch: 0 | iteration: 15 | progress: [80/50000] (0%) | avg loss: 0.4642 / accuracy :  0.10: : 15it [00:00, 18.69it/s]"
     ]
    },
    {
     "name": "stdout",
     "output_type": "stream",
     "text": [
      "tensor(2.3932, grad_fn=<NllLossBackward0>)\n",
      "2.3932104110717773\n",
      "\n",
      "30.238036155700684\n",
      "tensor(2.2900, grad_fn=<NllLossBackward0>)\n",
      "2.2900025844573975\n",
      "\n",
      "32.52803874015808\n",
      "tensor(2.2815, grad_fn=<NllLossBackward0>)\n",
      "2.281541585922241\n",
      "\n",
      "34.80958032608032\n",
      "tensor(2.3260, grad_fn=<NllLossBackward0>)\n",
      "2.3260416984558105\n",
      "\n"
     ]
    },
    {
     "name": "stderr",
     "output_type": "stream",
     "text": [
      "epoch: 0 | iteration: 19 | progress: [100/50000] (0%) | avg loss: 0.4621 / accuracy :  0.10: : 19it [00:01, 18.08it/s]"
     ]
    },
    {
     "name": "stdout",
     "output_type": "stream",
     "text": [
      "37.13562202453613\n",
      "tensor(2.2956, grad_fn=<NllLossBackward0>)\n",
      "2.2956109046936035\n",
      "\n",
      "39.431232929229736\n",
      "tensor(2.3445, grad_fn=<NllLossBackward0>)\n",
      "2.3445379734039307\n",
      "\n",
      "41.77577090263367\n",
      "tensor(2.2706, grad_fn=<NllLossBackward0>)\n",
      "2.2705655097961426\n",
      "\n",
      "44.04633641242981\n",
      "tensor(2.1654, grad_fn=<NllLossBackward0>)\n",
      "2.165360450744629\n",
      "\n"
     ]
    },
    {
     "name": "stderr",
     "output_type": "stream",
     "text": [
      "epoch: 0 | iteration: 23 | progress: [120/50000] (0%) | avg loss: 0.4632 / accuracy :  0.09: : 23it [00:01, 17.84it/s]"
     ]
    },
    {
     "name": "stdout",
     "output_type": "stream",
     "text": [
      "46.21169686317444\n",
      "tensor(2.2876, grad_fn=<NllLossBackward0>)\n",
      "2.2876100540161133\n",
      "\n",
      "48.49930691719055\n",
      "tensor(2.3166, grad_fn=<NllLossBackward0>)\n",
      "2.3166098594665527\n",
      "\n",
      "50.815916776657104\n",
      "tensor(2.3261, grad_fn=<NllLossBackward0>)\n",
      "2.326096534729004\n",
      "\n",
      "53.14201331138611\n",
      "tensor(2.4389, grad_fn=<NllLossBackward0>)\n",
      "2.438910961151123\n",
      "\n"
     ]
    },
    {
     "name": "stderr",
     "output_type": "stream",
     "text": [
      "epoch: 0 | iteration: 27 | progress: [140/50000] (0%) | avg loss: 0.4639 / accuracy :  0.09: : 27it [00:01, 17.84it/s]"
     ]
    },
    {
     "name": "stdout",
     "output_type": "stream",
     "text": [
      "55.58092427253723\n",
      "tensor(2.3682, grad_fn=<NllLossBackward0>)\n",
      "2.368171215057373\n",
      "\n",
      "57.949095487594604\n",
      "tensor(2.3380, grad_fn=<NllLossBackward0>)\n",
      "2.3379998207092285\n",
      "\n",
      "60.28709530830383\n",
      "tensor(2.3470, grad_fn=<NllLossBackward0>)\n",
      "2.346999406814575\n",
      "\n",
      "62.63409471511841\n",
      "tensor(2.3147, grad_fn=<NllLossBackward0>)\n",
      "2.314732313156128\n",
      "\n"
     ]
    },
    {
     "name": "stderr",
     "output_type": "stream",
     "text": [
      "epoch: 0 | iteration: 31 | progress: [160/50000] (0%) | avg loss: 0.4638 / accuracy :  0.09: : 31it [00:01, 18.05it/s]"
     ]
    },
    {
     "name": "stdout",
     "output_type": "stream",
     "text": [
      "64.94882702827454\n",
      "tensor(2.2969, grad_fn=<NllLossBackward0>)\n",
      "2.296921491622925\n",
      "\n",
      "67.24574851989746\n",
      "tensor(2.1333, grad_fn=<NllLossBackward0>)\n",
      "2.133281946182251\n",
      "\n",
      "69.37903046607971\n",
      "tensor(2.5088, grad_fn=<NllLossBackward0>)\n",
      "2.5087966918945312\n",
      "\n",
      "71.88782715797424\n",
      "tensor(2.3278, grad_fn=<NllLossBackward0>)\n",
      "2.3278017044067383\n",
      "\n"
     ]
    },
    {
     "name": "stderr",
     "output_type": "stream",
     "text": [
      "epoch: 0 | iteration: 35 | progress: [180/50000] (0%) | avg loss: 0.4644 / accuracy :  0.09: : 35it [00:02, 17.91it/s]"
     ]
    },
    {
     "name": "stdout",
     "output_type": "stream",
     "text": [
      "74.21562886238098\n",
      "tensor(2.2490, grad_fn=<NllLossBackward0>)\n",
      "2.249018430709839\n",
      "\n",
      "76.46464729309082\n",
      "tensor(2.4461, grad_fn=<NllLossBackward0>)\n",
      "2.4461288452148438\n",
      "\n",
      "78.91077613830566\n",
      "tensor(2.3940, grad_fn=<NllLossBackward0>)\n",
      "2.393995761871338\n",
      "\n",
      "81.304771900177\n",
      "tensor(2.2873, grad_fn=<NllLossBackward0>)\n",
      "2.2873387336730957\n",
      "\n"
     ]
    },
    {
     "name": "stderr",
     "output_type": "stream",
     "text": [
      "epoch: 0 | iteration: 39 | progress: [200/50000] (0%) | avg loss: 0.4650 / accuracy :  0.09: : 39it [00:02, 17.60it/s]"
     ]
    },
    {
     "name": "stdout",
     "output_type": "stream",
     "text": [
      "83.5921106338501\n",
      "tensor(2.3720, grad_fn=<NllLossBackward0>)\n",
      "2.372040271759033\n",
      "\n",
      "85.96415090560913\n",
      "tensor(2.2691, grad_fn=<NllLossBackward0>)\n",
      "2.2690589427948\n",
      "\n",
      "88.23320984840393\n",
      "tensor(2.4378, grad_fn=<NllLossBackward0>)\n",
      "2.4378273487091064\n",
      "\n",
      "90.67103719711304\n",
      "tensor(2.3198, grad_fn=<NllLossBackward0>)\n",
      "2.3197860717773438\n",
      "\n"
     ]
    },
    {
     "name": "stderr",
     "output_type": "stream",
     "text": [
      "epoch: 0 | iteration: 43 | progress: [220/50000] (0%) | avg loss: 0.4652 / accuracy :  0.08: : 43it [00:02, 17.51it/s]"
     ]
    },
    {
     "name": "stdout",
     "output_type": "stream",
     "text": [
      "92.99082326889038\n",
      "tensor(2.3518, grad_fn=<NllLossBackward0>)\n",
      "2.351832866668701\n",
      "\n",
      "95.34265613555908\n",
      "tensor(2.2466, grad_fn=<NllLossBackward0>)\n",
      "2.2465548515319824\n",
      "\n",
      "97.58921098709106\n",
      "tensor(2.3408, grad_fn=<NllLossBackward0>)\n",
      "2.340808391571045\n",
      "\n",
      "99.93001937866211\n",
      "tensor(2.4223, grad_fn=<NllLossBackward0>)\n",
      "2.4222869873046875\n",
      "\n"
     ]
    },
    {
     "name": "stderr",
     "output_type": "stream",
     "text": [
      "epoch: 0 | iteration: 47 | progress: [240/50000] (0%) | avg loss: 0.4680 / accuracy :  0.08: : 47it [00:02, 17.27it/s]"
     ]
    },
    {
     "name": "stdout",
     "output_type": "stream",
     "text": [
      "102.3523063659668\n",
      "tensor(2.4360, grad_fn=<NllLossBackward0>)\n",
      "2.43595552444458\n",
      "\n",
      "104.78826189041138\n",
      "tensor(2.5084, grad_fn=<NllLossBackward0>)\n",
      "2.5084166526794434\n",
      "\n",
      "107.29667854309082\n",
      "tensor(2.5361, grad_fn=<NllLossBackward0>)\n",
      "2.5360870361328125\n",
      "\n",
      "109.83276557922363\n",
      "tensor(2.4960, grad_fn=<NllLossBackward0>)\n",
      "2.495985746383667\n",
      "\n"
     ]
    },
    {
     "name": "stderr",
     "output_type": "stream",
     "text": [
      "epoch: 0 | iteration: 51 | progress: [260/50000] (1%) | avg loss: 0.4683 / accuracy :  0.09: : 51it [00:03, 17.58it/s]"
     ]
    },
    {
     "name": "stdout",
     "output_type": "stream",
     "text": [
      "112.3287513256073\n",
      "tensor(2.2416, grad_fn=<NllLossBackward0>)\n",
      "2.241645336151123\n",
      "\n",
      "114.57039666175842\n",
      "tensor(2.0984, grad_fn=<NllLossBackward0>)\n",
      "2.0983757972717285\n",
      "\n",
      "116.66877245903015\n",
      "tensor(2.5852, grad_fn=<NllLossBackward0>)\n",
      "2.585197925567627\n",
      "\n",
      "119.25397038459778\n",
      "tensor(2.5145, grad_fn=<NllLossBackward0>)\n",
      "2.5145232677459717\n",
      "\n"
     ]
    },
    {
     "name": "stderr",
     "output_type": "stream",
     "text": [
      "epoch: 0 | iteration: 55 | progress: [280/50000] (1%) | avg loss: 92.2485 / accuracy :  0.09: : 55it [00:03, 18.53it/s]"
     ]
    },
    {
     "name": "stdout",
     "output_type": "stream",
     "text": [
      "121.76849365234375\n",
      "tensor(2.1660, grad_fn=<NllLossBackward0>)\n",
      "2.1660380363464355\n",
      "\n",
      "123.93453168869019\n",
      "tensor(3.0953, grad_fn=<NllLossBackward0>)\n",
      "3.095315933227539\n",
      "\n",
      "127.02984762191772\n",
      "tensor(19.6205, grad_fn=<NllLossBackward0>)\n",
      "19.620479583740234\n",
      "\n",
      "146.65032720565796\n",
      "tensor(25682.9160, grad_fn=<NllLossBackward0>)\n",
      "25682.916015625\n",
      "\n",
      "25829.566342830658\n"
     ]
    },
    {
     "name": "stderr",
     "output_type": "stream",
     "text": [
      "epoch: 0 | iteration: 59 | progress: [300/50000] (1%) | avg loss: nan / accuracy :  0.09: : 60it [00:03, 18.67it/s]                "
     ]
    },
    {
     "name": "stdout",
     "output_type": "stream",
     "text": [
      "tensor(2.2987e+16, grad_fn=<NllLossBackward0>)\n",
      "2.2986712212832256e+16\n",
      "\n",
      "2.2986712212858084e+16\n",
      "tensor(nan, grad_fn=<NllLossBackward0>)\n",
      "nan\n",
      "\n",
      "nan\n",
      "tensor(nan, grad_fn=<NllLossBackward0>)\n",
      "nan\n",
      "\n",
      "nan\n",
      "tensor(nan, grad_fn=<NllLossBackward0>)\n",
      "nan\n",
      "\n"
     ]
    },
    {
     "name": "stderr",
     "output_type": "stream",
     "text": [
      "epoch: 0 | iteration: 63 | progress: [320/50000] (1%) | avg loss: nan / accuracy :  0.09: : 64it [00:03, 18.62it/s]"
     ]
    },
    {
     "name": "stdout",
     "output_type": "stream",
     "text": [
      "nan\n",
      "tensor(nan, grad_fn=<NllLossBackward0>)\n",
      "nan\n",
      "\n",
      "nan\n",
      "tensor(nan, grad_fn=<NllLossBackward0>)\n",
      "nan\n",
      "\n",
      "nan\n",
      "tensor(nan, grad_fn=<NllLossBackward0>)\n",
      "nan\n",
      "\n",
      "nan\n",
      "tensor(nan, grad_fn=<NllLossBackward0>)\n",
      "nan\n",
      "\n"
     ]
    },
    {
     "name": "stderr",
     "output_type": "stream",
     "text": [
      "epoch: 0 | iteration: 67 | progress: [340/50000] (1%) | avg loss: nan / accuracy :  0.09: : 68it [00:03, 18.85it/s]"
     ]
    },
    {
     "name": "stdout",
     "output_type": "stream",
     "text": [
      "nan\n",
      "tensor(nan, grad_fn=<NllLossBackward0>)\n",
      "nan\n",
      "\n",
      "nan\n",
      "tensor(nan, grad_fn=<NllLossBackward0>)\n",
      "nan\n",
      "\n",
      "nan\n",
      "tensor(nan, grad_fn=<NllLossBackward0>)\n",
      "nan\n",
      "\n",
      "nan\n",
      "tensor(nan, grad_fn=<NllLossBackward0>)\n",
      "nan\n",
      "\n"
     ]
    },
    {
     "name": "stderr",
     "output_type": "stream",
     "text": [
      "epoch: 0 | iteration: 71 | progress: [360/50000] (1%) | avg loss: nan / accuracy :  0.09: : 72it [00:04, 18.37it/s]"
     ]
    },
    {
     "name": "stdout",
     "output_type": "stream",
     "text": [
      "nan\n",
      "tensor(nan, grad_fn=<NllLossBackward0>)\n",
      "nan\n",
      "\n",
      "nan\n",
      "tensor(nan, grad_fn=<NllLossBackward0>)\n",
      "nan\n",
      "\n",
      "nan\n",
      "tensor(nan, grad_fn=<NllLossBackward0>)\n",
      "nan\n",
      "\n",
      "nan\n",
      "tensor(nan, grad_fn=<NllLossBackward0>)\n",
      "nan\n",
      "\n"
     ]
    },
    {
     "name": "stderr",
     "output_type": "stream",
     "text": [
      "epoch: 0 | iteration: 75 | progress: [380/50000] (1%) | avg loss: nan / accuracy :  0.09: : 76it [00:04, 18.21it/s]"
     ]
    },
    {
     "name": "stdout",
     "output_type": "stream",
     "text": [
      "nan\n",
      "tensor(nan, grad_fn=<NllLossBackward0>)\n",
      "nan\n",
      "\n",
      "nan\n",
      "tensor(nan, grad_fn=<NllLossBackward0>)\n",
      "nan\n",
      "\n",
      "nan\n",
      "tensor(nan, grad_fn=<NllLossBackward0>)\n",
      "nan\n",
      "\n",
      "nan\n",
      "tensor(nan, grad_fn=<NllLossBackward0>)\n",
      "nan\n",
      "\n"
     ]
    },
    {
     "name": "stderr",
     "output_type": "stream",
     "text": [
      "epoch: 0 | iteration: 79 | progress: [400/50000] (1%) | avg loss: nan / accuracy :  0.09: : 80it [00:04, 18.42it/s]"
     ]
    },
    {
     "name": "stdout",
     "output_type": "stream",
     "text": [
      "nan\n",
      "tensor(nan, grad_fn=<NllLossBackward0>)\n",
      "nan\n",
      "\n",
      "nan\n",
      "tensor(nan, grad_fn=<NllLossBackward0>)\n",
      "nan\n",
      "\n",
      "nan\n",
      "tensor(nan, grad_fn=<NllLossBackward0>)\n",
      "nan\n",
      "\n",
      "nan\n",
      "tensor(nan, grad_fn=<NllLossBackward0>)\n",
      "nan\n",
      "\n"
     ]
    },
    {
     "name": "stderr",
     "output_type": "stream",
     "text": [
      "epoch: 0 | iteration: 84 | progress: [425/50000] (1%) | avg loss: nan / accuracy :  0.09: : 85it [00:04, 19.39it/s]"
     ]
    },
    {
     "name": "stdout",
     "output_type": "stream",
     "text": [
      "nan\n",
      "tensor(nan, grad_fn=<NllLossBackward0>)\n",
      "nan\n",
      "\n",
      "nan\n",
      "tensor(nan, grad_fn=<NllLossBackward0>)\n",
      "nan\n",
      "\n",
      "nan\n",
      "tensor(nan, grad_fn=<NllLossBackward0>)\n",
      "nan\n",
      "\n",
      "nan\n",
      "tensor(nan, grad_fn=<NllLossBackward0>)\n",
      "nan\n",
      "\n",
      "nan\n",
      "tensor(nan, grad_fn=<NllLossBackward0>)\n",
      "nan\n",
      "\n"
     ]
    },
    {
     "name": "stderr",
     "output_type": "stream",
     "text": [
      "epoch: 0 | iteration: 88 | progress: [445/50000] (1%) | avg loss: nan / accuracy :  0.09: : 89it [00:05, 18.49it/s]"
     ]
    },
    {
     "name": "stdout",
     "output_type": "stream",
     "text": [
      "nan\n",
      "tensor(nan, grad_fn=<NllLossBackward0>)\n",
      "nan\n",
      "\n",
      "nan\n",
      "tensor(nan, grad_fn=<NllLossBackward0>)\n",
      "nan\n",
      "\n",
      "nan\n",
      "tensor(nan, grad_fn=<NllLossBackward0>)\n",
      "nan\n",
      "\n",
      "nan\n",
      "tensor(nan, grad_fn=<NllLossBackward0>)\n",
      "nan\n",
      "\n"
     ]
    },
    {
     "name": "stderr",
     "output_type": "stream",
     "text": [
      "epoch: 0 | iteration: 92 | progress: [465/50000] (1%) | avg loss: nan / accuracy :  0.08: : 93it [00:05, 18.22it/s]"
     ]
    },
    {
     "name": "stdout",
     "output_type": "stream",
     "text": [
      "nan\n",
      "tensor(nan, grad_fn=<NllLossBackward0>)\n",
      "nan\n",
      "\n",
      "nan\n",
      "tensor(nan, grad_fn=<NllLossBackward0>)\n",
      "nan\n",
      "\n",
      "nan\n",
      "tensor(nan, grad_fn=<NllLossBackward0>)\n",
      "nan\n",
      "\n",
      "nan\n",
      "tensor(nan, grad_fn=<NllLossBackward0>)\n",
      "nan\n",
      "\n"
     ]
    },
    {
     "name": "stderr",
     "output_type": "stream",
     "text": [
      "epoch: 0 | iteration: 96 | progress: [485/50000] (1%) | avg loss: nan / accuracy :  0.08: : 97it [00:05, 18.21it/s]"
     ]
    },
    {
     "name": "stdout",
     "output_type": "stream",
     "text": [
      "nan\n",
      "tensor(nan, grad_fn=<NllLossBackward0>)\n",
      "nan\n",
      "\n",
      "nan\n",
      "tensor(nan, grad_fn=<NllLossBackward0>)\n",
      "nan\n",
      "\n",
      "nan\n",
      "tensor(nan, grad_fn=<NllLossBackward0>)\n",
      "nan\n",
      "\n",
      "nan\n",
      "tensor(nan, grad_fn=<NllLossBackward0>)\n",
      "nan\n",
      "\n"
     ]
    },
    {
     "name": "stderr",
     "output_type": "stream",
     "text": [
      "epoch: 0 | iteration: 101 | progress: [510/50000] (1%) | avg loss: nan / accuracy :  0.08: : 102it [00:05, 19.35it/s]"
     ]
    },
    {
     "name": "stdout",
     "output_type": "stream",
     "text": [
      "nan\n",
      "tensor(nan, grad_fn=<NllLossBackward0>)\n",
      "nan\n",
      "\n",
      "nan\n",
      "tensor(nan, grad_fn=<NllLossBackward0>)\n",
      "nan\n",
      "\n",
      "nan\n",
      "tensor(nan, grad_fn=<NllLossBackward0>)\n",
      "nan\n",
      "\n",
      "nan\n",
      "tensor(nan, grad_fn=<NllLossBackward0>)\n",
      "nan\n",
      "\n",
      "nan\n",
      "tensor(nan, grad_fn=<NllLossBackward0>)\n",
      "nan\n",
      "\n"
     ]
    },
    {
     "name": "stderr",
     "output_type": "stream",
     "text": [
      "epoch: 0 | iteration: 105 | progress: [530/50000] (1%) | avg loss: nan / accuracy :  0.08: : 104it [00:05, 19.22it/s]"
     ]
    },
    {
     "name": "stdout",
     "output_type": "stream",
     "text": [
      "nan\n",
      "tensor(nan, grad_fn=<NllLossBackward0>)\n",
      "nan\n",
      "\n",
      "nan\n",
      "tensor(nan, grad_fn=<NllLossBackward0>)\n",
      "nan\n",
      "\n",
      "nan\n",
      "tensor(nan, grad_fn=<NllLossBackward0>)\n",
      "nan\n",
      "\n",
      "nan\n",
      "tensor(nan, grad_fn=<NllLossBackward0>)\n",
      "nan\n",
      "\n",
      "nan\n"
     ]
    },
    {
     "name": "stderr",
     "output_type": "stream",
     "text": [
      "epoch: 0 | iteration: 110 | progress: [555/50000] (1%) | avg loss: nan / accuracy :  0.08: : 110it [00:06, 20.14it/s]"
     ]
    },
    {
     "name": "stdout",
     "output_type": "stream",
     "text": [
      "tensor(nan, grad_fn=<NllLossBackward0>)\n",
      "nan\n",
      "\n",
      "nan\n",
      "tensor(nan, grad_fn=<NllLossBackward0>)\n",
      "nan\n",
      "\n",
      "nan\n",
      "tensor(nan, grad_fn=<NllLossBackward0>)\n",
      "nan\n",
      "\n",
      "nan\n",
      "tensor(nan, grad_fn=<NllLossBackward0>)\n",
      "nan\n",
      "\n",
      "nan\n",
      "tensor(nan, grad_fn=<NllLossBackward0>)\n",
      "nan\n",
      "\n"
     ]
    },
    {
     "name": "stderr",
     "output_type": "stream",
     "text": [
      "epoch: 0 | iteration: 114 | progress: [575/50000] (1%) | avg loss: nan / accuracy :  0.08: : 113it [00:06, 20.23it/s]"
     ]
    },
    {
     "name": "stdout",
     "output_type": "stream",
     "text": [
      "nan\n",
      "tensor(nan, grad_fn=<NllLossBackward0>)\n",
      "nan\n",
      "\n",
      "nan\n",
      "tensor(nan, grad_fn=<NllLossBackward0>)\n",
      "nan\n",
      "\n",
      "nan\n",
      "tensor(nan, grad_fn=<NllLossBackward0>)\n",
      "nan\n",
      "\n",
      "nan\n",
      "tensor(nan, grad_fn=<NllLossBackward0>)\n",
      "nan\n",
      "\n",
      "nan\n"
     ]
    },
    {
     "name": "stderr",
     "output_type": "stream",
     "text": [
      "epoch: 0 | iteration: 119 | progress: [600/50000] (1%) | avg loss: nan / accuracy :  0.08: : 119it [00:06, 19.40it/s]"
     ]
    },
    {
     "name": "stdout",
     "output_type": "stream",
     "text": [
      "tensor(nan, grad_fn=<NllLossBackward0>)\n",
      "nan\n",
      "\n",
      "nan\n",
      "tensor(nan, grad_fn=<NllLossBackward0>)\n",
      "nan\n",
      "\n",
      "nan\n",
      "tensor(nan, grad_fn=<NllLossBackward0>)\n",
      "nan\n",
      "\n",
      "nan\n",
      "tensor(nan, grad_fn=<NllLossBackward0>)\n",
      "nan\n",
      "\n",
      "nan\n",
      "tensor(nan, grad_fn=<NllLossBackward0>)\n",
      "nan\n",
      "\n"
     ]
    },
    {
     "name": "stderr",
     "output_type": "stream",
     "text": [
      "epoch: 0 | iteration: 123 | progress: [620/50000] (1%) | avg loss: nan / accuracy :  0.08: : 123it [00:06, 19.08it/s]"
     ]
    },
    {
     "name": "stdout",
     "output_type": "stream",
     "text": [
      "nan\n",
      "tensor(nan, grad_fn=<NllLossBackward0>)\n",
      "nan\n",
      "\n",
      "nan\n",
      "tensor(nan, grad_fn=<NllLossBackward0>)\n",
      "nan\n",
      "\n",
      "nan\n",
      "tensor(nan, grad_fn=<NllLossBackward0>)\n",
      "nan\n",
      "\n",
      "nan\n",
      "tensor(nan, grad_fn=<NllLossBackward0>)\n",
      "nan\n",
      "\n"
     ]
    },
    {
     "name": "stderr",
     "output_type": "stream",
     "text": [
      "epoch: 0 | iteration: 127 | progress: [640/50000] (1%) | avg loss: nan / accuracy :  0.08: : 127it [00:07, 18.91it/s]"
     ]
    },
    {
     "name": "stdout",
     "output_type": "stream",
     "text": [
      "nan\n",
      "tensor(nan, grad_fn=<NllLossBackward0>)\n",
      "nan\n",
      "\n",
      "nan\n",
      "tensor(nan, grad_fn=<NllLossBackward0>)\n",
      "nan\n",
      "\n",
      "nan\n",
      "tensor(nan, grad_fn=<NllLossBackward0>)\n",
      "nan\n",
      "\n",
      "nan\n",
      "tensor(nan, grad_fn=<NllLossBackward0>)\n",
      "nan\n",
      "\n"
     ]
    },
    {
     "name": "stderr",
     "output_type": "stream",
     "text": [
      "epoch: 0 | iteration: 131 | progress: [660/50000] (1%) | avg loss: nan / accuracy :  0.08: : 132it [00:07, 19.26it/s]"
     ]
    },
    {
     "name": "stdout",
     "output_type": "stream",
     "text": [
      "nan\n",
      "tensor(nan, grad_fn=<NllLossBackward0>)\n",
      "nan\n",
      "\n",
      "nan\n",
      "tensor(nan, grad_fn=<NllLossBackward0>)\n",
      "nan\n",
      "\n",
      "nan\n",
      "tensor(nan, grad_fn=<NllLossBackward0>)\n",
      "nan\n",
      "\n",
      "nan\n",
      "tensor(nan, grad_fn=<NllLossBackward0>)\n",
      "nan\n",
      "\n"
     ]
    },
    {
     "name": "stderr",
     "output_type": "stream",
     "text": [
      "epoch: 0 | iteration: 135 | progress: [680/50000] (1%) | avg loss: nan / accuracy :  0.08: : 134it [00:07, 18.92it/s]"
     ]
    },
    {
     "name": "stdout",
     "output_type": "stream",
     "text": [
      "nan\n",
      "tensor(nan, grad_fn=<NllLossBackward0>)\n",
      "nan\n",
      "\n",
      "nan\n",
      "tensor(nan, grad_fn=<NllLossBackward0>)\n",
      "nan\n",
      "\n",
      "nan\n",
      "tensor(nan, grad_fn=<NllLossBackward0>)\n",
      "nan\n",
      "\n",
      "nan\n",
      "tensor(nan, grad_fn=<NllLossBackward0>)\n",
      "nan\n",
      "\n"
     ]
    },
    {
     "name": "stderr",
     "output_type": "stream",
     "text": [
      "epoch: 0 | iteration: 139 | progress: [700/50000] (1%) | avg loss: nan / accuracy :  0.08: : 139it [00:07, 19.00it/s]"
     ]
    },
    {
     "name": "stdout",
     "output_type": "stream",
     "text": [
      "nan\n",
      "tensor(nan, grad_fn=<NllLossBackward0>)\n",
      "nan\n",
      "\n",
      "nan\n",
      "tensor(nan, grad_fn=<NllLossBackward0>)\n",
      "nan\n",
      "\n",
      "nan\n",
      "tensor(nan, grad_fn=<NllLossBackward0>)\n",
      "nan\n",
      "\n",
      "nan\n",
      "tensor(nan, grad_fn=<NllLossBackward0>)\n",
      "nan\n",
      "\n"
     ]
    },
    {
     "name": "stderr",
     "output_type": "stream",
     "text": [
      "epoch: 0 | iteration: 143 | progress: [720/50000] (1%) | avg loss: nan / accuracy :  0.08: : 143it [00:07, 18.67it/s]"
     ]
    },
    {
     "name": "stdout",
     "output_type": "stream",
     "text": [
      "nan\n",
      "tensor(nan, grad_fn=<NllLossBackward0>)\n",
      "nan\n",
      "\n",
      "nan\n",
      "tensor(nan, grad_fn=<NllLossBackward0>)\n",
      "nan\n",
      "\n",
      "nan\n",
      "tensor(nan, grad_fn=<NllLossBackward0>)\n",
      "nan\n",
      "\n",
      "nan\n",
      "tensor(nan, grad_fn=<NllLossBackward0>)\n",
      "nan\n",
      "\n"
     ]
    },
    {
     "name": "stderr",
     "output_type": "stream",
     "text": [
      "epoch: 0 | iteration: 147 | progress: [740/50000] (1%) | avg loss: nan / accuracy :  0.08: : 147it [00:08, 18.45it/s]"
     ]
    },
    {
     "name": "stdout",
     "output_type": "stream",
     "text": [
      "nan\n",
      "tensor(nan, grad_fn=<NllLossBackward0>)\n",
      "nan\n",
      "\n",
      "nan\n",
      "tensor(nan, grad_fn=<NllLossBackward0>)\n",
      "nan\n",
      "\n",
      "nan\n",
      "tensor(nan, grad_fn=<NllLossBackward0>)\n",
      "nan\n",
      "\n",
      "nan\n",
      "tensor(nan, grad_fn=<NllLossBackward0>)\n",
      "nan\n",
      "\n"
     ]
    },
    {
     "name": "stderr",
     "output_type": "stream",
     "text": [
      "epoch: 0 | iteration: 152 | progress: [765/50000] (2%) | avg loss: nan / accuracy :  0.08: : 153it [00:08, 19.67it/s]"
     ]
    },
    {
     "name": "stdout",
     "output_type": "stream",
     "text": [
      "nan\n",
      "tensor(nan, grad_fn=<NllLossBackward0>)\n",
      "nan\n",
      "\n",
      "nan\n",
      "tensor(nan, grad_fn=<NllLossBackward0>)\n",
      "nan\n",
      "\n",
      "nan\n",
      "tensor(nan, grad_fn=<NllLossBackward0>)\n",
      "nan\n",
      "\n",
      "nan\n",
      "tensor(nan, grad_fn=<NllLossBackward0>)\n",
      "nan\n",
      "\n",
      "nan\n",
      "tensor(nan, grad_fn=<NllLossBackward0>)\n",
      "nan\n",
      "\n"
     ]
    },
    {
     "name": "stderr",
     "output_type": "stream",
     "text": [
      "epoch: 0 | iteration: 156 | progress: [785/50000] (2%) | avg loss: nan / accuracy :  0.08: : 156it [00:08, 19.62it/s]"
     ]
    },
    {
     "name": "stdout",
     "output_type": "stream",
     "text": [
      "nan\n",
      "tensor(nan, grad_fn=<NllLossBackward0>)\n",
      "nan\n",
      "\n",
      "nan\n",
      "tensor(nan, grad_fn=<NllLossBackward0>)\n",
      "nan\n",
      "\n",
      "nan\n",
      "tensor(nan, grad_fn=<NllLossBackward0>)\n",
      "nan\n",
      "\n",
      "nan\n",
      "tensor(nan, grad_fn=<NllLossBackward0>)\n",
      "nan\n",
      "\n",
      "nan\n"
     ]
    },
    {
     "name": "stderr",
     "output_type": "stream",
     "text": [
      "epoch: 0 | iteration: 160 | progress: [805/50000] (2%) | avg loss: nan / accuracy :  0.08: : 161it [00:08, 19.28it/s]"
     ]
    },
    {
     "name": "stdout",
     "output_type": "stream",
     "text": [
      "tensor(nan, grad_fn=<NllLossBackward0>)\n",
      "nan\n",
      "\n",
      "nan\n",
      "tensor(nan, grad_fn=<NllLossBackward0>)\n",
      "nan\n",
      "\n",
      "nan\n",
      "tensor(nan, grad_fn=<NllLossBackward0>)\n",
      "nan\n",
      "\n",
      "nan\n",
      "tensor(nan, grad_fn=<NllLossBackward0>)\n",
      "nan\n",
      "\n"
     ]
    },
    {
     "name": "stderr",
     "output_type": "stream",
     "text": [
      "epoch: 0 | iteration: 164 | progress: [825/50000] (2%) | avg loss: nan / accuracy :  0.08: : 165it [00:08, 18.95it/s]"
     ]
    },
    {
     "name": "stdout",
     "output_type": "stream",
     "text": [
      "nan\n",
      "tensor(nan, grad_fn=<NllLossBackward0>)\n",
      "nan\n",
      "\n",
      "nan\n",
      "tensor(nan, grad_fn=<NllLossBackward0>)\n",
      "nan\n",
      "\n",
      "nan\n",
      "tensor(nan, grad_fn=<NllLossBackward0>)\n",
      "nan\n",
      "\n",
      "nan\n",
      "tensor(nan, grad_fn=<NllLossBackward0>)\n",
      "nan\n",
      "\n"
     ]
    },
    {
     "name": "stderr",
     "output_type": "stream",
     "text": [
      "epoch: 0 | iteration: 168 | progress: [845/50000] (2%) | avg loss: nan / accuracy :  0.08: : 169it [00:09, 18.38it/s]"
     ]
    },
    {
     "name": "stdout",
     "output_type": "stream",
     "text": [
      "nan\n",
      "tensor(nan, grad_fn=<NllLossBackward0>)\n",
      "nan\n",
      "\n",
      "nan\n",
      "tensor(nan, grad_fn=<NllLossBackward0>)\n",
      "nan\n",
      "\n",
      "nan\n",
      "tensor(nan, grad_fn=<NllLossBackward0>)\n",
      "nan\n",
      "\n",
      "nan\n",
      "tensor(nan, grad_fn=<NllLossBackward0>)\n",
      "nan\n",
      "\n"
     ]
    },
    {
     "name": "stderr",
     "output_type": "stream",
     "text": [
      "epoch: 0 | iteration: 172 | progress: [865/50000] (2%) | avg loss: nan / accuracy :  0.08: : 173it [00:09, 18.24it/s]"
     ]
    },
    {
     "name": "stdout",
     "output_type": "stream",
     "text": [
      "nan\n",
      "tensor(nan, grad_fn=<NllLossBackward0>)\n",
      "nan\n",
      "\n",
      "nan\n",
      "tensor(nan, grad_fn=<NllLossBackward0>)\n",
      "nan\n",
      "\n",
      "nan\n",
      "tensor(nan, grad_fn=<NllLossBackward0>)\n",
      "nan\n",
      "\n",
      "nan\n",
      "tensor(nan, grad_fn=<NllLossBackward0>)\n",
      "nan\n",
      "\n"
     ]
    },
    {
     "name": "stderr",
     "output_type": "stream",
     "text": [
      "epoch: 0 | iteration: 176 | progress: [885/50000] (2%) | avg loss: nan / accuracy :  0.08: : 177it [00:09, 18.16it/s]"
     ]
    },
    {
     "name": "stdout",
     "output_type": "stream",
     "text": [
      "nan\n",
      "tensor(nan, grad_fn=<NllLossBackward0>)\n",
      "nan\n",
      "\n",
      "nan\n",
      "tensor(nan, grad_fn=<NllLossBackward0>)\n",
      "nan\n",
      "\n",
      "nan\n",
      "tensor(nan, grad_fn=<NllLossBackward0>)\n",
      "nan\n",
      "\n",
      "nan\n",
      "tensor(nan, grad_fn=<NllLossBackward0>)\n",
      "nan\n",
      "\n"
     ]
    },
    {
     "name": "stderr",
     "output_type": "stream",
     "text": [
      "epoch: 0 | iteration: 180 | progress: [905/50000] (2%) | avg loss: nan / accuracy :  0.08: : 179it [00:09, 18.22it/s]"
     ]
    },
    {
     "name": "stdout",
     "output_type": "stream",
     "text": [
      "nan\n",
      "tensor(nan, grad_fn=<NllLossBackward0>)\n",
      "nan\n",
      "\n",
      "nan\n",
      "tensor(nan, grad_fn=<NllLossBackward0>)\n",
      "nan\n",
      "\n",
      "nan\n",
      "tensor(nan, grad_fn=<NllLossBackward0>)\n",
      "nan\n",
      "\n",
      "nan\n",
      "tensor(nan, grad_fn=<NllLossBackward0>)\n",
      "nan\n",
      "\n"
     ]
    },
    {
     "name": "stderr",
     "output_type": "stream",
     "text": [
      "epoch: 0 | iteration: 184 | progress: [925/50000] (2%) | avg loss: nan / accuracy :  0.08: : 184it [00:10, 18.24it/s]"
     ]
    },
    {
     "name": "stdout",
     "output_type": "stream",
     "text": [
      "nan\n",
      "tensor(nan, grad_fn=<NllLossBackward0>)\n",
      "nan\n",
      "\n",
      "nan\n",
      "tensor(nan, grad_fn=<NllLossBackward0>)\n",
      "nan\n",
      "\n",
      "nan\n",
      "tensor(nan, grad_fn=<NllLossBackward0>)\n",
      "nan\n",
      "\n",
      "nan\n",
      "tensor(nan, grad_fn=<NllLossBackward0>)\n",
      "nan\n",
      "\n"
     ]
    },
    {
     "name": "stderr",
     "output_type": "stream",
     "text": [
      "epoch: 0 | iteration: 188 | progress: [945/50000] (2%) | avg loss: nan / accuracy :  0.08: : 188it [00:10, 18.26it/s]"
     ]
    },
    {
     "name": "stdout",
     "output_type": "stream",
     "text": [
      "nan\n",
      "tensor(nan, grad_fn=<NllLossBackward0>)\n",
      "nan\n",
      "\n",
      "nan\n",
      "tensor(nan, grad_fn=<NllLossBackward0>)\n",
      "nan\n",
      "\n",
      "nan\n",
      "tensor(nan, grad_fn=<NllLossBackward0>)\n",
      "nan\n",
      "\n",
      "nan\n",
      "tensor(nan, grad_fn=<NllLossBackward0>)\n",
      "nan\n",
      "\n"
     ]
    },
    {
     "name": "stderr",
     "output_type": "stream",
     "text": [
      "epoch: 0 | iteration: 192 | progress: [965/50000] (2%) | avg loss: nan / accuracy :  0.09: : 192it [00:10, 18.08it/s]"
     ]
    },
    {
     "name": "stdout",
     "output_type": "stream",
     "text": [
      "nan\n",
      "tensor(nan, grad_fn=<NllLossBackward0>)\n",
      "nan\n",
      "\n",
      "nan\n",
      "tensor(nan, grad_fn=<NllLossBackward0>)\n",
      "nan\n",
      "\n",
      "nan\n",
      "tensor(nan, grad_fn=<NllLossBackward0>)\n",
      "nan\n",
      "\n",
      "nan\n",
      "tensor(nan, grad_fn=<NllLossBackward0>)\n",
      "nan\n",
      "\n"
     ]
    },
    {
     "name": "stderr",
     "output_type": "stream",
     "text": [
      "epoch: 0 | iteration: 196 | progress: [985/50000] (2%) | avg loss: nan / accuracy :  0.09: : 196it [00:10, 18.15it/s]"
     ]
    },
    {
     "name": "stdout",
     "output_type": "stream",
     "text": [
      "nan\n",
      "tensor(nan, grad_fn=<NllLossBackward0>)\n",
      "nan\n",
      "\n",
      "nan\n",
      "tensor(nan, grad_fn=<NllLossBackward0>)\n",
      "nan\n",
      "\n",
      "nan\n",
      "tensor(nan, grad_fn=<NllLossBackward0>)\n",
      "nan\n",
      "\n",
      "nan\n",
      "tensor(nan, grad_fn=<NllLossBackward0>)\n",
      "nan\n",
      "\n"
     ]
    },
    {
     "name": "stderr",
     "output_type": "stream",
     "text": [
      "epoch: 0 | iteration: 200 | progress: [1005/50000] (2%) | avg loss: nan / accuracy :  0.09: : 200it [00:10, 18.02it/s]"
     ]
    },
    {
     "name": "stdout",
     "output_type": "stream",
     "text": [
      "nan\n",
      "tensor(nan, grad_fn=<NllLossBackward0>)\n",
      "nan\n",
      "\n",
      "nan\n",
      "tensor(nan, grad_fn=<NllLossBackward0>)\n",
      "nan\n",
      "\n",
      "nan\n",
      "tensor(nan, grad_fn=<NllLossBackward0>)\n",
      "nan\n",
      "\n",
      "nan\n",
      "tensor(nan, grad_fn=<NllLossBackward0>)\n",
      "nan\n",
      "\n"
     ]
    },
    {
     "name": "stderr",
     "output_type": "stream",
     "text": [
      "epoch: 0 | iteration: 204 | progress: [1025/50000] (2%) | avg loss: nan / accuracy :  0.09: : 204it [00:11, 18.21it/s]"
     ]
    },
    {
     "name": "stdout",
     "output_type": "stream",
     "text": [
      "nan\n",
      "tensor(nan, grad_fn=<NllLossBackward0>)\n",
      "nan\n",
      "\n",
      "nan\n",
      "tensor(nan, grad_fn=<NllLossBackward0>)\n",
      "nan\n",
      "\n",
      "nan\n",
      "tensor(nan, grad_fn=<NllLossBackward0>)\n",
      "nan\n",
      "\n",
      "nan\n",
      "tensor(nan, grad_fn=<NllLossBackward0>)\n",
      "nan\n",
      "\n"
     ]
    },
    {
     "name": "stderr",
     "output_type": "stream",
     "text": [
      "epoch: 0 | iteration: 208 | progress: [1045/50000] (2%) | avg loss: nan / accuracy :  0.09: : 208it [00:11, 18.40it/s]"
     ]
    },
    {
     "name": "stdout",
     "output_type": "stream",
     "text": [
      "nan\n",
      "tensor(nan, grad_fn=<NllLossBackward0>)\n",
      "nan\n",
      "\n",
      "nan\n",
      "tensor(nan, grad_fn=<NllLossBackward0>)\n",
      "nan\n",
      "\n",
      "nan\n",
      "tensor(nan, grad_fn=<NllLossBackward0>)\n",
      "nan\n",
      "\n",
      "nan\n",
      "tensor(nan, grad_fn=<NllLossBackward0>)\n",
      "nan\n",
      "\n"
     ]
    },
    {
     "name": "stderr",
     "output_type": "stream",
     "text": [
      "epoch: 0 | iteration: 213 | progress: [1070/50000] (2%) | avg loss: nan / accuracy :  0.09: : 211it [00:11, 18.91it/s]"
     ]
    },
    {
     "name": "stdout",
     "output_type": "stream",
     "text": [
      "nan\n",
      "tensor(nan, grad_fn=<NllLossBackward0>)\n",
      "nan\n",
      "\n",
      "nan\n",
      "tensor(nan, grad_fn=<NllLossBackward0>)\n",
      "nan\n",
      "\n",
      "nan\n",
      "tensor(nan, grad_fn=<NllLossBackward0>)\n",
      "nan\n",
      "\n",
      "nan\n",
      "tensor(nan, grad_fn=<NllLossBackward0>)\n",
      "nan\n",
      "\n",
      "nan\n",
      "tensor(nan, grad_fn=<NllLossBackward0>)\n",
      "nan\n",
      "\n"
     ]
    },
    {
     "name": "stderr",
     "output_type": "stream",
     "text": [
      "epoch: 0 | iteration: 218 | progress: [1095/50000] (2%) | avg loss: nan / accuracy :  0.09: : 217it [00:11, 19.86it/s]"
     ]
    },
    {
     "name": "stdout",
     "output_type": "stream",
     "text": [
      "nan\n",
      "tensor(nan, grad_fn=<NllLossBackward0>)\n",
      "nan\n",
      "\n",
      "nan\n",
      "tensor(nan, grad_fn=<NllLossBackward0>)\n",
      "nan\n",
      "\n",
      "nan\n",
      "tensor(nan, grad_fn=<NllLossBackward0>)\n",
      "nan\n",
      "\n",
      "nan\n",
      "tensor(nan, grad_fn=<NllLossBackward0>)\n",
      "nan\n",
      "\n",
      "nan\n",
      "tensor(nan, grad_fn=<NllLossBackward0>)\n",
      "nan\n",
      "\n"
     ]
    },
    {
     "name": "stderr",
     "output_type": "stream",
     "text": [
      "epoch: 0 | iteration: 223 | progress: [1120/50000] (2%) | avg loss: nan / accuracy :  0.09: : 223it [00:12, 19.89it/s]"
     ]
    },
    {
     "name": "stdout",
     "output_type": "stream",
     "text": [
      "nan\n",
      "tensor(nan, grad_fn=<NllLossBackward0>)\n",
      "nan\n",
      "\n",
      "nan\n",
      "tensor(nan, grad_fn=<NllLossBackward0>)\n",
      "nan\n",
      "\n",
      "nan\n",
      "tensor(nan, grad_fn=<NllLossBackward0>)\n",
      "nan\n",
      "\n",
      "nan\n",
      "tensor(nan, grad_fn=<NllLossBackward0>)\n",
      "nan\n",
      "\n",
      "nan\n",
      "tensor(nan, grad_fn=<NllLossBackward0>)\n",
      "nan\n",
      "\n"
     ]
    },
    {
     "name": "stderr",
     "output_type": "stream",
     "text": [
      "epoch: 0 | iteration: 228 | progress: [1145/50000] (2%) | avg loss: nan / accuracy :  0.09: : 229it [00:12, 20.28it/s]"
     ]
    },
    {
     "name": "stdout",
     "output_type": "stream",
     "text": [
      "nan\n",
      "tensor(nan, grad_fn=<NllLossBackward0>)\n",
      "nan\n",
      "\n",
      "nan\n",
      "tensor(nan, grad_fn=<NllLossBackward0>)\n",
      "nan\n",
      "\n",
      "nan\n",
      "tensor(nan, grad_fn=<NllLossBackward0>)\n",
      "nan\n",
      "\n",
      "nan\n",
      "tensor(nan, grad_fn=<NllLossBackward0>)\n",
      "nan\n",
      "\n",
      "nan\n",
      "tensor(nan, grad_fn=<NllLossBackward0>)\n",
      "nan\n",
      "\n"
     ]
    },
    {
     "name": "stderr",
     "output_type": "stream",
     "text": [
      "epoch: 0 | iteration: 232 | progress: [1165/50000] (2%) | avg loss: nan / accuracy :  0.09: : 232it [00:12, 20.21it/s]"
     ]
    },
    {
     "name": "stdout",
     "output_type": "stream",
     "text": [
      "nan\n",
      "tensor(nan, grad_fn=<NllLossBackward0>)\n",
      "nan\n",
      "\n",
      "nan\n",
      "tensor(nan, grad_fn=<NllLossBackward0>)\n",
      "nan\n",
      "\n",
      "nan\n",
      "tensor(nan, grad_fn=<NllLossBackward0>)\n",
      "nan\n",
      "\n",
      "nan\n",
      "tensor(nan, grad_fn=<NllLossBackward0>)\n",
      "nan\n",
      "\n"
     ]
    },
    {
     "name": "stderr",
     "output_type": "stream",
     "text": [
      "epoch: 0 | iteration: 236 | progress: [1185/50000] (2%) | avg loss: nan / accuracy :  0.09: : 237it [00:12, 19.45it/s]"
     ]
    },
    {
     "name": "stdout",
     "output_type": "stream",
     "text": [
      "nan\n",
      "tensor(nan, grad_fn=<NllLossBackward0>)\n",
      "nan\n",
      "\n",
      "nan\n",
      "tensor(nan, grad_fn=<NllLossBackward0>)\n",
      "nan\n",
      "\n",
      "nan\n",
      "tensor(nan, grad_fn=<NllLossBackward0>)\n",
      "nan\n",
      "\n",
      "nan\n",
      "tensor(nan, grad_fn=<NllLossBackward0>)\n",
      "nan\n",
      "\n"
     ]
    },
    {
     "name": "stderr",
     "output_type": "stream",
     "text": [
      "epoch: 0 | iteration: 240 | progress: [1205/50000] (2%) | avg loss: nan / accuracy :  0.09: : 241it [00:13, 18.76it/s]"
     ]
    },
    {
     "name": "stdout",
     "output_type": "stream",
     "text": [
      "nan\n",
      "tensor(nan, grad_fn=<NllLossBackward0>)\n",
      "nan\n",
      "\n",
      "nan\n",
      "tensor(nan, grad_fn=<NllLossBackward0>)\n",
      "nan\n",
      "\n",
      "nan\n",
      "tensor(nan, grad_fn=<NllLossBackward0>)\n",
      "nan\n",
      "\n",
      "nan\n",
      "tensor(nan, grad_fn=<NllLossBackward0>)\n",
      "nan\n",
      "\n"
     ]
    },
    {
     "name": "stderr",
     "output_type": "stream",
     "text": [
      "epoch: 0 | iteration: 244 | progress: [1225/50000] (2%) | avg loss: nan / accuracy :  0.09: : 245it [00:13, 18.56it/s]"
     ]
    },
    {
     "name": "stdout",
     "output_type": "stream",
     "text": [
      "nan\n",
      "tensor(nan, grad_fn=<NllLossBackward0>)\n",
      "nan\n",
      "\n",
      "nan\n",
      "tensor(nan, grad_fn=<NllLossBackward0>)\n",
      "nan\n",
      "\n",
      "nan\n",
      "tensor(nan, grad_fn=<NllLossBackward0>)\n",
      "nan\n",
      "\n",
      "nan\n",
      "tensor(nan, grad_fn=<NllLossBackward0>)\n",
      "nan\n",
      "\n"
     ]
    },
    {
     "name": "stderr",
     "output_type": "stream",
     "text": [
      "epoch: 0 | iteration: 248 | progress: [1245/50000] (2%) | avg loss: nan / accuracy :  0.09: : 249it [00:13, 18.49it/s]"
     ]
    },
    {
     "name": "stdout",
     "output_type": "stream",
     "text": [
      "nan\n",
      "tensor(nan, grad_fn=<NllLossBackward0>)\n",
      "nan\n",
      "\n",
      "nan\n",
      "tensor(nan, grad_fn=<NllLossBackward0>)\n",
      "nan\n",
      "\n",
      "nan\n",
      "tensor(nan, grad_fn=<NllLossBackward0>)\n",
      "nan\n",
      "\n",
      "nan\n",
      "tensor(nan, grad_fn=<NllLossBackward0>)\n",
      "nan\n",
      "\n"
     ]
    },
    {
     "name": "stderr",
     "output_type": "stream",
     "text": [
      "epoch: 0 | iteration: 252 | progress: [1265/50000] (3%) | avg loss: nan / accuracy :  0.09: : 251it [00:13, 18.46it/s]"
     ]
    },
    {
     "name": "stdout",
     "output_type": "stream",
     "text": [
      "nan\n",
      "tensor(nan, grad_fn=<NllLossBackward0>)\n",
      "nan\n",
      "\n",
      "nan\n",
      "tensor(nan, grad_fn=<NllLossBackward0>)\n",
      "nan\n",
      "\n",
      "nan\n",
      "tensor(nan, grad_fn=<NllLossBackward0>)\n",
      "nan\n",
      "\n",
      "nan\n",
      "tensor(nan, grad_fn=<NllLossBackward0>)\n",
      "nan\n",
      "\n",
      "nan\n"
     ]
    },
    {
     "name": "stderr",
     "output_type": "stream",
     "text": [
      "epoch: 0 | iteration: 256 | progress: [1285/50000] (3%) | avg loss: nan / accuracy :  0.10: : 256it [00:13, 19.20it/s]"
     ]
    },
    {
     "name": "stdout",
     "output_type": "stream",
     "text": [
      "tensor(nan, grad_fn=<NllLossBackward0>)\n",
      "nan\n",
      "\n",
      "nan\n",
      "tensor(nan, grad_fn=<NllLossBackward0>)\n",
      "nan\n",
      "\n",
      "nan\n",
      "tensor(nan, grad_fn=<NllLossBackward0>)\n",
      "nan\n",
      "\n",
      "nan\n",
      "tensor(nan, grad_fn=<NllLossBackward0>)\n",
      "nan\n",
      "\n",
      "nan\n"
     ]
    },
    {
     "name": "stderr",
     "output_type": "stream",
     "text": [
      "epoch: 0 | iteration: 260 | progress: [1305/50000] (3%) | avg loss: nan / accuracy :  0.10: : 261it [00:14, 19.31it/s]"
     ]
    },
    {
     "name": "stdout",
     "output_type": "stream",
     "text": [
      "tensor(nan, grad_fn=<NllLossBackward0>)\n",
      "nan\n",
      "\n",
      "nan\n",
      "tensor(nan, grad_fn=<NllLossBackward0>)\n",
      "nan\n",
      "\n",
      "nan\n",
      "tensor(nan, grad_fn=<NllLossBackward0>)\n",
      "nan\n",
      "\n",
      "nan\n",
      "tensor(nan, grad_fn=<NllLossBackward0>)\n",
      "nan\n",
      "\n"
     ]
    },
    {
     "name": "stderr",
     "output_type": "stream",
     "text": [
      "epoch: 0 | iteration: 264 | progress: [1325/50000] (3%) | avg loss: nan / accuracy :  0.10: : 263it [00:14, 18.83it/s]"
     ]
    },
    {
     "name": "stdout",
     "output_type": "stream",
     "text": [
      "nan\n",
      "tensor(nan, grad_fn=<NllLossBackward0>)\n",
      "nan\n",
      "\n",
      "nan\n",
      "tensor(nan, grad_fn=<NllLossBackward0>)\n",
      "nan\n",
      "\n",
      "nan\n",
      "tensor(nan, grad_fn=<NllLossBackward0>)\n",
      "nan\n",
      "\n",
      "nan\n",
      "tensor(nan, grad_fn=<NllLossBackward0>)\n",
      "nan\n",
      "\n"
     ]
    },
    {
     "name": "stderr",
     "output_type": "stream",
     "text": [
      "epoch: 0 | iteration: 268 | progress: [1345/50000] (3%) | avg loss: nan / accuracy :  0.10: : 268it [00:14, 19.44it/s]"
     ]
    },
    {
     "name": "stdout",
     "output_type": "stream",
     "text": [
      "nan\n",
      "tensor(nan, grad_fn=<NllLossBackward0>)\n",
      "nan\n",
      "\n",
      "nan\n",
      "tensor(nan, grad_fn=<NllLossBackward0>)\n",
      "nan\n",
      "\n",
      "nan\n",
      "tensor(nan, grad_fn=<NllLossBackward0>)\n",
      "nan\n",
      "\n",
      "nan\n",
      "tensor(nan, grad_fn=<NllLossBackward0>)\n",
      "nan\n",
      "\n",
      "nan\n"
     ]
    },
    {
     "name": "stderr",
     "output_type": "stream",
     "text": [
      "epoch: 0 | iteration: 272 | progress: [1365/50000] (3%) | avg loss: nan / accuracy :  0.10: : 273it [00:14, 18.98it/s]"
     ]
    },
    {
     "name": "stdout",
     "output_type": "stream",
     "text": [
      "tensor(nan, grad_fn=<NllLossBackward0>)\n",
      "nan\n",
      "\n",
      "nan\n",
      "tensor(nan, grad_fn=<NllLossBackward0>)\n",
      "nan\n",
      "\n",
      "nan\n",
      "tensor(nan, grad_fn=<NllLossBackward0>)\n",
      "nan\n",
      "\n",
      "nan\n",
      "tensor(nan, grad_fn=<NllLossBackward0>)\n",
      "nan\n",
      "\n"
     ]
    },
    {
     "name": "stderr",
     "output_type": "stream",
     "text": [
      "epoch: 0 | iteration: 276 | progress: [1385/50000] (3%) | avg loss: nan / accuracy :  0.10: : 277it [00:14, 18.85it/s]"
     ]
    },
    {
     "name": "stdout",
     "output_type": "stream",
     "text": [
      "nan\n",
      "tensor(nan, grad_fn=<NllLossBackward0>)\n",
      "nan\n",
      "\n",
      "nan\n",
      "tensor(nan, grad_fn=<NllLossBackward0>)\n",
      "nan\n",
      "\n",
      "nan\n",
      "tensor(nan, grad_fn=<NllLossBackward0>)\n",
      "nan\n",
      "\n",
      "nan\n",
      "tensor(nan, grad_fn=<NllLossBackward0>)\n",
      "nan\n",
      "\n"
     ]
    },
    {
     "name": "stderr",
     "output_type": "stream",
     "text": [
      "epoch: 0 | iteration: 280 | progress: [1405/50000] (3%) | avg loss: nan / accuracy :  0.10: : 281it [00:15, 18.53it/s]"
     ]
    },
    {
     "name": "stdout",
     "output_type": "stream",
     "text": [
      "nan\n",
      "tensor(nan, grad_fn=<NllLossBackward0>)\n",
      "nan\n",
      "\n",
      "nan\n",
      "tensor(nan, grad_fn=<NllLossBackward0>)\n",
      "nan\n",
      "\n",
      "nan\n",
      "tensor(nan, grad_fn=<NllLossBackward0>)\n",
      "nan\n",
      "\n",
      "nan\n",
      "tensor(nan, grad_fn=<NllLossBackward0>)\n",
      "nan\n",
      "\n"
     ]
    },
    {
     "name": "stderr",
     "output_type": "stream",
     "text": [
      "epoch: 0 | iteration: 284 | progress: [1425/50000] (3%) | avg loss: nan / accuracy :  0.10: : 285it [00:15, 18.32it/s]"
     ]
    },
    {
     "name": "stdout",
     "output_type": "stream",
     "text": [
      "nan\n",
      "tensor(nan, grad_fn=<NllLossBackward0>)\n",
      "nan\n",
      "\n",
      "nan\n",
      "tensor(nan, grad_fn=<NllLossBackward0>)\n",
      "nan\n",
      "\n",
      "nan\n",
      "tensor(nan, grad_fn=<NllLossBackward0>)\n",
      "nan\n",
      "\n",
      "nan\n",
      "tensor(nan, grad_fn=<NllLossBackward0>)\n",
      "nan\n",
      "\n"
     ]
    },
    {
     "name": "stderr",
     "output_type": "stream",
     "text": [
      "epoch: 0 | iteration: 288 | progress: [1445/50000] (3%) | avg loss: nan / accuracy :  0.10: : 289it [00:15, 18.38it/s]"
     ]
    },
    {
     "name": "stdout",
     "output_type": "stream",
     "text": [
      "nan\n",
      "tensor(nan, grad_fn=<NllLossBackward0>)\n",
      "nan\n",
      "\n",
      "nan\n",
      "tensor(nan, grad_fn=<NllLossBackward0>)\n",
      "nan\n",
      "\n",
      "nan\n",
      "tensor(nan, grad_fn=<NllLossBackward0>)\n",
      "nan\n",
      "\n",
      "nan\n",
      "tensor(nan, grad_fn=<NllLossBackward0>)\n",
      "nan\n",
      "\n"
     ]
    },
    {
     "name": "stderr",
     "output_type": "stream",
     "text": [
      "epoch: 0 | iteration: 293 | progress: [1470/50000] (3%) | avg loss: nan / accuracy :  0.10: : 292it [00:15, 19.09it/s]"
     ]
    },
    {
     "name": "stdout",
     "output_type": "stream",
     "text": [
      "nan\n",
      "tensor(nan, grad_fn=<NllLossBackward0>)\n",
      "nan\n",
      "\n",
      "nan\n",
      "tensor(nan, grad_fn=<NllLossBackward0>)\n",
      "nan\n",
      "\n",
      "nan\n",
      "tensor(nan, grad_fn=<NllLossBackward0>)\n",
      "nan\n",
      "\n",
      "nan\n",
      "tensor(nan, grad_fn=<NllLossBackward0>)\n",
      "nan\n",
      "\n",
      "nan\n",
      "tensor(nan, grad_fn=<NllLossBackward0>)\n",
      "nan\n",
      "\n"
     ]
    },
    {
     "name": "stderr",
     "output_type": "stream",
     "text": [
      "epoch: 0 | iteration: 297 | progress: [1490/50000] (3%) | avg loss: nan / accuracy :  0.10: : 297it [00:16, 19.09it/s]"
     ]
    },
    {
     "name": "stdout",
     "output_type": "stream",
     "text": [
      "nan\n",
      "tensor(nan, grad_fn=<NllLossBackward0>)\n",
      "nan\n",
      "\n",
      "nan\n",
      "tensor(nan, grad_fn=<NllLossBackward0>)\n",
      "nan\n",
      "\n",
      "nan\n",
      "tensor(nan, grad_fn=<NllLossBackward0>)\n",
      "nan\n",
      "\n",
      "nan\n",
      "tensor(nan, grad_fn=<NllLossBackward0>)\n",
      "nan\n",
      "\n"
     ]
    },
    {
     "name": "stderr",
     "output_type": "stream",
     "text": [
      "epoch: 0 | iteration: 301 | progress: [1510/50000] (3%) | avg loss: nan / accuracy :  0.10: : 301it [00:16, 18.78it/s]"
     ]
    },
    {
     "name": "stdout",
     "output_type": "stream",
     "text": [
      "nan\n",
      "tensor(nan, grad_fn=<NllLossBackward0>)\n",
      "nan\n",
      "\n",
      "nan\n",
      "tensor(nan, grad_fn=<NllLossBackward0>)\n",
      "nan\n",
      "\n",
      "nan\n",
      "tensor(nan, grad_fn=<NllLossBackward0>)\n",
      "nan\n",
      "\n",
      "nan\n",
      "tensor(nan, grad_fn=<NllLossBackward0>)\n",
      "nan\n",
      "\n"
     ]
    },
    {
     "name": "stderr",
     "output_type": "stream",
     "text": [
      "epoch: 0 | iteration: 305 | progress: [1530/50000] (3%) | avg loss: nan / accuracy :  0.10: : 305it [00:16, 18.98it/s]"
     ]
    },
    {
     "name": "stdout",
     "output_type": "stream",
     "text": [
      "nan\n",
      "tensor(nan, grad_fn=<NllLossBackward0>)\n",
      "nan\n",
      "\n",
      "nan\n",
      "tensor(nan, grad_fn=<NllLossBackward0>)\n",
      "nan\n",
      "\n",
      "nan\n",
      "tensor(nan, grad_fn=<NllLossBackward0>)\n",
      "nan\n",
      "\n",
      "nan\n",
      "tensor(nan, grad_fn=<NllLossBackward0>)\n",
      "nan\n",
      "\n"
     ]
    },
    {
     "name": "stderr",
     "output_type": "stream",
     "text": [
      "epoch: 0 | iteration: 309 | progress: [1550/50000] (3%) | avg loss: nan / accuracy :  0.10: : 309it [00:16, 18.69it/s]"
     ]
    },
    {
     "name": "stdout",
     "output_type": "stream",
     "text": [
      "nan\n",
      "tensor(nan, grad_fn=<NllLossBackward0>)\n",
      "nan\n",
      "\n",
      "nan\n",
      "tensor(nan, grad_fn=<NllLossBackward0>)\n",
      "nan\n",
      "\n",
      "nan\n",
      "tensor(nan, grad_fn=<NllLossBackward0>)\n",
      "nan\n",
      "\n",
      "nan\n",
      "tensor(nan, grad_fn=<NllLossBackward0>)\n",
      "nan\n",
      "\n"
     ]
    },
    {
     "name": "stderr",
     "output_type": "stream",
     "text": [
      "epoch: 0 | iteration: 313 | progress: [1570/50000] (3%) | avg loss: nan / accuracy :  0.10: : 313it [00:16, 18.38it/s]"
     ]
    },
    {
     "name": "stdout",
     "output_type": "stream",
     "text": [
      "nan\n",
      "tensor(nan, grad_fn=<NllLossBackward0>)\n",
      "nan\n",
      "\n",
      "nan\n",
      "tensor(nan, grad_fn=<NllLossBackward0>)\n",
      "nan\n",
      "\n",
      "nan\n",
      "tensor(nan, grad_fn=<NllLossBackward0>)\n",
      "nan\n",
      "\n",
      "nan\n",
      "tensor(nan, grad_fn=<NllLossBackward0>)\n",
      "nan\n",
      "\n"
     ]
    },
    {
     "name": "stderr",
     "output_type": "stream",
     "text": [
      "epoch: 0 | iteration: 318 | progress: [1595/50000] (3%) | avg loss: nan / accuracy :  0.10: : 317it [00:17, 18.93it/s]"
     ]
    },
    {
     "name": "stdout",
     "output_type": "stream",
     "text": [
      "nan\n",
      "tensor(nan, grad_fn=<NllLossBackward0>)\n",
      "nan\n",
      "\n",
      "nan\n",
      "tensor(nan, grad_fn=<NllLossBackward0>)\n",
      "nan\n",
      "\n",
      "nan\n",
      "tensor(nan, grad_fn=<NllLossBackward0>)\n",
      "nan\n",
      "\n",
      "nan\n",
      "tensor(nan, grad_fn=<NllLossBackward0>)\n",
      "nan\n",
      "\n",
      "nan\n",
      "tensor(nan, grad_fn=<NllLossBackward0>)\n",
      "nan\n",
      "\n"
     ]
    },
    {
     "name": "stderr",
     "output_type": "stream",
     "text": [
      "epoch: 0 | iteration: 322 | progress: [1615/50000] (3%) | avg loss: nan / accuracy :  0.10: : 322it [00:17, 19.37it/s]"
     ]
    },
    {
     "name": "stdout",
     "output_type": "stream",
     "text": [
      "nan\n",
      "tensor(nan, grad_fn=<NllLossBackward0>)\n",
      "nan\n",
      "\n",
      "nan\n",
      "tensor(nan, grad_fn=<NllLossBackward0>)\n",
      "nan\n",
      "\n",
      "nan\n",
      "tensor(nan, grad_fn=<NllLossBackward0>)\n",
      "nan\n",
      "\n",
      "nan\n",
      "tensor(nan, grad_fn=<NllLossBackward0>)\n",
      "nan\n",
      "\n"
     ]
    },
    {
     "name": "stderr",
     "output_type": "stream",
     "text": [
      "epoch: 0 | iteration: 327 | progress: [1640/50000] (3%) | avg loss: nan / accuracy :  0.10: : 326it [00:17, 19.31it/s]"
     ]
    },
    {
     "name": "stdout",
     "output_type": "stream",
     "text": [
      "nan\n",
      "tensor(nan, grad_fn=<NllLossBackward0>)\n",
      "nan\n",
      "\n",
      "nan\n",
      "tensor(nan, grad_fn=<NllLossBackward0>)\n",
      "nan\n",
      "\n",
      "nan\n",
      "tensor(nan, grad_fn=<NllLossBackward0>)\n",
      "nan\n",
      "\n",
      "nan\n",
      "tensor(nan, grad_fn=<NllLossBackward0>)\n",
      "nan\n",
      "\n",
      "nan\n",
      "tensor(nan, grad_fn=<NllLossBackward0>)\n",
      "nan\n",
      "\n"
     ]
    },
    {
     "name": "stderr",
     "output_type": "stream",
     "text": [
      "epoch: 0 | iteration: 332 | progress: [1665/50000] (3%) | avg loss: nan / accuracy :  0.10: : 332it [00:17, 20.11it/s]"
     ]
    },
    {
     "name": "stdout",
     "output_type": "stream",
     "text": [
      "nan\n",
      "tensor(nan, grad_fn=<NllLossBackward0>)\n",
      "nan\n",
      "\n",
      "nan\n",
      "tensor(nan, grad_fn=<NllLossBackward0>)\n",
      "nan\n",
      "\n",
      "nan\n",
      "tensor(nan, grad_fn=<NllLossBackward0>)\n",
      "nan\n",
      "\n",
      "nan\n",
      "tensor(nan, grad_fn=<NllLossBackward0>)\n",
      "nan\n",
      "\n",
      "nan\n",
      "tensor(nan, grad_fn=<NllLossBackward0>)\n",
      "nan\n",
      "\n"
     ]
    },
    {
     "name": "stderr",
     "output_type": "stream",
     "text": [
      "epoch: 0 | iteration: 337 | progress: [1690/50000] (3%) | avg loss: nan / accuracy :  0.10: : 338it [00:18, 20.34it/s]"
     ]
    },
    {
     "name": "stdout",
     "output_type": "stream",
     "text": [
      "nan\n",
      "tensor(nan, grad_fn=<NllLossBackward0>)\n",
      "nan\n",
      "\n",
      "nan\n",
      "tensor(nan, grad_fn=<NllLossBackward0>)\n",
      "nan\n",
      "\n",
      "nan\n",
      "tensor(nan, grad_fn=<NllLossBackward0>)\n",
      "nan\n",
      "\n",
      "nan\n",
      "tensor(nan, grad_fn=<NllLossBackward0>)\n",
      "nan\n",
      "\n",
      "nan\n",
      "tensor(nan, grad_fn=<NllLossBackward0>)\n",
      "nan\n",
      "\n"
     ]
    },
    {
     "name": "stderr",
     "output_type": "stream",
     "text": [
      "epoch: 0 | iteration: 342 | progress: [1715/50000] (3%) | avg loss: nan / accuracy :  0.10: : 341it [00:18, 20.30it/s]"
     ]
    },
    {
     "name": "stdout",
     "output_type": "stream",
     "text": [
      "nan\n",
      "tensor(nan, grad_fn=<NllLossBackward0>)\n",
      "nan\n",
      "\n",
      "nan\n",
      "tensor(nan, grad_fn=<NllLossBackward0>)\n",
      "nan\n",
      "\n",
      "nan\n",
      "tensor(nan, grad_fn=<NllLossBackward0>)\n",
      "nan\n",
      "\n",
      "nan\n",
      "tensor(nan, grad_fn=<NllLossBackward0>)\n",
      "nan\n",
      "\n",
      "nan\n",
      "tensor(nan, grad_fn=<NllLossBackward0>)\n",
      "nan\n",
      "\n"
     ]
    },
    {
     "name": "stderr",
     "output_type": "stream",
     "text": [
      "epoch: 0 | iteration: 347 | progress: [1740/50000] (3%) | avg loss: nan / accuracy :  0.10: : 347it [00:18, 20.52it/s]"
     ]
    },
    {
     "name": "stdout",
     "output_type": "stream",
     "text": [
      "nan\n",
      "tensor(nan, grad_fn=<NllLossBackward0>)\n",
      "nan\n",
      "\n",
      "nan\n",
      "tensor(nan, grad_fn=<NllLossBackward0>)\n",
      "nan\n",
      "\n",
      "nan\n",
      "tensor(nan, grad_fn=<NllLossBackward0>)\n",
      "nan\n",
      "\n",
      "nan\n",
      "tensor(nan, grad_fn=<NllLossBackward0>)\n",
      "nan\n",
      "\n",
      "nan\n",
      "tensor(nan, grad_fn=<NllLossBackward0>)\n",
      "nan\n",
      "\n"
     ]
    },
    {
     "name": "stderr",
     "output_type": "stream",
     "text": [
      "epoch: 0 | iteration: 352 | progress: [1765/50000] (4%) | avg loss: nan / accuracy :  0.10: : 353it [00:18, 20.40it/s]"
     ]
    },
    {
     "name": "stdout",
     "output_type": "stream",
     "text": [
      "nan\n",
      "tensor(nan, grad_fn=<NllLossBackward0>)\n",
      "nan\n",
      "\n",
      "nan\n",
      "tensor(nan, grad_fn=<NllLossBackward0>)\n",
      "nan\n",
      "\n",
      "nan\n",
      "tensor(nan, grad_fn=<NllLossBackward0>)\n",
      "nan\n",
      "\n",
      "nan\n",
      "tensor(nan, grad_fn=<NllLossBackward0>)\n",
      "nan\n",
      "\n",
      "nan\n",
      "tensor(nan, grad_fn=<NllLossBackward0>)\n",
      "nan\n",
      "\n"
     ]
    },
    {
     "name": "stderr",
     "output_type": "stream",
     "text": [
      "epoch: 0 | iteration: 357 | progress: [1790/50000] (4%) | avg loss: nan / accuracy :  0.10: : 356it [00:19, 20.46it/s]"
     ]
    },
    {
     "name": "stdout",
     "output_type": "stream",
     "text": [
      "nan\n",
      "tensor(nan, grad_fn=<NllLossBackward0>)\n",
      "nan\n",
      "\n",
      "nan\n",
      "tensor(nan, grad_fn=<NllLossBackward0>)\n",
      "nan\n",
      "\n",
      "nan\n",
      "tensor(nan, grad_fn=<NllLossBackward0>)\n",
      "nan\n",
      "\n",
      "nan\n",
      "tensor(nan, grad_fn=<NllLossBackward0>)\n",
      "nan\n",
      "\n",
      "nan\n",
      "tensor(nan, grad_fn=<NllLossBackward0>)\n",
      "nan\n",
      "\n"
     ]
    },
    {
     "name": "stderr",
     "output_type": "stream",
     "text": [
      "epoch: 0 | iteration: 361 | progress: [1810/50000] (4%) | avg loss: nan / accuracy :  0.10: : 362it [00:19, 20.47it/s]"
     ]
    },
    {
     "name": "stdout",
     "output_type": "stream",
     "text": [
      "nan\n",
      "tensor(nan, grad_fn=<NllLossBackward0>)\n",
      "nan\n",
      "\n",
      "nan\n",
      "tensor(nan, grad_fn=<NllLossBackward0>)\n",
      "nan\n",
      "\n",
      "nan\n",
      "tensor(nan, grad_fn=<NllLossBackward0>)\n",
      "nan\n",
      "\n",
      "nan\n",
      "tensor(nan, grad_fn=<NllLossBackward0>)\n",
      "nan\n",
      "\n",
      "nan\n"
     ]
    },
    {
     "name": "stderr",
     "output_type": "stream",
     "text": [
      "epoch: 0 | iteration: 365 | progress: [1830/50000] (4%) | avg loss: nan / accuracy :  0.10: : 365it [00:19, 19.67it/s]"
     ]
    },
    {
     "name": "stdout",
     "output_type": "stream",
     "text": [
      "tensor(nan, grad_fn=<NllLossBackward0>)\n",
      "nan\n",
      "\n",
      "nan\n",
      "tensor(nan, grad_fn=<NllLossBackward0>)\n",
      "nan\n",
      "\n",
      "nan\n",
      "tensor(nan, grad_fn=<NllLossBackward0>)\n",
      "nan\n",
      "\n",
      "nan\n",
      "tensor(nan, grad_fn=<NllLossBackward0>)\n",
      "nan\n",
      "\n"
     ]
    },
    {
     "name": "stderr",
     "output_type": "stream",
     "text": [
      "epoch: 0 | iteration: 369 | progress: [1850/50000] (4%) | avg loss: nan / accuracy :  0.10: : 369it [00:19, 19.16it/s]"
     ]
    },
    {
     "name": "stdout",
     "output_type": "stream",
     "text": [
      "nan\n",
      "tensor(nan, grad_fn=<NllLossBackward0>)\n",
      "nan\n",
      "\n",
      "nan\n",
      "tensor(nan, grad_fn=<NllLossBackward0>)\n",
      "nan\n",
      "\n",
      "nan\n",
      "tensor(nan, grad_fn=<NllLossBackward0>)\n",
      "nan\n",
      "\n",
      "nan\n",
      "tensor(nan, grad_fn=<NllLossBackward0>)\n",
      "nan\n",
      "\n"
     ]
    },
    {
     "name": "stderr",
     "output_type": "stream",
     "text": [
      "epoch: 0 | iteration: 373 | progress: [1870/50000] (4%) | avg loss: nan / accuracy :  0.10: : 373it [00:19, 18.80it/s]"
     ]
    },
    {
     "name": "stdout",
     "output_type": "stream",
     "text": [
      "nan\n",
      "tensor(nan, grad_fn=<NllLossBackward0>)\n",
      "nan\n",
      "\n",
      "nan\n",
      "tensor(nan, grad_fn=<NllLossBackward0>)\n",
      "nan\n",
      "\n",
      "nan\n",
      "tensor(nan, grad_fn=<NllLossBackward0>)\n",
      "nan\n",
      "\n",
      "nan\n",
      "tensor(nan, grad_fn=<NllLossBackward0>)\n",
      "nan\n",
      "\n"
     ]
    },
    {
     "name": "stderr",
     "output_type": "stream",
     "text": [
      "epoch: 0 | iteration: 378 | progress: [1895/50000] (4%) | avg loss: nan / accuracy :  0.10: : 377it [00:20, 19.02it/s]"
     ]
    },
    {
     "name": "stdout",
     "output_type": "stream",
     "text": [
      "nan\n",
      "tensor(nan, grad_fn=<NllLossBackward0>)\n",
      "nan\n",
      "\n",
      "nan\n",
      "tensor(nan, grad_fn=<NllLossBackward0>)\n",
      "nan\n",
      "\n",
      "nan\n",
      "tensor(nan, grad_fn=<NllLossBackward0>)\n",
      "nan\n",
      "\n",
      "nan\n",
      "tensor(nan, grad_fn=<NllLossBackward0>)\n",
      "nan\n",
      "\n",
      "nan\n",
      "tensor(nan, grad_fn=<NllLossBackward0>)\n",
      "nan\n",
      "\n"
     ]
    },
    {
     "name": "stderr",
     "output_type": "stream",
     "text": [
      "epoch: 0 | iteration: 383 | progress: [1920/50000] (4%) | avg loss: nan / accuracy :  0.10: : 383it [00:20, 19.84it/s]"
     ]
    },
    {
     "name": "stdout",
     "output_type": "stream",
     "text": [
      "nan\n",
      "tensor(nan, grad_fn=<NllLossBackward0>)\n",
      "nan\n",
      "\n",
      "nan\n",
      "tensor(nan, grad_fn=<NllLossBackward0>)\n",
      "nan\n",
      "\n",
      "nan\n",
      "tensor(nan, grad_fn=<NllLossBackward0>)\n",
      "nan\n",
      "\n",
      "nan\n",
      "tensor(nan, grad_fn=<NllLossBackward0>)\n",
      "nan\n",
      "\n",
      "nan\n",
      "tensor(nan, grad_fn=<NllLossBackward0>)\n",
      "nan\n",
      "\n"
     ]
    },
    {
     "name": "stderr",
     "output_type": "stream",
     "text": [
      "epoch: 0 | iteration: 387 | progress: [1940/50000] (4%) | avg loss: nan / accuracy :  0.10: : 386it [00:20, 19.50it/s]"
     ]
    },
    {
     "name": "stdout",
     "output_type": "stream",
     "text": [
      "nan\n",
      "tensor(nan, grad_fn=<NllLossBackward0>)\n",
      "nan\n",
      "\n",
      "nan\n",
      "tensor(nan, grad_fn=<NllLossBackward0>)\n",
      "nan\n",
      "\n",
      "nan\n",
      "tensor(nan, grad_fn=<NllLossBackward0>)\n",
      "nan\n",
      "\n",
      "nan\n",
      "tensor(nan, grad_fn=<NllLossBackward0>)\n",
      "nan\n",
      "\n"
     ]
    },
    {
     "name": "stderr",
     "output_type": "stream",
     "text": [
      "epoch: 0 | iteration: 391 | progress: [1960/50000] (4%) | avg loss: nan / accuracy :  0.10: : 391it [00:20, 19.15it/s]"
     ]
    },
    {
     "name": "stdout",
     "output_type": "stream",
     "text": [
      "nan\n",
      "tensor(nan, grad_fn=<NllLossBackward0>)\n",
      "nan\n",
      "\n",
      "nan\n",
      "tensor(nan, grad_fn=<NllLossBackward0>)\n",
      "nan\n",
      "\n",
      "nan\n",
      "tensor(nan, grad_fn=<NllLossBackward0>)\n",
      "nan\n",
      "\n",
      "nan\n",
      "tensor(nan, grad_fn=<NllLossBackward0>)\n",
      "nan\n",
      "\n"
     ]
    },
    {
     "name": "stderr",
     "output_type": "stream",
     "text": [
      "epoch: 0 | iteration: 395 | progress: [1980/50000] (4%) | avg loss: nan / accuracy :  0.10: : 395it [00:21, 19.01it/s]"
     ]
    },
    {
     "name": "stdout",
     "output_type": "stream",
     "text": [
      "nan\n",
      "tensor(nan, grad_fn=<NllLossBackward0>)\n",
      "nan\n",
      "\n",
      "nan\n",
      "tensor(nan, grad_fn=<NllLossBackward0>)\n",
      "nan\n",
      "\n",
      "nan\n",
      "tensor(nan, grad_fn=<NllLossBackward0>)\n",
      "nan\n",
      "\n",
      "nan\n",
      "tensor(nan, grad_fn=<NllLossBackward0>)\n",
      "nan\n",
      "\n"
     ]
    },
    {
     "name": "stderr",
     "output_type": "stream",
     "text": [
      "epoch: 0 | iteration: 399 | progress: [2000/50000] (4%) | avg loss: nan / accuracy :  0.10: : 399it [00:21, 19.42it/s]"
     ]
    },
    {
     "name": "stdout",
     "output_type": "stream",
     "text": [
      "nan\n",
      "tensor(nan, grad_fn=<NllLossBackward0>)\n",
      "nan\n",
      "\n",
      "nan\n",
      "tensor(nan, grad_fn=<NllLossBackward0>)\n",
      "nan\n",
      "\n",
      "nan\n",
      "tensor(nan, grad_fn=<NllLossBackward0>)\n",
      "nan\n",
      "\n",
      "nan\n",
      "tensor(nan, grad_fn=<NllLossBackward0>)\n",
      "nan\n",
      "\n"
     ]
    },
    {
     "name": "stderr",
     "output_type": "stream",
     "text": [
      "epoch: 0 | iteration: 403 | progress: [2020/50000] (4%) | avg loss: nan / accuracy :  0.10: : 403it [00:21, 18.64it/s]"
     ]
    },
    {
     "name": "stdout",
     "output_type": "stream",
     "text": [
      "nan\n",
      "tensor(nan, grad_fn=<NllLossBackward0>)\n",
      "nan\n",
      "\n",
      "nan\n",
      "tensor(nan, grad_fn=<NllLossBackward0>)\n",
      "nan\n",
      "\n",
      "nan\n",
      "tensor(nan, grad_fn=<NllLossBackward0>)\n",
      "nan\n",
      "\n",
      "nan\n",
      "tensor(nan, grad_fn=<NllLossBackward0>)\n",
      "nan\n",
      "\n"
     ]
    },
    {
     "name": "stderr",
     "output_type": "stream",
     "text": [
      "epoch: 0 | iteration: 407 | progress: [2040/50000] (4%) | avg loss: nan / accuracy :  0.10: : 407it [00:21, 18.43it/s]"
     ]
    },
    {
     "name": "stdout",
     "output_type": "stream",
     "text": [
      "nan\n",
      "tensor(nan, grad_fn=<NllLossBackward0>)\n",
      "nan\n",
      "\n",
      "nan\n",
      "tensor(nan, grad_fn=<NllLossBackward0>)\n",
      "nan\n",
      "\n",
      "nan\n",
      "tensor(nan, grad_fn=<NllLossBackward0>)\n",
      "nan\n",
      "\n",
      "nan\n",
      "tensor(nan, grad_fn=<NllLossBackward0>)\n",
      "nan\n",
      "\n"
     ]
    },
    {
     "name": "stderr",
     "output_type": "stream",
     "text": [
      "epoch: 0 | iteration: 411 | progress: [2060/50000] (4%) | avg loss: nan / accuracy :  0.10: : 411it [00:21, 18.75it/s]"
     ]
    },
    {
     "name": "stdout",
     "output_type": "stream",
     "text": [
      "nan\n",
      "tensor(nan, grad_fn=<NllLossBackward0>)\n",
      "nan\n",
      "\n",
      "nan\n",
      "tensor(nan, grad_fn=<NllLossBackward0>)\n",
      "nan\n",
      "\n",
      "nan\n",
      "tensor(nan, grad_fn=<NllLossBackward0>)\n",
      "nan\n",
      "\n",
      "nan\n",
      "tensor(nan, grad_fn=<NllLossBackward0>)\n",
      "nan\n",
      "\n"
     ]
    },
    {
     "name": "stderr",
     "output_type": "stream",
     "text": [
      "epoch: 0 | iteration: 416 | progress: [2085/50000] (4%) | avg loss: nan / accuracy :  0.10: : 417it [00:22, 19.82it/s]"
     ]
    },
    {
     "name": "stdout",
     "output_type": "stream",
     "text": [
      "nan\n",
      "tensor(nan, grad_fn=<NllLossBackward0>)\n",
      "nan\n",
      "\n",
      "nan\n",
      "tensor(nan, grad_fn=<NllLossBackward0>)\n",
      "nan\n",
      "\n",
      "nan\n",
      "tensor(nan, grad_fn=<NllLossBackward0>)\n",
      "nan\n",
      "\n",
      "nan\n",
      "tensor(nan, grad_fn=<NllLossBackward0>)\n",
      "nan\n",
      "\n",
      "nan\n",
      "tensor(nan, grad_fn=<NllLossBackward0>)\n",
      "nan\n",
      "\n"
     ]
    },
    {
     "name": "stderr",
     "output_type": "stream",
     "text": [
      "epoch: 0 | iteration: 421 | progress: [2110/50000] (4%) | avg loss: nan / accuracy :  0.10: : 420it [00:22, 20.04it/s]"
     ]
    },
    {
     "name": "stdout",
     "output_type": "stream",
     "text": [
      "nan\n",
      "tensor(nan, grad_fn=<NllLossBackward0>)\n",
      "nan\n",
      "\n",
      "nan\n",
      "tensor(nan, grad_fn=<NllLossBackward0>)\n",
      "nan\n",
      "\n",
      "nan\n",
      "tensor(nan, grad_fn=<NllLossBackward0>)\n",
      "nan\n",
      "\n",
      "nan\n",
      "tensor(nan, grad_fn=<NllLossBackward0>)\n",
      "nan\n",
      "\n",
      "nan\n",
      "tensor(nan, grad_fn=<NllLossBackward0>)\n",
      "nan\n",
      "\n"
     ]
    },
    {
     "name": "stderr",
     "output_type": "stream",
     "text": [
      "epoch: 0 | iteration: 425 | progress: [2130/50000] (4%) | avg loss: nan / accuracy :  0.10: : 426it [00:22, 19.21it/s]"
     ]
    },
    {
     "name": "stdout",
     "output_type": "stream",
     "text": [
      "nan\n",
      "tensor(nan, grad_fn=<NllLossBackward0>)\n",
      "nan\n",
      "\n",
      "nan\n",
      "tensor(nan, grad_fn=<NllLossBackward0>)\n",
      "nan\n",
      "\n",
      "nan\n",
      "tensor(nan, grad_fn=<NllLossBackward0>)\n",
      "nan\n",
      "\n",
      "nan\n",
      "tensor(nan, grad_fn=<NllLossBackward0>)\n",
      "nan\n",
      "\n"
     ]
    },
    {
     "name": "stderr",
     "output_type": "stream",
     "text": [
      "epoch: 0 | iteration: 429 | progress: [2150/50000] (4%) | avg loss: nan / accuracy :  0.10: : 430it [00:22, 19.17it/s]"
     ]
    },
    {
     "name": "stdout",
     "output_type": "stream",
     "text": [
      "nan\n",
      "tensor(nan, grad_fn=<NllLossBackward0>)\n",
      "nan\n",
      "\n",
      "nan\n",
      "tensor(nan, grad_fn=<NllLossBackward0>)\n",
      "nan\n",
      "\n",
      "nan\n",
      "tensor(nan, grad_fn=<NllLossBackward0>)\n",
      "nan\n",
      "\n",
      "nan\n",
      "tensor(nan, grad_fn=<NllLossBackward0>)\n",
      "nan\n",
      "\n"
     ]
    },
    {
     "name": "stderr",
     "output_type": "stream",
     "text": [
      "epoch: 0 | iteration: 433 | progress: [2170/50000] (4%) | avg loss: nan / accuracy :  0.10: : 432it [00:23, 19.19it/s]"
     ]
    },
    {
     "name": "stdout",
     "output_type": "stream",
     "text": [
      "nan\n",
      "tensor(nan, grad_fn=<NllLossBackward0>)\n",
      "nan\n",
      "\n",
      "nan\n",
      "tensor(nan, grad_fn=<NllLossBackward0>)\n",
      "nan\n",
      "\n",
      "nan\n",
      "tensor(nan, grad_fn=<NllLossBackward0>)\n",
      "nan\n",
      "\n",
      "nan\n",
      "tensor(nan, grad_fn=<NllLossBackward0>)\n",
      "nan\n",
      "\n",
      "nan\n"
     ]
    },
    {
     "name": "stderr",
     "output_type": "stream",
     "text": [
      "epoch: 0 | iteration: 437 | progress: [2190/50000] (4%) | avg loss: nan / accuracy :  0.10: : 437it [00:23, 19.60it/s]"
     ]
    },
    {
     "name": "stdout",
     "output_type": "stream",
     "text": [
      "tensor(nan, grad_fn=<NllLossBackward0>)\n",
      "nan\n",
      "\n",
      "nan\n",
      "tensor(nan, grad_fn=<NllLossBackward0>)\n",
      "nan\n",
      "\n",
      "nan\n",
      "tensor(nan, grad_fn=<NllLossBackward0>)\n",
      "nan\n",
      "\n",
      "nan\n",
      "tensor(nan, grad_fn=<NllLossBackward0>)\n",
      "nan\n",
      "\n"
     ]
    },
    {
     "name": "stderr",
     "output_type": "stream",
     "text": [
      "epoch: 0 | iteration: 441 | progress: [2210/50000] (4%) | avg loss: nan / accuracy :  0.10: : 441it [00:23, 19.23it/s]"
     ]
    },
    {
     "name": "stdout",
     "output_type": "stream",
     "text": [
      "nan\n",
      "tensor(nan, grad_fn=<NllLossBackward0>)\n",
      "nan\n",
      "\n",
      "nan\n",
      "tensor(nan, grad_fn=<NllLossBackward0>)\n",
      "nan\n",
      "\n",
      "nan\n",
      "tensor(nan, grad_fn=<NllLossBackward0>)\n",
      "nan\n",
      "\n",
      "nan\n",
      "tensor(nan, grad_fn=<NllLossBackward0>)\n",
      "nan\n",
      "\n"
     ]
    },
    {
     "name": "stderr",
     "output_type": "stream",
     "text": [
      "epoch: 0 | iteration: 446 | progress: [2235/50000] (4%) | avg loss: nan / accuracy :  0.10: : 446it [00:23, 19.69it/s]"
     ]
    },
    {
     "name": "stdout",
     "output_type": "stream",
     "text": [
      "nan\n",
      "tensor(nan, grad_fn=<NllLossBackward0>)\n",
      "nan\n",
      "\n",
      "nan\n",
      "tensor(nan, grad_fn=<NllLossBackward0>)\n",
      "nan\n",
      "\n",
      "nan\n",
      "tensor(nan, grad_fn=<NllLossBackward0>)\n",
      "nan\n",
      "\n",
      "nan\n",
      "tensor(nan, grad_fn=<NllLossBackward0>)\n",
      "nan\n",
      "\n",
      "nan\n",
      "tensor(nan, grad_fn=<NllLossBackward0>)\n",
      "nan\n",
      "\n"
     ]
    },
    {
     "name": "stderr",
     "output_type": "stream",
     "text": [
      "epoch: 0 | iteration: 451 | progress: [2260/50000] (5%) | avg loss: nan / accuracy :  0.10: : 452it [00:23, 20.02it/s]"
     ]
    },
    {
     "name": "stdout",
     "output_type": "stream",
     "text": [
      "nan\n",
      "tensor(nan, grad_fn=<NllLossBackward0>)\n",
      "nan\n",
      "\n",
      "nan\n",
      "tensor(nan, grad_fn=<NllLossBackward0>)\n",
      "nan\n",
      "\n",
      "nan\n",
      "tensor(nan, grad_fn=<NllLossBackward0>)\n",
      "nan\n",
      "\n",
      "nan\n",
      "tensor(nan, grad_fn=<NllLossBackward0>)\n",
      "nan\n",
      "\n",
      "nan\n",
      "tensor(nan, grad_fn=<NllLossBackward0>)\n",
      "nan\n",
      "\n"
     ]
    },
    {
     "name": "stderr",
     "output_type": "stream",
     "text": [
      "epoch: 0 | iteration: 455 | progress: [2280/50000] (5%) | avg loss: nan / accuracy :  0.10: : 456it [00:24, 19.18it/s]"
     ]
    },
    {
     "name": "stdout",
     "output_type": "stream",
     "text": [
      "nan\n",
      "tensor(nan, grad_fn=<NllLossBackward0>)\n",
      "nan\n",
      "\n",
      "nan\n",
      "tensor(nan, grad_fn=<NllLossBackward0>)\n",
      "nan\n",
      "\n",
      "nan\n",
      "tensor(nan, grad_fn=<NllLossBackward0>)\n",
      "nan\n",
      "\n",
      "nan\n",
      "tensor(nan, grad_fn=<NllLossBackward0>)\n",
      "nan\n",
      "\n"
     ]
    },
    {
     "name": "stderr",
     "output_type": "stream",
     "text": [
      "epoch: 0 | iteration: 459 | progress: [2300/50000] (5%) | avg loss: nan / accuracy :  0.10: : 460it [00:24, 19.08it/s]"
     ]
    },
    {
     "name": "stdout",
     "output_type": "stream",
     "text": [
      "nan\n",
      "tensor(nan, grad_fn=<NllLossBackward0>)\n",
      "nan\n",
      "\n",
      "nan\n",
      "tensor(nan, grad_fn=<NllLossBackward0>)\n",
      "nan\n",
      "\n",
      "nan\n",
      "tensor(nan, grad_fn=<NllLossBackward0>)\n",
      "nan\n",
      "\n",
      "nan\n",
      "tensor(nan, grad_fn=<NllLossBackward0>)\n",
      "nan\n",
      "\n"
     ]
    },
    {
     "name": "stderr",
     "output_type": "stream",
     "text": [
      "epoch: 0 | iteration: 464 | progress: [2325/50000] (5%) | avg loss: nan / accuracy :  0.11: : 465it [00:24, 19.79it/s]"
     ]
    },
    {
     "name": "stdout",
     "output_type": "stream",
     "text": [
      "nan\n",
      "tensor(nan, grad_fn=<NllLossBackward0>)\n",
      "nan\n",
      "\n",
      "nan\n",
      "tensor(nan, grad_fn=<NllLossBackward0>)\n",
      "nan\n",
      "\n",
      "nan\n",
      "tensor(nan, grad_fn=<NllLossBackward0>)\n",
      "nan\n",
      "\n",
      "nan\n",
      "tensor(nan, grad_fn=<NllLossBackward0>)\n",
      "nan\n",
      "\n",
      "nan\n",
      "tensor(nan, grad_fn=<NllLossBackward0>)\n",
      "nan\n",
      "\n"
     ]
    },
    {
     "name": "stderr",
     "output_type": "stream",
     "text": [
      "epoch: 0 | iteration: 468 | progress: [2345/50000] (5%) | avg loss: nan / accuracy :  0.11: : 469it [00:24, 19.65it/s]"
     ]
    },
    {
     "name": "stdout",
     "output_type": "stream",
     "text": [
      "nan\n",
      "tensor(nan, grad_fn=<NllLossBackward0>)\n",
      "nan\n",
      "\n",
      "nan\n",
      "tensor(nan, grad_fn=<NllLossBackward0>)\n",
      "nan\n",
      "\n",
      "nan\n",
      "tensor(nan, grad_fn=<NllLossBackward0>)\n",
      "nan\n",
      "\n",
      "nan\n",
      "tensor(nan, grad_fn=<NllLossBackward0>)\n",
      "nan\n",
      "\n"
     ]
    },
    {
     "name": "stderr",
     "output_type": "stream",
     "text": [
      "epoch: 0 | iteration: 472 | progress: [2365/50000] (5%) | avg loss: nan / accuracy :  0.10: : 473it [00:25, 18.97it/s]"
     ]
    },
    {
     "name": "stdout",
     "output_type": "stream",
     "text": [
      "nan\n",
      "tensor(nan, grad_fn=<NllLossBackward0>)\n",
      "nan\n",
      "\n",
      "nan\n",
      "tensor(nan, grad_fn=<NllLossBackward0>)\n",
      "nan\n",
      "\n",
      "nan\n",
      "tensor(nan, grad_fn=<NllLossBackward0>)\n",
      "nan\n",
      "\n",
      "nan\n",
      "tensor(nan, grad_fn=<NllLossBackward0>)\n",
      "nan\n",
      "\n"
     ]
    },
    {
     "name": "stderr",
     "output_type": "stream",
     "text": [
      "epoch: 0 | iteration: 476 | progress: [2385/50000] (5%) | avg loss: nan / accuracy :  0.10: : 475it [00:25, 18.78it/s]"
     ]
    },
    {
     "name": "stdout",
     "output_type": "stream",
     "text": [
      "nan\n",
      "tensor(nan, grad_fn=<NllLossBackward0>)\n",
      "nan\n",
      "\n",
      "nan\n",
      "tensor(nan, grad_fn=<NllLossBackward0>)\n",
      "nan\n",
      "\n",
      "nan\n",
      "tensor(nan, grad_fn=<NllLossBackward0>)\n",
      "nan\n",
      "\n",
      "nan\n",
      "tensor(nan, grad_fn=<NllLossBackward0>)\n",
      "nan\n",
      "\n",
      "nan\n"
     ]
    },
    {
     "name": "stderr",
     "output_type": "stream",
     "text": [
      "epoch: 0 | iteration: 481 | progress: [2410/50000] (5%) | avg loss: nan / accuracy :  0.10: : 481it [00:25, 19.79it/s]"
     ]
    },
    {
     "name": "stdout",
     "output_type": "stream",
     "text": [
      "tensor(nan, grad_fn=<NllLossBackward0>)\n",
      "nan\n",
      "\n",
      "nan\n",
      "tensor(nan, grad_fn=<NllLossBackward0>)\n",
      "nan\n",
      "\n",
      "nan\n",
      "tensor(nan, grad_fn=<NllLossBackward0>)\n",
      "nan\n",
      "\n",
      "nan\n",
      "tensor(nan, grad_fn=<NllLossBackward0>)\n",
      "nan\n",
      "\n",
      "nan\n",
      "tensor(nan, grad_fn=<NllLossBackward0>)\n",
      "nan\n",
      "\n"
     ]
    },
    {
     "name": "stderr",
     "output_type": "stream",
     "text": [
      "epoch: 0 | iteration: 486 | progress: [2435/50000] (5%) | avg loss: nan / accuracy :  0.10: : 487it [00:25, 20.17it/s]"
     ]
    },
    {
     "name": "stdout",
     "output_type": "stream",
     "text": [
      "nan\n",
      "tensor(nan, grad_fn=<NllLossBackward0>)\n",
      "nan\n",
      "\n",
      "nan\n",
      "tensor(nan, grad_fn=<NllLossBackward0>)\n",
      "nan\n",
      "\n",
      "nan\n",
      "tensor(nan, grad_fn=<NllLossBackward0>)\n",
      "nan\n",
      "\n",
      "nan\n",
      "tensor(nan, grad_fn=<NllLossBackward0>)\n",
      "nan\n",
      "\n",
      "nan\n",
      "tensor(nan, grad_fn=<NllLossBackward0>)\n",
      "nan\n",
      "\n"
     ]
    },
    {
     "name": "stderr",
     "output_type": "stream",
     "text": [
      "epoch: 0 | iteration: 491 | progress: [2460/50000] (5%) | avg loss: nan / accuracy :  0.10: : 490it [00:25, 20.00it/s]"
     ]
    },
    {
     "name": "stdout",
     "output_type": "stream",
     "text": [
      "nan\n",
      "tensor(nan, grad_fn=<NllLossBackward0>)\n",
      "nan\n",
      "\n",
      "nan\n",
      "tensor(nan, grad_fn=<NllLossBackward0>)\n",
      "nan\n",
      "\n",
      "nan\n",
      "tensor(nan, grad_fn=<NllLossBackward0>)\n",
      "nan\n",
      "\n",
      "nan\n",
      "tensor(nan, grad_fn=<NllLossBackward0>)\n",
      "nan\n",
      "\n",
      "nan\n",
      "tensor(nan, grad_fn=<NllLossBackward0>)\n",
      "nan\n",
      "\n"
     ]
    },
    {
     "name": "stderr",
     "output_type": "stream",
     "text": [
      "epoch: 0 | iteration: 496 | progress: [2485/50000] (5%) | avg loss: nan / accuracy :  0.10: : 496it [00:26, 20.33it/s]"
     ]
    },
    {
     "name": "stdout",
     "output_type": "stream",
     "text": [
      "nan\n",
      "tensor(nan, grad_fn=<NllLossBackward0>)\n",
      "nan\n",
      "\n",
      "nan\n",
      "tensor(nan, grad_fn=<NllLossBackward0>)\n",
      "nan\n",
      "\n",
      "nan\n",
      "tensor(nan, grad_fn=<NllLossBackward0>)\n",
      "nan\n",
      "\n",
      "nan\n",
      "tensor(nan, grad_fn=<NllLossBackward0>)\n",
      "nan\n",
      "\n",
      "nan\n",
      "tensor(nan, grad_fn=<NllLossBackward0>)\n",
      "nan\n",
      "\n"
     ]
    },
    {
     "name": "stderr",
     "output_type": "stream",
     "text": [
      "epoch: 0 | iteration: 501 | progress: [2510/50000] (5%) | avg loss: nan / accuracy :  0.10: : 502it [00:26, 20.47it/s]"
     ]
    },
    {
     "name": "stdout",
     "output_type": "stream",
     "text": [
      "nan\n",
      "tensor(nan, grad_fn=<NllLossBackward0>)\n",
      "nan\n",
      "\n",
      "nan\n",
      "tensor(nan, grad_fn=<NllLossBackward0>)\n",
      "nan\n",
      "\n",
      "nan\n",
      "tensor(nan, grad_fn=<NllLossBackward0>)\n",
      "nan\n",
      "\n",
      "nan\n",
      "tensor(nan, grad_fn=<NllLossBackward0>)\n",
      "nan\n",
      "\n",
      "nan\n",
      "tensor(nan, grad_fn=<NllLossBackward0>)\n",
      "nan\n",
      "\n"
     ]
    },
    {
     "name": "stderr",
     "output_type": "stream",
     "text": [
      "epoch: 0 | iteration: 505 | progress: [2530/50000] (5%) | avg loss: nan / accuracy :  0.10: : 505it [00:26, 20.34it/s]"
     ]
    },
    {
     "name": "stdout",
     "output_type": "stream",
     "text": [
      "nan\n",
      "tensor(nan, grad_fn=<NllLossBackward0>)\n",
      "nan\n",
      "\n",
      "nan\n",
      "tensor(nan, grad_fn=<NllLossBackward0>)\n",
      "nan\n",
      "\n",
      "nan\n",
      "tensor(nan, grad_fn=<NllLossBackward0>)\n",
      "nan\n",
      "\n",
      "nan\n",
      "tensor(nan, grad_fn=<NllLossBackward0>)\n",
      "nan\n",
      "\n",
      "nan\n"
     ]
    },
    {
     "name": "stderr",
     "output_type": "stream",
     "text": [
      "epoch: 0 | iteration: 510 | progress: [2555/50000] (5%) | avg loss: nan / accuracy :  0.10: : 511it [00:26, 20.15it/s]"
     ]
    },
    {
     "name": "stdout",
     "output_type": "stream",
     "text": [
      "tensor(nan, grad_fn=<NllLossBackward0>)\n",
      "nan\n",
      "\n",
      "nan\n",
      "tensor(nan, grad_fn=<NllLossBackward0>)\n",
      "nan\n",
      "\n",
      "nan\n",
      "tensor(nan, grad_fn=<NllLossBackward0>)\n",
      "nan\n",
      "\n",
      "nan\n",
      "tensor(nan, grad_fn=<NllLossBackward0>)\n",
      "nan\n",
      "\n",
      "nan\n",
      "tensor(nan, grad_fn=<NllLossBackward0>)\n",
      "nan\n",
      "\n"
     ]
    },
    {
     "name": "stderr",
     "output_type": "stream",
     "text": [
      "epoch: 0 | iteration: 515 | progress: [2580/50000] (5%) | avg loss: nan / accuracy :  0.10: : 514it [00:27, 20.10it/s]"
     ]
    },
    {
     "name": "stdout",
     "output_type": "stream",
     "text": [
      "nan\n",
      "tensor(nan, grad_fn=<NllLossBackward0>)\n",
      "nan\n",
      "\n",
      "nan\n",
      "tensor(nan, grad_fn=<NllLossBackward0>)\n",
      "nan\n",
      "\n",
      "nan\n",
      "tensor(nan, grad_fn=<NllLossBackward0>)\n",
      "nan\n",
      "\n",
      "nan\n",
      "tensor(nan, grad_fn=<NllLossBackward0>)\n",
      "nan\n",
      "\n",
      "nan\n",
      "tensor(nan, grad_fn=<NllLossBackward0>)\n",
      "nan\n",
      "\n"
     ]
    },
    {
     "name": "stderr",
     "output_type": "stream",
     "text": [
      "epoch: 0 | iteration: 519 | progress: [2600/50000] (5%) | avg loss: nan / accuracy :  0.10: : 520it [00:27, 20.00it/s]"
     ]
    },
    {
     "name": "stdout",
     "output_type": "stream",
     "text": [
      "nan\n",
      "tensor(nan, grad_fn=<NllLossBackward0>)\n",
      "nan\n",
      "\n",
      "nan\n",
      "tensor(nan, grad_fn=<NllLossBackward0>)\n",
      "nan\n",
      "\n",
      "nan\n",
      "tensor(nan, grad_fn=<NllLossBackward0>)\n",
      "nan\n",
      "\n",
      "nan\n",
      "tensor(nan, grad_fn=<NllLossBackward0>)\n",
      "nan\n",
      "\n"
     ]
    },
    {
     "name": "stderr",
     "output_type": "stream",
     "text": [
      "epoch: 0 | iteration: 523 | progress: [2620/50000] (5%) | avg loss: nan / accuracy :  0.10: : 524it [00:27, 19.47it/s]"
     ]
    },
    {
     "name": "stdout",
     "output_type": "stream",
     "text": [
      "nan\n",
      "tensor(nan, grad_fn=<NllLossBackward0>)\n",
      "nan\n",
      "\n",
      "nan\n",
      "tensor(nan, grad_fn=<NllLossBackward0>)\n",
      "nan\n",
      "\n",
      "nan\n",
      "tensor(nan, grad_fn=<NllLossBackward0>)\n",
      "nan\n",
      "\n",
      "nan\n",
      "tensor(nan, grad_fn=<NllLossBackward0>)\n",
      "nan\n",
      "\n"
     ]
    },
    {
     "name": "stderr",
     "output_type": "stream",
     "text": [
      "epoch: 0 | iteration: 527 | progress: [2640/50000] (5%) | avg loss: nan / accuracy :  0.10: : 528it [00:27, 18.91it/s]"
     ]
    },
    {
     "name": "stdout",
     "output_type": "stream",
     "text": [
      "nan\n",
      "tensor(nan, grad_fn=<NllLossBackward0>)\n",
      "nan\n",
      "\n",
      "nan\n",
      "tensor(nan, grad_fn=<NllLossBackward0>)\n",
      "nan\n",
      "\n",
      "nan\n",
      "tensor(nan, grad_fn=<NllLossBackward0>)\n",
      "nan\n",
      "\n",
      "nan\n",
      "tensor(nan, grad_fn=<NllLossBackward0>)\n",
      "nan\n",
      "\n"
     ]
    },
    {
     "name": "stderr",
     "output_type": "stream",
     "text": [
      "epoch: 0 | iteration: 532 | progress: [2665/50000] (5%) | avg loss: nan / accuracy :  0.10: : 531it [00:28, 19.56it/s]"
     ]
    },
    {
     "name": "stdout",
     "output_type": "stream",
     "text": [
      "nan\n",
      "tensor(nan, grad_fn=<NllLossBackward0>)\n",
      "nan\n",
      "\n",
      "nan\n",
      "tensor(nan, grad_fn=<NllLossBackward0>)\n",
      "nan\n",
      "\n",
      "nan\n",
      "tensor(nan, grad_fn=<NllLossBackward0>)\n",
      "nan\n",
      "\n",
      "nan\n",
      "tensor(nan, grad_fn=<NllLossBackward0>)\n",
      "nan\n",
      "\n",
      "nan\n",
      "tensor(nan, grad_fn=<NllLossBackward0>)\n",
      "nan\n",
      "\n"
     ]
    },
    {
     "name": "stderr",
     "output_type": "stream",
     "text": [
      "epoch: 0 | iteration: 537 | progress: [2690/50000] (5%) | avg loss: nan / accuracy :  0.10: : 537it [00:28, 20.18it/s]"
     ]
    },
    {
     "name": "stdout",
     "output_type": "stream",
     "text": [
      "nan\n",
      "tensor(nan, grad_fn=<NllLossBackward0>)\n",
      "nan\n",
      "\n",
      "nan\n",
      "tensor(nan, grad_fn=<NllLossBackward0>)\n",
      "nan\n",
      "\n",
      "nan\n",
      "tensor(nan, grad_fn=<NllLossBackward0>)\n",
      "nan\n",
      "\n",
      "nan\n",
      "tensor(nan, grad_fn=<NllLossBackward0>)\n",
      "nan\n",
      "\n",
      "nan\n",
      "tensor(nan, grad_fn=<NllLossBackward0>)\n",
      "nan\n",
      "\n"
     ]
    },
    {
     "name": "stderr",
     "output_type": "stream",
     "text": [
      "epoch: 0 | iteration: 542 | progress: [2715/50000] (5%) | avg loss: nan / accuracy :  0.10: : 543it [00:28, 20.36it/s]"
     ]
    },
    {
     "name": "stdout",
     "output_type": "stream",
     "text": [
      "nan\n",
      "tensor(nan, grad_fn=<NllLossBackward0>)\n",
      "nan\n",
      "\n",
      "nan\n",
      "tensor(nan, grad_fn=<NllLossBackward0>)\n",
      "nan\n",
      "\n",
      "nan\n",
      "tensor(nan, grad_fn=<NllLossBackward0>)\n",
      "nan\n",
      "\n",
      "nan\n",
      "tensor(nan, grad_fn=<NllLossBackward0>)\n",
      "nan\n",
      "\n",
      "nan\n",
      "tensor(nan, grad_fn=<NllLossBackward0>)\n",
      "nan\n",
      "\n"
     ]
    },
    {
     "name": "stderr",
     "output_type": "stream",
     "text": [
      "epoch: 0 | iteration: 546 | progress: [2735/50000] (5%) | avg loss: nan / accuracy :  0.10: : 546it [00:28, 20.07it/s]"
     ]
    },
    {
     "name": "stdout",
     "output_type": "stream",
     "text": [
      "nan\n",
      "tensor(nan, grad_fn=<NllLossBackward0>)\n",
      "nan\n",
      "\n",
      "nan\n",
      "tensor(nan, grad_fn=<NllLossBackward0>)\n",
      "nan\n",
      "\n",
      "nan\n",
      "tensor(nan, grad_fn=<NllLossBackward0>)\n",
      "nan\n",
      "\n",
      "nan\n",
      "tensor(nan, grad_fn=<NllLossBackward0>)\n",
      "nan\n",
      "\n",
      "nan\n"
     ]
    },
    {
     "name": "stderr",
     "output_type": "stream",
     "text": [
      "epoch: 0 | iteration: 550 | progress: [2755/50000] (6%) | avg loss: nan / accuracy :  0.10: : 549it [00:28, 20.17it/s]"
     ]
    },
    {
     "name": "stdout",
     "output_type": "stream",
     "text": [
      "tensor(nan, grad_fn=<NllLossBackward0>)\n",
      "nan\n",
      "\n",
      "nan\n",
      "tensor(nan, grad_fn=<NllLossBackward0>)\n",
      "nan\n",
      "\n",
      "nan\n",
      "tensor(nan, grad_fn=<NllLossBackward0>)\n",
      "nan\n",
      "\n",
      "nan\n",
      "tensor(nan, grad_fn=<NllLossBackward0>)\n",
      "nan\n",
      "\n"
     ]
    },
    {
     "name": "stderr",
     "output_type": "stream",
     "text": [
      "epoch: 0 | iteration: 554 | progress: [2775/50000] (6%) | avg loss: nan / accuracy :  0.10: : 554it [00:29, 19.18it/s]"
     ]
    },
    {
     "name": "stdout",
     "output_type": "stream",
     "text": [
      "nan\n",
      "tensor(nan, grad_fn=<NllLossBackward0>)\n",
      "nan\n",
      "\n",
      "nan\n",
      "tensor(nan, grad_fn=<NllLossBackward0>)\n",
      "nan\n",
      "\n",
      "nan\n",
      "tensor(nan, grad_fn=<NllLossBackward0>)\n",
      "nan\n",
      "\n",
      "nan\n",
      "tensor(nan, grad_fn=<NllLossBackward0>)\n",
      "nan\n",
      "\n"
     ]
    },
    {
     "name": "stderr",
     "output_type": "stream",
     "text": [
      "epoch: 0 | iteration: 558 | progress: [2795/50000] (6%) | avg loss: nan / accuracy :  0.10: : 558it [00:29, 18.86it/s]"
     ]
    },
    {
     "name": "stdout",
     "output_type": "stream",
     "text": [
      "nan\n",
      "tensor(nan, grad_fn=<NllLossBackward0>)\n",
      "nan\n",
      "\n",
      "nan\n",
      "tensor(nan, grad_fn=<NllLossBackward0>)\n",
      "nan\n",
      "\n",
      "nan\n",
      "tensor(nan, grad_fn=<NllLossBackward0>)\n",
      "nan\n",
      "\n",
      "nan\n",
      "tensor(nan, grad_fn=<NllLossBackward0>)\n",
      "nan\n",
      "\n"
     ]
    },
    {
     "name": "stderr",
     "output_type": "stream",
     "text": [
      "epoch: 0 | iteration: 562 | progress: [2815/50000] (6%) | avg loss: nan / accuracy :  0.10: : 562it [00:29, 18.82it/s]"
     ]
    },
    {
     "name": "stdout",
     "output_type": "stream",
     "text": [
      "nan\n",
      "tensor(nan, grad_fn=<NllLossBackward0>)\n",
      "nan\n",
      "\n",
      "nan\n",
      "tensor(nan, grad_fn=<NllLossBackward0>)\n",
      "nan\n",
      "\n",
      "nan\n",
      "tensor(nan, grad_fn=<NllLossBackward0>)\n",
      "nan\n",
      "\n",
      "nan\n",
      "tensor(nan, grad_fn=<NllLossBackward0>)\n",
      "nan\n",
      "\n"
     ]
    },
    {
     "name": "stderr",
     "output_type": "stream",
     "text": [
      "epoch: 0 | iteration: 566 | progress: [2835/50000] (6%) | avg loss: nan / accuracy :  0.10: : 566it [00:29, 18.78it/s]"
     ]
    },
    {
     "name": "stdout",
     "output_type": "stream",
     "text": [
      "nan\n",
      "tensor(nan, grad_fn=<NllLossBackward0>)\n",
      "nan\n",
      "\n",
      "nan\n",
      "tensor(nan, grad_fn=<NllLossBackward0>)\n",
      "nan\n",
      "\n",
      "nan\n",
      "tensor(nan, grad_fn=<NllLossBackward0>)\n",
      "nan\n",
      "\n",
      "nan\n",
      "tensor(nan, grad_fn=<NllLossBackward0>)\n",
      "nan\n",
      "\n"
     ]
    },
    {
     "name": "stderr",
     "output_type": "stream",
     "text": [
      "epoch: 0 | iteration: 570 | progress: [2855/50000] (6%) | avg loss: nan / accuracy :  0.10: : 570it [00:30, 19.10it/s]"
     ]
    },
    {
     "name": "stdout",
     "output_type": "stream",
     "text": [
      "nan\n",
      "tensor(nan, grad_fn=<NllLossBackward0>)\n",
      "nan\n",
      "\n",
      "nan\n",
      "tensor(nan, grad_fn=<NllLossBackward0>)\n",
      "nan\n",
      "\n",
      "nan\n",
      "tensor(nan, grad_fn=<NllLossBackward0>)\n",
      "nan\n",
      "\n",
      "nan\n",
      "tensor(nan, grad_fn=<NllLossBackward0>)\n",
      "nan\n",
      "\n"
     ]
    },
    {
     "name": "stderr",
     "output_type": "stream",
     "text": [
      "epoch: 0 | iteration: 574 | progress: [2875/50000] (6%) | avg loss: nan / accuracy :  0.10: : 574it [00:30, 19.36it/s]"
     ]
    },
    {
     "name": "stdout",
     "output_type": "stream",
     "text": [
      "nan\n",
      "tensor(nan, grad_fn=<NllLossBackward0>)\n",
      "nan\n",
      "\n",
      "nan\n",
      "tensor(nan, grad_fn=<NllLossBackward0>)\n",
      "nan\n",
      "\n",
      "nan\n",
      "tensor(nan, grad_fn=<NllLossBackward0>)\n",
      "nan\n",
      "\n",
      "nan\n",
      "tensor(nan, grad_fn=<NllLossBackward0>)\n",
      "nan\n",
      "\n",
      "nan\n"
     ]
    },
    {
     "name": "stderr",
     "output_type": "stream",
     "text": [
      "epoch: 0 | iteration: 579 | progress: [2900/50000] (6%) | avg loss: nan / accuracy :  0.10: : 579it [00:30, 20.13it/s]"
     ]
    },
    {
     "name": "stdout",
     "output_type": "stream",
     "text": [
      "tensor(nan, grad_fn=<NllLossBackward0>)\n",
      "nan\n",
      "\n",
      "nan\n",
      "tensor(nan, grad_fn=<NllLossBackward0>)\n",
      "nan\n",
      "\n",
      "nan\n",
      "tensor(nan, grad_fn=<NllLossBackward0>)\n",
      "nan\n",
      "\n",
      "nan\n",
      "tensor(nan, grad_fn=<NllLossBackward0>)\n",
      "nan\n",
      "\n",
      "nan\n",
      "tensor(nan, grad_fn=<NllLossBackward0>)\n",
      "nan\n",
      "\n"
     ]
    },
    {
     "name": "stderr",
     "output_type": "stream",
     "text": [
      "epoch: 0 | iteration: 584 | progress: [2925/50000] (6%) | avg loss: nan / accuracy :  0.10: : 585it [00:30, 20.68it/s]"
     ]
    },
    {
     "name": "stdout",
     "output_type": "stream",
     "text": [
      "nan\n",
      "tensor(nan, grad_fn=<NllLossBackward0>)\n",
      "nan\n",
      "\n",
      "nan\n",
      "tensor(nan, grad_fn=<NllLossBackward0>)\n",
      "nan\n",
      "\n",
      "nan\n",
      "tensor(nan, grad_fn=<NllLossBackward0>)\n",
      "nan\n",
      "\n",
      "nan\n",
      "tensor(nan, grad_fn=<NllLossBackward0>)\n",
      "nan\n",
      "\n",
      "nan\n",
      "tensor(nan, grad_fn=<NllLossBackward0>)\n",
      "nan\n",
      "\n"
     ]
    },
    {
     "name": "stderr",
     "output_type": "stream",
     "text": [
      "epoch: 0 | iteration: 589 | progress: [2950/50000] (6%) | avg loss: nan / accuracy :  0.10: : 588it [00:30, 20.49it/s]"
     ]
    },
    {
     "name": "stdout",
     "output_type": "stream",
     "text": [
      "nan\n",
      "tensor(nan, grad_fn=<NllLossBackward0>)\n",
      "nan\n",
      "\n",
      "nan\n",
      "tensor(nan, grad_fn=<NllLossBackward0>)\n",
      "nan\n",
      "\n",
      "nan\n",
      "tensor(nan, grad_fn=<NllLossBackward0>)\n",
      "nan\n",
      "\n",
      "nan\n",
      "tensor(nan, grad_fn=<NllLossBackward0>)\n",
      "nan\n",
      "\n",
      "nan\n",
      "tensor(nan, grad_fn=<NllLossBackward0>)\n",
      "nan\n",
      "\n"
     ]
    },
    {
     "name": "stderr",
     "output_type": "stream",
     "text": [
      "epoch: 0 | iteration: 594 | progress: [2975/50000] (6%) | avg loss: nan / accuracy :  0.10: : 594it [00:31, 20.66it/s]"
     ]
    },
    {
     "name": "stdout",
     "output_type": "stream",
     "text": [
      "nan\n",
      "tensor(nan, grad_fn=<NllLossBackward0>)\n",
      "nan\n",
      "\n",
      "nan\n",
      "tensor(nan, grad_fn=<NllLossBackward0>)\n",
      "nan\n",
      "\n",
      "nan\n",
      "tensor(nan, grad_fn=<NllLossBackward0>)\n",
      "nan\n",
      "\n",
      "nan\n",
      "tensor(nan, grad_fn=<NllLossBackward0>)\n",
      "nan\n",
      "\n",
      "nan\n",
      "tensor(nan, grad_fn=<NllLossBackward0>)\n",
      "nan\n",
      "\n"
     ]
    },
    {
     "name": "stderr",
     "output_type": "stream",
     "text": [
      "epoch: 0 | iteration: 599 | progress: [3000/50000] (6%) | avg loss: nan / accuracy :  0.10: : 600it [00:31, 20.66it/s]"
     ]
    },
    {
     "name": "stdout",
     "output_type": "stream",
     "text": [
      "nan\n",
      "tensor(nan, grad_fn=<NllLossBackward0>)\n",
      "nan\n",
      "\n",
      "nan\n",
      "tensor(nan, grad_fn=<NllLossBackward0>)\n",
      "nan\n",
      "\n",
      "nan\n",
      "tensor(nan, grad_fn=<NllLossBackward0>)\n",
      "nan\n",
      "\n",
      "nan\n",
      "tensor(nan, grad_fn=<NllLossBackward0>)\n",
      "nan\n",
      "\n",
      "nan\n",
      "tensor(nan, grad_fn=<NllLossBackward0>)\n",
      "nan\n",
      "\n"
     ]
    },
    {
     "name": "stderr",
     "output_type": "stream",
     "text": [
      "epoch: 0 | iteration: 604 | progress: [3025/50000] (6%) | avg loss: nan / accuracy :  0.10: : 603it [00:31, 20.94it/s]"
     ]
    },
    {
     "name": "stdout",
     "output_type": "stream",
     "text": [
      "nan\n",
      "tensor(nan, grad_fn=<NllLossBackward0>)\n",
      "nan\n",
      "\n",
      "nan\n",
      "tensor(nan, grad_fn=<NllLossBackward0>)\n",
      "nan\n",
      "\n",
      "nan\n",
      "tensor(nan, grad_fn=<NllLossBackward0>)\n",
      "nan\n",
      "\n",
      "nan\n",
      "tensor(nan, grad_fn=<NllLossBackward0>)\n",
      "nan\n",
      "\n",
      "nan\n",
      "tensor(nan, grad_fn=<NllLossBackward0>)\n",
      "nan\n",
      "\n"
     ]
    },
    {
     "name": "stderr",
     "output_type": "stream",
     "text": [
      "epoch: 0 | iteration: 609 | progress: [3050/50000] (6%) | avg loss: nan / accuracy :  0.10: : 609it [00:31, 21.07it/s]"
     ]
    },
    {
     "name": "stdout",
     "output_type": "stream",
     "text": [
      "nan\n",
      "tensor(nan, grad_fn=<NllLossBackward0>)\n",
      "nan\n",
      "\n",
      "nan\n",
      "tensor(nan, grad_fn=<NllLossBackward0>)\n",
      "nan\n",
      "\n",
      "nan\n",
      "tensor(nan, grad_fn=<NllLossBackward0>)\n",
      "nan\n",
      "\n",
      "nan\n",
      "tensor(nan, grad_fn=<NllLossBackward0>)\n",
      "nan\n",
      "\n",
      "nan\n",
      "tensor(nan, grad_fn=<NllLossBackward0>)\n",
      "nan\n",
      "\n"
     ]
    },
    {
     "name": "stderr",
     "output_type": "stream",
     "text": [
      "epoch: 0 | iteration: 614 | progress: [3075/50000] (6%) | avg loss: nan / accuracy :  0.10: : 615it [00:32, 21.19it/s]"
     ]
    },
    {
     "name": "stdout",
     "output_type": "stream",
     "text": [
      "nan\n",
      "tensor(nan, grad_fn=<NllLossBackward0>)\n",
      "nan\n",
      "\n",
      "nan\n",
      "tensor(nan, grad_fn=<NllLossBackward0>)\n",
      "nan\n",
      "\n",
      "nan\n",
      "tensor(nan, grad_fn=<NllLossBackward0>)\n",
      "nan\n",
      "\n",
      "nan\n",
      "tensor(nan, grad_fn=<NllLossBackward0>)\n",
      "nan\n",
      "\n",
      "nan\n",
      "tensor(nan, grad_fn=<NllLossBackward0>)\n",
      "nan\n",
      "\n"
     ]
    },
    {
     "name": "stderr",
     "output_type": "stream",
     "text": [
      "epoch: 0 | iteration: 619 | progress: [3100/50000] (6%) | avg loss: nan / accuracy :  0.10: : 618it [00:32, 20.98it/s]"
     ]
    },
    {
     "name": "stdout",
     "output_type": "stream",
     "text": [
      "nan\n",
      "tensor(nan, grad_fn=<NllLossBackward0>)\n",
      "nan\n",
      "\n",
      "nan\n",
      "tensor(nan, grad_fn=<NllLossBackward0>)\n",
      "nan\n",
      "\n",
      "nan\n",
      "tensor(nan, grad_fn=<NllLossBackward0>)\n",
      "nan\n",
      "\n",
      "nan\n",
      "tensor(nan, grad_fn=<NllLossBackward0>)\n",
      "nan\n",
      "\n",
      "nan\n",
      "tensor(nan, grad_fn=<NllLossBackward0>)\n",
      "nan\n",
      "\n"
     ]
    },
    {
     "name": "stderr",
     "output_type": "stream",
     "text": [
      "epoch: 0 | iteration: 624 | progress: [3125/50000] (6%) | avg loss: nan / accuracy :  0.10: : 624it [00:32, 21.17it/s]"
     ]
    },
    {
     "name": "stdout",
     "output_type": "stream",
     "text": [
      "nan\n",
      "tensor(nan, grad_fn=<NllLossBackward0>)\n",
      "nan\n",
      "\n",
      "nan\n",
      "tensor(nan, grad_fn=<NllLossBackward0>)\n",
      "nan\n",
      "\n",
      "nan\n",
      "tensor(nan, grad_fn=<NllLossBackward0>)\n",
      "nan\n",
      "\n",
      "nan\n",
      "tensor(nan, grad_fn=<NllLossBackward0>)\n",
      "nan\n",
      "\n",
      "nan\n",
      "tensor(nan, grad_fn=<NllLossBackward0>)\n",
      "nan\n",
      "\n"
     ]
    },
    {
     "name": "stderr",
     "output_type": "stream",
     "text": [
      "epoch: 0 | iteration: 628 | progress: [3145/50000] (6%) | avg loss: nan / accuracy :  0.10: : 627it [00:32, 20.30it/s]"
     ]
    },
    {
     "name": "stdout",
     "output_type": "stream",
     "text": [
      "nan\n",
      "tensor(nan, grad_fn=<NllLossBackward0>)\n",
      "nan\n",
      "\n",
      "nan\n",
      "tensor(nan, grad_fn=<NllLossBackward0>)\n",
      "nan\n",
      "\n",
      "nan\n",
      "tensor(nan, grad_fn=<NllLossBackward0>)\n",
      "nan\n",
      "\n",
      "nan\n",
      "tensor(nan, grad_fn=<NllLossBackward0>)\n",
      "nan\n",
      "\n"
     ]
    },
    {
     "name": "stderr",
     "output_type": "stream",
     "text": [
      "epoch: 0 | iteration: 633 | progress: [3170/50000] (6%) | avg loss: nan / accuracy :  0.10: : 632it [00:33, 19.57it/s]"
     ]
    },
    {
     "name": "stdout",
     "output_type": "stream",
     "text": [
      "nan\n",
      "tensor(nan, grad_fn=<NllLossBackward0>)\n",
      "nan\n",
      "\n",
      "nan\n",
      "tensor(nan, grad_fn=<NllLossBackward0>)\n",
      "nan\n",
      "\n",
      "nan\n",
      "tensor(nan, grad_fn=<NllLossBackward0>)\n",
      "nan\n",
      "\n",
      "nan\n",
      "tensor(nan, grad_fn=<NllLossBackward0>)\n",
      "nan\n",
      "\n",
      "nan\n",
      "tensor(nan, grad_fn=<NllLossBackward0>)\n",
      "nan\n",
      "\n"
     ]
    },
    {
     "name": "stderr",
     "output_type": "stream",
     "text": [
      "epoch: 0 | iteration: 638 | progress: [3195/50000] (6%) | avg loss: nan / accuracy :  0.10: : 638it [00:33, 20.21it/s]"
     ]
    },
    {
     "name": "stdout",
     "output_type": "stream",
     "text": [
      "nan\n",
      "tensor(nan, grad_fn=<NllLossBackward0>)\n",
      "nan\n",
      "\n",
      "nan\n",
      "tensor(nan, grad_fn=<NllLossBackward0>)\n",
      "nan\n",
      "\n",
      "nan\n",
      "tensor(nan, grad_fn=<NllLossBackward0>)\n",
      "nan\n",
      "\n",
      "nan\n",
      "tensor(nan, grad_fn=<NllLossBackward0>)\n",
      "nan\n",
      "\n",
      "nan\n",
      "tensor(nan, grad_fn=<NllLossBackward0>)\n",
      "nan\n",
      "\n"
     ]
    },
    {
     "name": "stderr",
     "output_type": "stream",
     "text": [
      "epoch: 0 | iteration: 643 | progress: [3220/50000] (6%) | avg loss: nan / accuracy :  0.10: : 644it [00:33, 20.61it/s]"
     ]
    },
    {
     "name": "stdout",
     "output_type": "stream",
     "text": [
      "nan\n",
      "tensor(nan, grad_fn=<NllLossBackward0>)\n",
      "nan\n",
      "\n",
      "nan\n",
      "tensor(nan, grad_fn=<NllLossBackward0>)\n",
      "nan\n",
      "\n",
      "nan\n",
      "tensor(nan, grad_fn=<NllLossBackward0>)\n",
      "nan\n",
      "\n",
      "nan\n",
      "tensor(nan, grad_fn=<NllLossBackward0>)\n",
      "nan\n",
      "\n",
      "nan\n",
      "tensor(nan, grad_fn=<NllLossBackward0>)\n",
      "nan\n",
      "\n"
     ]
    },
    {
     "name": "stderr",
     "output_type": "stream",
     "text": [
      "epoch: 0 | iteration: 647 | progress: [3240/50000] (6%) | avg loss: nan / accuracy :  0.10: : 647it [00:33, 20.50it/s]"
     ]
    },
    {
     "name": "stdout",
     "output_type": "stream",
     "text": [
      "nan\n",
      "tensor(nan, grad_fn=<NllLossBackward0>)\n",
      "nan\n",
      "\n",
      "nan\n",
      "tensor(nan, grad_fn=<NllLossBackward0>)\n",
      "nan\n",
      "\n",
      "nan\n",
      "tensor(nan, grad_fn=<NllLossBackward0>)\n",
      "nan\n",
      "\n",
      "nan\n",
      "tensor(nan, grad_fn=<NllLossBackward0>)\n",
      "nan\n",
      "\n"
     ]
    },
    {
     "name": "stderr",
     "output_type": "stream",
     "text": [
      "epoch: 0 | iteration: 651 | progress: [3260/50000] (7%) | avg loss: nan / accuracy :  0.10: : 652it [00:33, 19.60it/s]"
     ]
    },
    {
     "name": "stdout",
     "output_type": "stream",
     "text": [
      "nan\n",
      "tensor(nan, grad_fn=<NllLossBackward0>)\n",
      "nan\n",
      "\n",
      "nan\n",
      "tensor(nan, grad_fn=<NllLossBackward0>)\n",
      "nan\n",
      "\n",
      "nan\n",
      "tensor(nan, grad_fn=<NllLossBackward0>)\n",
      "nan\n",
      "\n",
      "nan\n",
      "tensor(nan, grad_fn=<NllLossBackward0>)\n",
      "nan\n",
      "\n"
     ]
    },
    {
     "name": "stderr",
     "output_type": "stream",
     "text": [
      "epoch: 0 | iteration: 656 | progress: [3285/50000] (7%) | avg loss: nan / accuracy :  0.10: : 657it [00:34, 20.11it/s]"
     ]
    },
    {
     "name": "stdout",
     "output_type": "stream",
     "text": [
      "nan\n",
      "tensor(nan, grad_fn=<NllLossBackward0>)\n",
      "nan\n",
      "\n",
      "nan\n",
      "tensor(nan, grad_fn=<NllLossBackward0>)\n",
      "nan\n",
      "\n",
      "nan\n",
      "tensor(nan, grad_fn=<NllLossBackward0>)\n",
      "nan\n",
      "\n",
      "nan\n",
      "tensor(nan, grad_fn=<NllLossBackward0>)\n",
      "nan\n",
      "\n",
      "nan\n",
      "tensor(nan, grad_fn=<NllLossBackward0>)\n",
      "nan\n",
      "\n"
     ]
    },
    {
     "name": "stderr",
     "output_type": "stream",
     "text": [
      "epoch: 0 | iteration: 661 | progress: [3310/50000] (7%) | avg loss: nan / accuracy :  0.10: : 660it [00:34, 20.44it/s]"
     ]
    },
    {
     "name": "stdout",
     "output_type": "stream",
     "text": [
      "nan\n",
      "tensor(nan, grad_fn=<NllLossBackward0>)\n",
      "nan\n",
      "\n",
      "nan\n",
      "tensor(nan, grad_fn=<NllLossBackward0>)\n",
      "nan\n",
      "\n",
      "nan\n",
      "tensor(nan, grad_fn=<NllLossBackward0>)\n",
      "nan\n",
      "\n",
      "nan\n",
      "tensor(nan, grad_fn=<NllLossBackward0>)\n",
      "nan\n",
      "\n",
      "nan\n",
      "tensor(nan, grad_fn=<NllLossBackward0>)\n",
      "nan\n",
      "\n"
     ]
    },
    {
     "name": "stderr",
     "output_type": "stream",
     "text": [
      "epoch: 0 | iteration: 666 | progress: [3335/50000] (7%) | avg loss: nan / accuracy :  0.10: : 666it [00:34, 20.75it/s]"
     ]
    },
    {
     "name": "stdout",
     "output_type": "stream",
     "text": [
      "nan\n",
      "tensor(nan, grad_fn=<NllLossBackward0>)\n",
      "nan\n",
      "\n",
      "nan\n",
      "tensor(nan, grad_fn=<NllLossBackward0>)\n",
      "nan\n",
      "\n",
      "nan\n",
      "tensor(nan, grad_fn=<NllLossBackward0>)\n",
      "nan\n",
      "\n",
      "nan\n",
      "tensor(nan, grad_fn=<NllLossBackward0>)\n",
      "nan\n",
      "\n",
      "nan\n",
      "tensor(nan, grad_fn=<NllLossBackward0>)\n",
      "nan\n",
      "\n"
     ]
    },
    {
     "name": "stderr",
     "output_type": "stream",
     "text": [
      "epoch: 0 | iteration: 670 | progress: [3355/50000] (7%) | avg loss: nan / accuracy :  0.10: : 669it [00:34, 20.67it/s]"
     ]
    },
    {
     "name": "stdout",
     "output_type": "stream",
     "text": [
      "nan\n",
      "tensor(nan, grad_fn=<NllLossBackward0>)\n",
      "nan\n",
      "\n",
      "nan\n",
      "tensor(nan, grad_fn=<NllLossBackward0>)\n",
      "nan\n",
      "\n",
      "nan\n",
      "tensor(nan, grad_fn=<NllLossBackward0>)\n",
      "nan\n",
      "\n",
      "nan\n",
      "tensor(nan, grad_fn=<NllLossBackward0>)\n",
      "nan\n",
      "\n"
     ]
    },
    {
     "name": "stderr",
     "output_type": "stream",
     "text": [
      "epoch: 0 | iteration: 675 | progress: [3380/50000] (7%) | avg loss: nan / accuracy :  0.10: : 675it [00:35, 20.28it/s]"
     ]
    },
    {
     "name": "stdout",
     "output_type": "stream",
     "text": [
      "nan\n",
      "tensor(nan, grad_fn=<NllLossBackward0>)\n",
      "nan\n",
      "\n",
      "nan\n",
      "tensor(nan, grad_fn=<NllLossBackward0>)\n",
      "nan\n",
      "\n",
      "nan\n",
      "tensor(nan, grad_fn=<NllLossBackward0>)\n",
      "nan\n",
      "\n",
      "nan\n",
      "tensor(nan, grad_fn=<NllLossBackward0>)\n",
      "nan\n",
      "\n",
      "nan\n",
      "tensor(nan, grad_fn=<NllLossBackward0>)\n",
      "nan\n",
      "\n"
     ]
    },
    {
     "name": "stderr",
     "output_type": "stream",
     "text": [
      "epoch: 0 | iteration: 680 | progress: [3405/50000] (7%) | avg loss: nan / accuracy :  0.10: : 681it [00:35, 20.76it/s]"
     ]
    },
    {
     "name": "stdout",
     "output_type": "stream",
     "text": [
      "nan\n",
      "tensor(nan, grad_fn=<NllLossBackward0>)\n",
      "nan\n",
      "\n",
      "nan\n",
      "tensor(nan, grad_fn=<NllLossBackward0>)\n",
      "nan\n",
      "\n",
      "nan\n",
      "tensor(nan, grad_fn=<NllLossBackward0>)\n",
      "nan\n",
      "\n",
      "nan\n",
      "tensor(nan, grad_fn=<NllLossBackward0>)\n",
      "nan\n",
      "\n",
      "nan\n",
      "tensor(nan, grad_fn=<NllLossBackward0>)\n",
      "nan\n",
      "\n"
     ]
    },
    {
     "name": "stderr",
     "output_type": "stream",
     "text": [
      "epoch: 0 | iteration: 685 | progress: [3430/50000] (7%) | avg loss: nan / accuracy :  0.10: : 684it [00:35, 20.91it/s]"
     ]
    },
    {
     "name": "stdout",
     "output_type": "stream",
     "text": [
      "nan\n",
      "tensor(nan, grad_fn=<NllLossBackward0>)\n",
      "nan\n",
      "\n",
      "nan\n",
      "tensor(nan, grad_fn=<NllLossBackward0>)\n",
      "nan\n",
      "\n",
      "nan\n",
      "tensor(nan, grad_fn=<NllLossBackward0>)\n",
      "nan\n",
      "\n",
      "nan\n",
      "tensor(nan, grad_fn=<NllLossBackward0>)\n",
      "nan\n",
      "\n",
      "nan\n",
      "tensor(nan, grad_fn=<NllLossBackward0>)\n",
      "nan\n",
      "\n"
     ]
    },
    {
     "name": "stderr",
     "output_type": "stream",
     "text": [
      "epoch: 0 | iteration: 690 | progress: [3455/50000] (7%) | avg loss: nan / accuracy :  0.10: : 690it [00:35, 20.88it/s]"
     ]
    },
    {
     "name": "stdout",
     "output_type": "stream",
     "text": [
      "nan\n",
      "tensor(nan, grad_fn=<NllLossBackward0>)\n",
      "nan\n",
      "\n",
      "nan\n",
      "tensor(nan, grad_fn=<NllLossBackward0>)\n",
      "nan\n",
      "\n",
      "nan\n",
      "tensor(nan, grad_fn=<NllLossBackward0>)\n",
      "nan\n",
      "\n",
      "nan\n",
      "tensor(nan, grad_fn=<NllLossBackward0>)\n",
      "nan\n",
      "\n",
      "nan\n",
      "tensor(nan, grad_fn=<NllLossBackward0>)\n",
      "nan\n",
      "\n"
     ]
    },
    {
     "name": "stderr",
     "output_type": "stream",
     "text": [
      "epoch: 0 | iteration: 695 | progress: [3480/50000] (7%) | avg loss: nan / accuracy :  0.10: : 696it [00:36, 20.89it/s]"
     ]
    },
    {
     "name": "stdout",
     "output_type": "stream",
     "text": [
      "nan\n",
      "tensor(nan, grad_fn=<NllLossBackward0>)\n",
      "nan\n",
      "\n",
      "nan\n",
      "tensor(nan, grad_fn=<NllLossBackward0>)\n",
      "nan\n",
      "\n",
      "nan\n",
      "tensor(nan, grad_fn=<NllLossBackward0>)\n",
      "nan\n",
      "\n",
      "nan\n",
      "tensor(nan, grad_fn=<NllLossBackward0>)\n",
      "nan\n",
      "\n",
      "nan\n",
      "tensor(nan, grad_fn=<NllLossBackward0>)\n",
      "nan\n",
      "\n"
     ]
    },
    {
     "name": "stderr",
     "output_type": "stream",
     "text": [
      "epoch: 0 | iteration: 700 | progress: [3505/50000] (7%) | avg loss: nan / accuracy :  0.10: : 699it [00:36, 20.83it/s]"
     ]
    },
    {
     "name": "stdout",
     "output_type": "stream",
     "text": [
      "nan\n",
      "tensor(nan, grad_fn=<NllLossBackward0>)\n",
      "nan\n",
      "\n",
      "nan\n",
      "tensor(nan, grad_fn=<NllLossBackward0>)\n",
      "nan\n",
      "\n",
      "nan\n",
      "tensor(nan, grad_fn=<NllLossBackward0>)\n",
      "nan\n",
      "\n",
      "nan\n",
      "tensor(nan, grad_fn=<NllLossBackward0>)\n",
      "nan\n",
      "\n",
      "nan\n",
      "tensor(nan, grad_fn=<NllLossBackward0>)\n",
      "nan\n",
      "\n"
     ]
    },
    {
     "name": "stderr",
     "output_type": "stream",
     "text": [
      "epoch: 0 | iteration: 705 | progress: [3530/50000] (7%) | avg loss: nan / accuracy :  0.10: : 705it [00:36, 20.75it/s]"
     ]
    },
    {
     "name": "stdout",
     "output_type": "stream",
     "text": [
      "nan\n",
      "tensor(nan, grad_fn=<NllLossBackward0>)\n",
      "nan\n",
      "\n",
      "nan\n",
      "tensor(nan, grad_fn=<NllLossBackward0>)\n",
      "nan\n",
      "\n",
      "nan\n",
      "tensor(nan, grad_fn=<NllLossBackward0>)\n",
      "nan\n",
      "\n",
      "nan\n",
      "tensor(nan, grad_fn=<NllLossBackward0>)\n",
      "nan\n",
      "\n",
      "nan\n",
      "tensor(nan, grad_fn=<NllLossBackward0>)\n",
      "nan\n",
      "\n"
     ]
    },
    {
     "name": "stderr",
     "output_type": "stream",
     "text": [
      "epoch: 0 | iteration: 709 | progress: [3550/50000] (7%) | avg loss: nan / accuracy :  0.10: : 708it [00:36, 20.76it/s]"
     ]
    },
    {
     "name": "stdout",
     "output_type": "stream",
     "text": [
      "nan\n",
      "tensor(nan, grad_fn=<NllLossBackward0>)\n",
      "nan\n",
      "\n",
      "nan\n",
      "tensor(nan, grad_fn=<NllLossBackward0>)\n",
      "nan\n",
      "\n",
      "nan\n",
      "tensor(nan, grad_fn=<NllLossBackward0>)\n",
      "nan\n",
      "\n",
      "nan\n",
      "tensor(nan, grad_fn=<NllLossBackward0>)\n",
      "nan\n",
      "\n"
     ]
    },
    {
     "name": "stderr",
     "output_type": "stream",
     "text": [
      "epoch: 0 | iteration: 713 | progress: [3570/50000] (7%) | avg loss: nan / accuracy :  0.10: : 713it [00:36, 19.64it/s]"
     ]
    },
    {
     "name": "stdout",
     "output_type": "stream",
     "text": [
      "nan\n",
      "tensor(nan, grad_fn=<NllLossBackward0>)\n",
      "nan\n",
      "\n",
      "nan\n",
      "tensor(nan, grad_fn=<NllLossBackward0>)\n",
      "nan\n",
      "\n",
      "nan\n",
      "tensor(nan, grad_fn=<NllLossBackward0>)\n",
      "nan\n",
      "\n",
      "nan\n",
      "tensor(nan, grad_fn=<NllLossBackward0>)\n",
      "nan\n",
      "\n"
     ]
    },
    {
     "name": "stderr",
     "output_type": "stream",
     "text": [
      "epoch: 0 | iteration: 717 | progress: [3590/50000] (7%) | avg loss: nan / accuracy :  0.10: : 717it [00:37, 19.68it/s]"
     ]
    },
    {
     "name": "stdout",
     "output_type": "stream",
     "text": [
      "nan\n",
      "tensor(nan, grad_fn=<NllLossBackward0>)\n",
      "nan\n",
      "\n",
      "nan\n",
      "tensor(nan, grad_fn=<NllLossBackward0>)\n",
      "nan\n",
      "\n",
      "nan\n",
      "tensor(nan, grad_fn=<NllLossBackward0>)\n",
      "nan\n",
      "\n",
      "nan\n",
      "tensor(nan, grad_fn=<NllLossBackward0>)\n",
      "nan\n",
      "\n"
     ]
    },
    {
     "name": "stderr",
     "output_type": "stream",
     "text": [
      "epoch: 0 | iteration: 721 | progress: [3610/50000] (7%) | avg loss: nan / accuracy :  0.10: : 721it [00:37, 18.99it/s]"
     ]
    },
    {
     "name": "stdout",
     "output_type": "stream",
     "text": [
      "nan\n",
      "tensor(nan, grad_fn=<NllLossBackward0>)\n",
      "nan\n",
      "\n",
      "nan\n",
      "tensor(nan, grad_fn=<NllLossBackward0>)\n",
      "nan\n",
      "\n",
      "nan\n",
      "tensor(nan, grad_fn=<NllLossBackward0>)\n",
      "nan\n",
      "\n",
      "nan\n",
      "tensor(nan, grad_fn=<NllLossBackward0>)\n",
      "nan\n",
      "\n"
     ]
    },
    {
     "name": "stderr",
     "output_type": "stream",
     "text": [
      "epoch: 0 | iteration: 725 | progress: [3630/50000] (7%) | avg loss: nan / accuracy :  0.10: : 725it [00:37, 19.06it/s]"
     ]
    },
    {
     "name": "stdout",
     "output_type": "stream",
     "text": [
      "nan\n",
      "tensor(nan, grad_fn=<NllLossBackward0>)\n",
      "nan\n",
      "\n",
      "nan\n",
      "tensor(nan, grad_fn=<NllLossBackward0>)\n",
      "nan\n",
      "\n",
      "nan\n",
      "tensor(nan, grad_fn=<NllLossBackward0>)\n",
      "nan\n",
      "\n",
      "nan\n",
      "tensor(nan, grad_fn=<NllLossBackward0>)\n",
      "nan\n",
      "\n"
     ]
    },
    {
     "name": "stderr",
     "output_type": "stream",
     "text": [
      "epoch: 0 | iteration: 729 | progress: [3650/50000] (7%) | avg loss: nan / accuracy :  0.10: : 729it [00:37, 19.03it/s]"
     ]
    },
    {
     "name": "stdout",
     "output_type": "stream",
     "text": [
      "nan\n",
      "tensor(nan, grad_fn=<NllLossBackward0>)\n",
      "nan\n",
      "\n",
      "nan\n",
      "tensor(nan, grad_fn=<NllLossBackward0>)\n",
      "nan\n",
      "\n",
      "nan\n",
      "tensor(nan, grad_fn=<NllLossBackward0>)\n",
      "nan\n",
      "\n",
      "nan\n",
      "tensor(nan, grad_fn=<NllLossBackward0>)\n",
      "nan\n",
      "\n"
     ]
    },
    {
     "name": "stderr",
     "output_type": "stream",
     "text": [
      "epoch: 0 | iteration: 733 | progress: [3670/50000] (7%) | avg loss: nan / accuracy :  0.10: : 733it [00:38, 16.90it/s]"
     ]
    },
    {
     "name": "stdout",
     "output_type": "stream",
     "text": [
      "nan\n",
      "tensor(nan, grad_fn=<NllLossBackward0>)\n",
      "nan\n",
      "\n",
      "nan\n",
      "tensor(nan, grad_fn=<NllLossBackward0>)\n",
      "nan\n",
      "\n",
      "nan\n",
      "tensor(nan, grad_fn=<NllLossBackward0>)\n",
      "nan\n",
      "\n",
      "nan\n",
      "tensor(nan, grad_fn=<NllLossBackward0>)\n",
      "nan\n",
      "\n"
     ]
    },
    {
     "name": "stderr",
     "output_type": "stream",
     "text": [
      "epoch: 0 | iteration: 737 | progress: [3690/50000] (7%) | avg loss: nan / accuracy :  0.10: : 738it [00:38, 18.03it/s]"
     ]
    },
    {
     "name": "stdout",
     "output_type": "stream",
     "text": [
      "nan\n",
      "tensor(nan, grad_fn=<NllLossBackward0>)\n",
      "nan\n",
      "\n",
      "nan\n",
      "tensor(nan, grad_fn=<NllLossBackward0>)\n",
      "nan\n",
      "\n",
      "nan\n",
      "tensor(nan, grad_fn=<NllLossBackward0>)\n",
      "nan\n",
      "\n",
      "nan\n",
      "tensor(nan, grad_fn=<NllLossBackward0>)\n",
      "nan\n",
      "\n"
     ]
    },
    {
     "name": "stderr",
     "output_type": "stream",
     "text": [
      "epoch: 0 | iteration: 742 | progress: [3715/50000] (7%) | avg loss: nan / accuracy :  0.10: : 743it [00:38, 19.06it/s]"
     ]
    },
    {
     "name": "stdout",
     "output_type": "stream",
     "text": [
      "nan\n",
      "tensor(nan, grad_fn=<NllLossBackward0>)\n",
      "nan\n",
      "\n",
      "nan\n",
      "tensor(nan, grad_fn=<NllLossBackward0>)\n",
      "nan\n",
      "\n",
      "nan\n",
      "tensor(nan, grad_fn=<NllLossBackward0>)\n",
      "nan\n",
      "\n",
      "nan\n",
      "tensor(nan, grad_fn=<NllLossBackward0>)\n",
      "nan\n",
      "\n",
      "nan\n",
      "tensor(nan, grad_fn=<NllLossBackward0>)\n",
      "nan\n",
      "\n"
     ]
    },
    {
     "name": "stderr",
     "output_type": "stream",
     "text": [
      "epoch: 0 | iteration: 747 | progress: [3740/50000] (7%) | avg loss: nan / accuracy :  0.10: : 748it [00:38, 19.58it/s]"
     ]
    },
    {
     "name": "stdout",
     "output_type": "stream",
     "text": [
      "nan\n",
      "tensor(nan, grad_fn=<NllLossBackward0>)\n",
      "nan\n",
      "\n",
      "nan\n",
      "tensor(nan, grad_fn=<NllLossBackward0>)\n",
      "nan\n",
      "\n",
      "nan\n",
      "tensor(nan, grad_fn=<NllLossBackward0>)\n",
      "nan\n",
      "\n",
      "nan\n",
      "tensor(nan, grad_fn=<NllLossBackward0>)\n",
      "nan\n",
      "\n",
      "nan\n",
      "tensor(nan, grad_fn=<NllLossBackward0>)\n",
      "nan\n",
      "\n"
     ]
    },
    {
     "name": "stderr",
     "output_type": "stream",
     "text": [
      "epoch: 0 | iteration: 752 | progress: [3765/50000] (8%) | avg loss: nan / accuracy :  0.10: : 751it [00:39, 19.83it/s]"
     ]
    },
    {
     "name": "stdout",
     "output_type": "stream",
     "text": [
      "nan\n",
      "tensor(nan, grad_fn=<NllLossBackward0>)\n",
      "nan\n",
      "\n",
      "nan\n",
      "tensor(nan, grad_fn=<NllLossBackward0>)\n",
      "nan\n",
      "\n",
      "nan\n",
      "tensor(nan, grad_fn=<NllLossBackward0>)\n",
      "nan\n",
      "\n",
      "nan\n",
      "tensor(nan, grad_fn=<NllLossBackward0>)\n",
      "nan\n",
      "\n",
      "nan\n",
      "tensor(nan, grad_fn=<NllLossBackward0>)\n",
      "nan\n",
      "\n"
     ]
    },
    {
     "name": "stderr",
     "output_type": "stream",
     "text": [
      "epoch: 0 | iteration: 757 | progress: [3790/50000] (8%) | avg loss: nan / accuracy :  0.10: : 757it [00:39, 20.06it/s]"
     ]
    },
    {
     "name": "stdout",
     "output_type": "stream",
     "text": [
      "nan\n",
      "tensor(nan, grad_fn=<NllLossBackward0>)\n",
      "nan\n",
      "\n",
      "nan\n",
      "tensor(nan, grad_fn=<NllLossBackward0>)\n",
      "nan\n",
      "\n",
      "nan\n",
      "tensor(nan, grad_fn=<NllLossBackward0>)\n",
      "nan\n",
      "\n",
      "nan\n",
      "tensor(nan, grad_fn=<NllLossBackward0>)\n",
      "nan\n",
      "\n",
      "nan\n",
      "tensor(nan, grad_fn=<NllLossBackward0>)\n",
      "nan\n",
      "\n"
     ]
    },
    {
     "name": "stderr",
     "output_type": "stream",
     "text": [
      "epoch: 0 | iteration: 762 | progress: [3815/50000] (8%) | avg loss: nan / accuracy :  0.10: : 763it [00:39, 20.23it/s]"
     ]
    },
    {
     "name": "stdout",
     "output_type": "stream",
     "text": [
      "nan\n",
      "tensor(nan, grad_fn=<NllLossBackward0>)\n",
      "nan\n",
      "\n",
      "nan\n",
      "tensor(nan, grad_fn=<NllLossBackward0>)\n",
      "nan\n",
      "\n",
      "nan\n",
      "tensor(nan, grad_fn=<NllLossBackward0>)\n",
      "nan\n",
      "\n",
      "nan\n",
      "tensor(nan, grad_fn=<NllLossBackward0>)\n",
      "nan\n",
      "\n",
      "nan\n",
      "tensor(nan, grad_fn=<NllLossBackward0>)\n",
      "nan\n",
      "\n"
     ]
    },
    {
     "name": "stderr",
     "output_type": "stream",
     "text": [
      "epoch: 0 | iteration: 767 | progress: [3840/50000] (8%) | avg loss: nan / accuracy :  0.10: : 766it [00:39, 20.36it/s]"
     ]
    },
    {
     "name": "stdout",
     "output_type": "stream",
     "text": [
      "nan\n",
      "tensor(nan, grad_fn=<NllLossBackward0>)\n",
      "nan\n",
      "\n",
      "nan\n",
      "tensor(nan, grad_fn=<NllLossBackward0>)\n",
      "nan\n",
      "\n",
      "nan\n",
      "tensor(nan, grad_fn=<NllLossBackward0>)\n",
      "nan\n",
      "\n",
      "nan\n",
      "tensor(nan, grad_fn=<NllLossBackward0>)\n",
      "nan\n",
      "\n",
      "nan\n",
      "tensor(nan, grad_fn=<NllLossBackward0>)\n",
      "nan\n",
      "\n"
     ]
    },
    {
     "name": "stderr",
     "output_type": "stream",
     "text": [
      "epoch: 0 | iteration: 771 | progress: [3860/50000] (8%) | avg loss: nan / accuracy :  0.10: : 772it [00:40, 19.74it/s]"
     ]
    },
    {
     "name": "stdout",
     "output_type": "stream",
     "text": [
      "nan\n",
      "tensor(nan, grad_fn=<NllLossBackward0>)\n",
      "nan\n",
      "\n",
      "nan\n",
      "tensor(nan, grad_fn=<NllLossBackward0>)\n",
      "nan\n",
      "\n",
      "nan\n",
      "tensor(nan, grad_fn=<NllLossBackward0>)\n",
      "nan\n",
      "\n",
      "nan\n",
      "tensor(nan, grad_fn=<NllLossBackward0>)\n",
      "nan\n",
      "\n"
     ]
    },
    {
     "name": "stderr",
     "output_type": "stream",
     "text": [
      "epoch: 0 | iteration: 776 | progress: [3885/50000] (8%) | avg loss: nan / accuracy :  0.10: : 775it [00:40, 19.94it/s]"
     ]
    },
    {
     "name": "stdout",
     "output_type": "stream",
     "text": [
      "nan\n",
      "tensor(nan, grad_fn=<NllLossBackward0>)\n",
      "nan\n",
      "\n",
      "nan\n",
      "tensor(nan, grad_fn=<NllLossBackward0>)\n",
      "nan\n",
      "\n",
      "nan\n",
      "tensor(nan, grad_fn=<NllLossBackward0>)\n",
      "nan\n",
      "\n",
      "nan\n",
      "tensor(nan, grad_fn=<NllLossBackward0>)\n",
      "nan\n",
      "\n",
      "nan\n",
      "tensor(nan, grad_fn=<NllLossBackward0>)\n",
      "nan\n",
      "\n"
     ]
    },
    {
     "name": "stderr",
     "output_type": "stream",
     "text": [
      "epoch: 0 | iteration: 781 | progress: [3910/50000] (8%) | avg loss: nan / accuracy :  0.10: : 781it [00:40, 20.22it/s]"
     ]
    },
    {
     "name": "stdout",
     "output_type": "stream",
     "text": [
      "nan\n",
      "tensor(nan, grad_fn=<NllLossBackward0>)\n",
      "nan\n",
      "\n",
      "nan\n",
      "tensor(nan, grad_fn=<NllLossBackward0>)\n",
      "nan\n",
      "\n",
      "nan\n",
      "tensor(nan, grad_fn=<NllLossBackward0>)\n",
      "nan\n",
      "\n",
      "nan\n",
      "tensor(nan, grad_fn=<NllLossBackward0>)\n",
      "nan\n",
      "\n",
      "nan\n",
      "tensor(nan, grad_fn=<NllLossBackward0>)\n",
      "nan\n",
      "\n"
     ]
    },
    {
     "name": "stderr",
     "output_type": "stream",
     "text": [
      "epoch: 0 | iteration: 786 | progress: [3935/50000] (8%) | avg loss: nan / accuracy :  0.10: : 787it [00:40, 20.31it/s]"
     ]
    },
    {
     "name": "stdout",
     "output_type": "stream",
     "text": [
      "nan\n",
      "tensor(nan, grad_fn=<NllLossBackward0>)\n",
      "nan\n",
      "\n",
      "nan\n",
      "tensor(nan, grad_fn=<NllLossBackward0>)\n",
      "nan\n",
      "\n",
      "nan\n",
      "tensor(nan, grad_fn=<NllLossBackward0>)\n",
      "nan\n",
      "\n",
      "nan\n",
      "tensor(nan, grad_fn=<NllLossBackward0>)\n",
      "nan\n",
      "\n",
      "nan\n",
      "tensor(nan, grad_fn=<NllLossBackward0>)\n",
      "nan\n",
      "\n"
     ]
    },
    {
     "name": "stderr",
     "output_type": "stream",
     "text": [
      "epoch: 0 | iteration: 791 | progress: [3960/50000] (8%) | avg loss: nan / accuracy :  0.10: : 790it [00:41, 20.33it/s]"
     ]
    },
    {
     "name": "stdout",
     "output_type": "stream",
     "text": [
      "nan\n",
      "tensor(nan, grad_fn=<NllLossBackward0>)\n",
      "nan\n",
      "\n",
      "nan\n",
      "tensor(nan, grad_fn=<NllLossBackward0>)\n",
      "nan\n",
      "\n",
      "nan\n",
      "tensor(nan, grad_fn=<NllLossBackward0>)\n",
      "nan\n",
      "\n",
      "nan\n",
      "tensor(nan, grad_fn=<NllLossBackward0>)\n",
      "nan\n",
      "\n",
      "nan\n",
      "tensor(nan, grad_fn=<NllLossBackward0>)\n",
      "nan\n",
      "\n"
     ]
    },
    {
     "name": "stderr",
     "output_type": "stream",
     "text": [
      "epoch: 0 | iteration: 796 | progress: [3985/50000] (8%) | avg loss: nan / accuracy :  0.10: : 796it [00:41, 20.18it/s]"
     ]
    },
    {
     "name": "stdout",
     "output_type": "stream",
     "text": [
      "nan\n",
      "tensor(nan, grad_fn=<NllLossBackward0>)\n",
      "nan\n",
      "\n",
      "nan\n",
      "tensor(nan, grad_fn=<NllLossBackward0>)\n",
      "nan\n",
      "\n",
      "nan\n",
      "tensor(nan, grad_fn=<NllLossBackward0>)\n",
      "nan\n",
      "\n",
      "nan\n",
      "tensor(nan, grad_fn=<NllLossBackward0>)\n",
      "nan\n",
      "\n",
      "nan\n",
      "tensor(nan, grad_fn=<NllLossBackward0>)\n",
      "nan\n",
      "\n"
     ]
    },
    {
     "name": "stderr",
     "output_type": "stream",
     "text": [
      "epoch: 0 | iteration: 800 | progress: [4005/50000] (8%) | avg loss: nan / accuracy :  0.10: : 799it [00:41, 20.05it/s]"
     ]
    },
    {
     "name": "stdout",
     "output_type": "stream",
     "text": [
      "nan\n",
      "tensor(nan, grad_fn=<NllLossBackward0>)\n",
      "nan\n",
      "\n",
      "nan\n",
      "tensor(nan, grad_fn=<NllLossBackward0>)\n",
      "nan\n",
      "\n",
      "nan\n",
      "tensor(nan, grad_fn=<NllLossBackward0>)\n",
      "nan\n",
      "\n",
      "nan\n",
      "tensor(nan, grad_fn=<NllLossBackward0>)\n",
      "nan\n",
      "\n",
      "nan\n"
     ]
    },
    {
     "name": "stderr",
     "output_type": "stream",
     "text": [
      "epoch: 0 | iteration: 805 | progress: [4030/50000] (8%) | avg loss: nan / accuracy :  0.10: : 805it [00:41, 20.19it/s]"
     ]
    },
    {
     "name": "stdout",
     "output_type": "stream",
     "text": [
      "tensor(nan, grad_fn=<NllLossBackward0>)\n",
      "nan\n",
      "\n",
      "nan\n",
      "tensor(nan, grad_fn=<NllLossBackward0>)\n",
      "nan\n",
      "\n",
      "nan\n",
      "tensor(nan, grad_fn=<NllLossBackward0>)\n",
      "nan\n",
      "\n",
      "nan\n",
      "tensor(nan, grad_fn=<NllLossBackward0>)\n",
      "nan\n",
      "\n",
      "nan\n",
      "tensor(nan, grad_fn=<NllLossBackward0>)\n",
      "nan\n",
      "\n"
     ]
    },
    {
     "name": "stderr",
     "output_type": "stream",
     "text": [
      "epoch: 0 | iteration: 809 | progress: [4050/50000] (8%) | avg loss: nan / accuracy :  0.10: : 808it [00:41, 20.07it/s]"
     ]
    },
    {
     "name": "stdout",
     "output_type": "stream",
     "text": [
      "nan\n",
      "tensor(nan, grad_fn=<NllLossBackward0>)\n",
      "nan\n",
      "\n",
      "nan\n",
      "tensor(nan, grad_fn=<NllLossBackward0>)\n",
      "nan\n",
      "\n",
      "nan\n",
      "tensor(nan, grad_fn=<NllLossBackward0>)\n",
      "nan\n",
      "\n",
      "nan\n",
      "tensor(nan, grad_fn=<NllLossBackward0>)\n",
      "nan\n",
      "\n",
      "nan\n"
     ]
    },
    {
     "name": "stderr",
     "output_type": "stream",
     "text": [
      "epoch: 0 | iteration: 814 | progress: [4075/50000] (8%) | avg loss: nan / accuracy :  0.10: : 814it [00:42, 20.30it/s]"
     ]
    },
    {
     "name": "stdout",
     "output_type": "stream",
     "text": [
      "tensor(nan, grad_fn=<NllLossBackward0>)\n",
      "nan\n",
      "\n",
      "nan\n",
      "tensor(nan, grad_fn=<NllLossBackward0>)\n",
      "nan\n",
      "\n",
      "nan\n",
      "tensor(nan, grad_fn=<NllLossBackward0>)\n",
      "nan\n",
      "\n",
      "nan\n",
      "tensor(nan, grad_fn=<NllLossBackward0>)\n",
      "nan\n",
      "\n",
      "nan\n",
      "tensor(nan, grad_fn=<NllLossBackward0>)\n",
      "nan\n",
      "\n"
     ]
    },
    {
     "name": "stderr",
     "output_type": "stream",
     "text": [
      "epoch: 0 | iteration: 819 | progress: [4100/50000] (8%) | avg loss: nan / accuracy :  0.10: : 820it [00:42, 20.21it/s]"
     ]
    },
    {
     "name": "stdout",
     "output_type": "stream",
     "text": [
      "nan\n",
      "tensor(nan, grad_fn=<NllLossBackward0>)\n",
      "nan\n",
      "\n",
      "nan\n",
      "tensor(nan, grad_fn=<NllLossBackward0>)\n",
      "nan\n",
      "\n",
      "nan\n",
      "tensor(nan, grad_fn=<NllLossBackward0>)\n",
      "nan\n",
      "\n",
      "nan\n",
      "tensor(nan, grad_fn=<NllLossBackward0>)\n",
      "nan\n",
      "\n",
      "nan\n",
      "tensor(nan, grad_fn=<NllLossBackward0>)\n",
      "nan\n",
      "\n"
     ]
    },
    {
     "name": "stderr",
     "output_type": "stream",
     "text": [
      "epoch: 0 | iteration: 824 | progress: [4125/50000] (8%) | avg loss: nan / accuracy :  0.10: : 823it [00:42, 19.99it/s]"
     ]
    },
    {
     "name": "stdout",
     "output_type": "stream",
     "text": [
      "nan\n",
      "tensor(nan, grad_fn=<NllLossBackward0>)\n",
      "nan\n",
      "\n",
      "nan\n",
      "tensor(nan, grad_fn=<NllLossBackward0>)\n",
      "nan\n",
      "\n",
      "nan\n",
      "tensor(nan, grad_fn=<NllLossBackward0>)\n",
      "nan\n",
      "\n",
      "nan\n",
      "tensor(nan, grad_fn=<NllLossBackward0>)\n",
      "nan\n",
      "\n",
      "nan\n",
      "tensor(nan, grad_fn=<NllLossBackward0>)\n",
      "nan\n",
      "\n"
     ]
    },
    {
     "name": "stderr",
     "output_type": "stream",
     "text": [
      "epoch: 0 | iteration: 828 | progress: [4145/50000] (8%) | avg loss: nan / accuracy :  0.10: : 829it [00:42, 20.07it/s]"
     ]
    },
    {
     "name": "stdout",
     "output_type": "stream",
     "text": [
      "nan\n",
      "tensor(nan, grad_fn=<NllLossBackward0>)\n",
      "nan\n",
      "\n",
      "nan\n",
      "tensor(nan, grad_fn=<NllLossBackward0>)\n",
      "nan\n",
      "\n",
      "nan\n",
      "tensor(nan, grad_fn=<NllLossBackward0>)\n",
      "nan\n",
      "\n",
      "nan\n",
      "tensor(nan, grad_fn=<NllLossBackward0>)\n",
      "nan\n",
      "\n",
      "nan\n"
     ]
    },
    {
     "name": "stderr",
     "output_type": "stream",
     "text": [
      "epoch: 0 | iteration: 833 | progress: [4170/50000] (8%) | avg loss: nan / accuracy :  0.10: : 832it [00:43, 20.17it/s]"
     ]
    },
    {
     "name": "stdout",
     "output_type": "stream",
     "text": [
      "tensor(nan, grad_fn=<NllLossBackward0>)\n",
      "nan\n",
      "\n",
      "nan\n",
      "tensor(nan, grad_fn=<NllLossBackward0>)\n",
      "nan\n",
      "\n",
      "nan\n",
      "tensor(nan, grad_fn=<NllLossBackward0>)\n",
      "nan\n",
      "\n",
      "nan\n",
      "tensor(nan, grad_fn=<NllLossBackward0>)\n",
      "nan\n",
      "\n",
      "nan\n",
      "tensor(nan, grad_fn=<NllLossBackward0>)\n",
      "nan\n",
      "\n"
     ]
    },
    {
     "name": "stderr",
     "output_type": "stream",
     "text": [
      "epoch: 0 | iteration: 838 | progress: [4195/50000] (8%) | avg loss: nan / accuracy :  0.10: : 838it [00:43, 20.29it/s]"
     ]
    },
    {
     "name": "stdout",
     "output_type": "stream",
     "text": [
      "nan\n",
      "tensor(nan, grad_fn=<NllLossBackward0>)\n",
      "nan\n",
      "\n",
      "nan\n",
      "tensor(nan, grad_fn=<NllLossBackward0>)\n",
      "nan\n",
      "\n",
      "nan\n",
      "tensor(nan, grad_fn=<NllLossBackward0>)\n",
      "nan\n",
      "\n",
      "nan\n",
      "tensor(nan, grad_fn=<NllLossBackward0>)\n",
      "nan\n",
      "\n",
      "nan\n",
      "tensor(nan, grad_fn=<NllLossBackward0>)\n",
      "nan\n",
      "\n"
     ]
    },
    {
     "name": "stderr",
     "output_type": "stream",
     "text": [
      "epoch: 0 | iteration: 842 | progress: [4215/50000] (8%) | avg loss: nan / accuracy :  0.10: : 843it [00:43, 19.70it/s]"
     ]
    },
    {
     "name": "stdout",
     "output_type": "stream",
     "text": [
      "nan\n",
      "tensor(nan, grad_fn=<NllLossBackward0>)\n",
      "nan\n",
      "\n",
      "nan\n",
      "tensor(nan, grad_fn=<NllLossBackward0>)\n",
      "nan\n",
      "\n",
      "nan\n",
      "tensor(nan, grad_fn=<NllLossBackward0>)\n",
      "nan\n",
      "\n",
      "nan\n",
      "tensor(nan, grad_fn=<NllLossBackward0>)\n",
      "nan\n",
      "\n"
     ]
    },
    {
     "name": "stderr",
     "output_type": "stream",
     "text": [
      "epoch: 0 | iteration: 846 | progress: [4235/50000] (8%) | avg loss: nan / accuracy :  0.10: : 847it [00:43, 19.25it/s]"
     ]
    },
    {
     "name": "stdout",
     "output_type": "stream",
     "text": [
      "nan\n",
      "tensor(nan, grad_fn=<NllLossBackward0>)\n",
      "nan\n",
      "\n",
      "nan\n",
      "tensor(nan, grad_fn=<NllLossBackward0>)\n",
      "nan\n",
      "\n",
      "nan\n",
      "tensor(nan, grad_fn=<NllLossBackward0>)\n",
      "nan\n",
      "\n",
      "nan\n",
      "tensor(nan, grad_fn=<NllLossBackward0>)\n",
      "nan\n",
      "\n"
     ]
    },
    {
     "name": "stderr",
     "output_type": "stream",
     "text": [
      "epoch: 0 | iteration: 851 | progress: [4260/50000] (9%) | avg loss: nan / accuracy :  0.10: : 850it [00:44, 19.65it/s]"
     ]
    },
    {
     "name": "stdout",
     "output_type": "stream",
     "text": [
      "nan\n",
      "tensor(nan, grad_fn=<NllLossBackward0>)\n",
      "nan\n",
      "\n",
      "nan\n",
      "tensor(nan, grad_fn=<NllLossBackward0>)\n",
      "nan\n",
      "\n",
      "nan\n",
      "tensor(nan, grad_fn=<NllLossBackward0>)\n",
      "nan\n",
      "\n",
      "nan\n",
      "tensor(nan, grad_fn=<NllLossBackward0>)\n",
      "nan\n",
      "\n",
      "nan\n",
      "tensor(nan, grad_fn=<NllLossBackward0>)\n",
      "nan\n",
      "\n"
     ]
    },
    {
     "name": "stderr",
     "output_type": "stream",
     "text": [
      "epoch: 0 | iteration: 855 | progress: [4280/50000] (9%) | avg loss: nan / accuracy :  0.10: : 855it [00:44, 19.31it/s]"
     ]
    },
    {
     "name": "stdout",
     "output_type": "stream",
     "text": [
      "nan\n",
      "tensor(nan, grad_fn=<NllLossBackward0>)\n",
      "nan\n",
      "\n",
      "nan\n",
      "tensor(nan, grad_fn=<NllLossBackward0>)\n",
      "nan\n",
      "\n",
      "nan\n",
      "tensor(nan, grad_fn=<NllLossBackward0>)\n",
      "nan\n",
      "\n",
      "nan\n",
      "tensor(nan, grad_fn=<NllLossBackward0>)\n",
      "nan\n",
      "\n"
     ]
    },
    {
     "name": "stderr",
     "output_type": "stream",
     "text": [
      "epoch: 0 | iteration: 859 | progress: [4300/50000] (9%) | avg loss: nan / accuracy :  0.10: : 859it [00:44, 18.89it/s]"
     ]
    },
    {
     "name": "stdout",
     "output_type": "stream",
     "text": [
      "nan\n",
      "tensor(nan, grad_fn=<NllLossBackward0>)\n",
      "nan\n",
      "\n",
      "nan\n",
      "tensor(nan, grad_fn=<NllLossBackward0>)\n",
      "nan\n",
      "\n",
      "nan\n",
      "tensor(nan, grad_fn=<NllLossBackward0>)\n",
      "nan\n",
      "\n",
      "nan\n",
      "tensor(nan, grad_fn=<NllLossBackward0>)\n",
      "nan\n",
      "\n"
     ]
    },
    {
     "name": "stderr",
     "output_type": "stream",
     "text": [
      "epoch: 0 | iteration: 864 | progress: [4325/50000] (9%) | avg loss: nan / accuracy :  0.10: : 863it [00:44, 18.87it/s]"
     ]
    },
    {
     "name": "stdout",
     "output_type": "stream",
     "text": [
      "nan\n",
      "tensor(nan, grad_fn=<NllLossBackward0>)\n",
      "nan\n",
      "\n",
      "nan\n",
      "tensor(nan, grad_fn=<NllLossBackward0>)\n",
      "nan\n",
      "\n",
      "nan\n",
      "tensor(nan, grad_fn=<NllLossBackward0>)\n",
      "nan\n",
      "\n",
      "nan\n",
      "tensor(nan, grad_fn=<NllLossBackward0>)\n",
      "nan\n",
      "\n",
      "nan\n",
      "tensor(nan, grad_fn=<NllLossBackward0>)\n",
      "nan\n",
      "\n"
     ]
    },
    {
     "name": "stderr",
     "output_type": "stream",
     "text": [
      "epoch: 0 | iteration: 869 | progress: [4350/50000] (9%) | avg loss: nan / accuracy :  0.10: : 869it [00:44, 20.07it/s]"
     ]
    },
    {
     "name": "stdout",
     "output_type": "stream",
     "text": [
      "nan\n",
      "tensor(nan, grad_fn=<NllLossBackward0>)\n",
      "nan\n",
      "\n",
      "nan\n",
      "tensor(nan, grad_fn=<NllLossBackward0>)\n",
      "nan\n",
      "\n",
      "nan\n",
      "tensor(nan, grad_fn=<NllLossBackward0>)\n",
      "nan\n",
      "\n",
      "nan\n",
      "tensor(nan, grad_fn=<NllLossBackward0>)\n",
      "nan\n",
      "\n",
      "nan\n",
      "tensor(nan, grad_fn=<NllLossBackward0>)\n",
      "nan\n",
      "\n"
     ]
    },
    {
     "name": "stderr",
     "output_type": "stream",
     "text": [
      "epoch: 0 | iteration: 874 | progress: [4375/50000] (9%) | avg loss: nan / accuracy :  0.10: : 875it [00:45, 20.19it/s]"
     ]
    },
    {
     "name": "stdout",
     "output_type": "stream",
     "text": [
      "nan\n",
      "tensor(nan, grad_fn=<NllLossBackward0>)\n",
      "nan\n",
      "\n",
      "nan\n",
      "tensor(nan, grad_fn=<NllLossBackward0>)\n",
      "nan\n",
      "\n",
      "nan\n",
      "tensor(nan, grad_fn=<NllLossBackward0>)\n",
      "nan\n",
      "\n",
      "nan\n",
      "tensor(nan, grad_fn=<NllLossBackward0>)\n",
      "nan\n",
      "\n",
      "nan\n",
      "tensor(nan, grad_fn=<NllLossBackward0>)\n",
      "nan\n",
      "\n"
     ]
    },
    {
     "name": "stderr",
     "output_type": "stream",
     "text": [
      "epoch: 0 | iteration: 879 | progress: [4400/50000] (9%) | avg loss: nan / accuracy :  0.10: : 878it [00:45, 20.34it/s]"
     ]
    },
    {
     "name": "stdout",
     "output_type": "stream",
     "text": [
      "nan\n",
      "tensor(nan, grad_fn=<NllLossBackward0>)\n",
      "nan\n",
      "\n",
      "nan\n",
      "tensor(nan, grad_fn=<NllLossBackward0>)\n",
      "nan\n",
      "\n",
      "nan\n",
      "tensor(nan, grad_fn=<NllLossBackward0>)\n",
      "nan\n",
      "\n",
      "nan\n",
      "tensor(nan, grad_fn=<NllLossBackward0>)\n",
      "nan\n",
      "\n",
      "nan\n",
      "tensor(nan, grad_fn=<NllLossBackward0>)\n",
      "nan\n",
      "\n"
     ]
    },
    {
     "name": "stderr",
     "output_type": "stream",
     "text": [
      "epoch: 0 | iteration: 884 | progress: [4425/50000] (9%) | avg loss: nan / accuracy :  0.10: : 884it [00:45, 20.54it/s]"
     ]
    },
    {
     "name": "stdout",
     "output_type": "stream",
     "text": [
      "nan\n",
      "tensor(nan, grad_fn=<NllLossBackward0>)\n",
      "nan\n",
      "\n",
      "nan\n",
      "tensor(nan, grad_fn=<NllLossBackward0>)\n",
      "nan\n",
      "\n",
      "nan\n",
      "tensor(nan, grad_fn=<NllLossBackward0>)\n",
      "nan\n",
      "\n",
      "nan\n",
      "tensor(nan, grad_fn=<NllLossBackward0>)\n",
      "nan\n",
      "\n",
      "nan\n",
      "tensor(nan, grad_fn=<NllLossBackward0>)\n",
      "nan\n",
      "\n"
     ]
    },
    {
     "name": "stderr",
     "output_type": "stream",
     "text": [
      "epoch: 0 | iteration: 888 | progress: [4445/50000] (9%) | avg loss: nan / accuracy :  0.10: : 887it [00:45, 20.44it/s]"
     ]
    },
    {
     "name": "stdout",
     "output_type": "stream",
     "text": [
      "nan\n",
      "tensor(nan, grad_fn=<NllLossBackward0>)\n",
      "nan\n",
      "\n",
      "nan\n",
      "tensor(nan, grad_fn=<NllLossBackward0>)\n",
      "nan\n",
      "\n",
      "nan\n",
      "tensor(nan, grad_fn=<NllLossBackward0>)\n",
      "nan\n",
      "\n",
      "nan\n",
      "tensor(nan, grad_fn=<NllLossBackward0>)\n",
      "nan\n",
      "\n",
      "nan\n"
     ]
    },
    {
     "name": "stderr",
     "output_type": "stream",
     "text": [
      "epoch: 0 | iteration: 892 | progress: [4465/50000] (9%) | avg loss: nan / accuracy :  0.10: : 893it [00:46, 19.62it/s]"
     ]
    },
    {
     "name": "stdout",
     "output_type": "stream",
     "text": [
      "tensor(nan, grad_fn=<NllLossBackward0>)\n",
      "nan\n",
      "\n",
      "nan\n",
      "tensor(nan, grad_fn=<NllLossBackward0>)\n",
      "nan\n",
      "\n",
      "nan\n",
      "tensor(nan, grad_fn=<NllLossBackward0>)\n",
      "nan\n",
      "\n",
      "nan\n",
      "tensor(nan, grad_fn=<NllLossBackward0>)\n",
      "nan\n",
      "\n"
     ]
    },
    {
     "name": "stderr",
     "output_type": "stream",
     "text": [
      "epoch: 0 | iteration: 896 | progress: [4485/50000] (9%) | avg loss: nan / accuracy :  0.10: : 897it [00:46, 18.95it/s]"
     ]
    },
    {
     "name": "stdout",
     "output_type": "stream",
     "text": [
      "nan\n",
      "tensor(nan, grad_fn=<NllLossBackward0>)\n",
      "nan\n",
      "\n",
      "nan\n",
      "tensor(nan, grad_fn=<NllLossBackward0>)\n",
      "nan\n",
      "\n",
      "nan\n",
      "tensor(nan, grad_fn=<NllLossBackward0>)\n",
      "nan\n",
      "\n",
      "nan\n",
      "tensor(nan, grad_fn=<NllLossBackward0>)\n",
      "nan\n",
      "\n"
     ]
    },
    {
     "name": "stderr",
     "output_type": "stream",
     "text": [
      "epoch: 0 | iteration: 900 | progress: [4505/50000] (9%) | avg loss: nan / accuracy :  0.10: : 901it [00:46, 18.38it/s]"
     ]
    },
    {
     "name": "stdout",
     "output_type": "stream",
     "text": [
      "nan\n",
      "tensor(nan, grad_fn=<NllLossBackward0>)\n",
      "nan\n",
      "\n",
      "nan\n",
      "tensor(nan, grad_fn=<NllLossBackward0>)\n",
      "nan\n",
      "\n",
      "nan\n",
      "tensor(nan, grad_fn=<NllLossBackward0>)\n",
      "nan\n",
      "\n",
      "nan\n",
      "tensor(nan, grad_fn=<NllLossBackward0>)\n",
      "nan\n",
      "\n"
     ]
    },
    {
     "name": "stderr",
     "output_type": "stream",
     "text": [
      "epoch: 0 | iteration: 904 | progress: [4525/50000] (9%) | avg loss: nan / accuracy :  0.10: : 905it [00:46, 18.88it/s]"
     ]
    },
    {
     "name": "stdout",
     "output_type": "stream",
     "text": [
      "nan\n",
      "tensor(nan, grad_fn=<NllLossBackward0>)\n",
      "nan\n",
      "\n",
      "nan\n",
      "tensor(nan, grad_fn=<NllLossBackward0>)\n",
      "nan\n",
      "\n",
      "nan\n",
      "tensor(nan, grad_fn=<NllLossBackward0>)\n",
      "nan\n",
      "\n",
      "nan\n",
      "tensor(nan, grad_fn=<NllLossBackward0>)\n",
      "nan\n",
      "\n"
     ]
    },
    {
     "name": "stderr",
     "output_type": "stream",
     "text": [
      "epoch: 0 | iteration: 909 | progress: [4550/50000] (9%) | avg loss: nan / accuracy :  0.10: : 910it [00:46, 19.77it/s]"
     ]
    },
    {
     "name": "stdout",
     "output_type": "stream",
     "text": [
      "nan\n",
      "tensor(nan, grad_fn=<NllLossBackward0>)\n",
      "nan\n",
      "\n",
      "nan\n",
      "tensor(nan, grad_fn=<NllLossBackward0>)\n",
      "nan\n",
      "\n",
      "nan\n",
      "tensor(nan, grad_fn=<NllLossBackward0>)\n",
      "nan\n",
      "\n",
      "nan\n",
      "tensor(nan, grad_fn=<NllLossBackward0>)\n",
      "nan\n",
      "\n",
      "nan\n",
      "tensor(nan, grad_fn=<NllLossBackward0>)\n",
      "nan\n",
      "\n"
     ]
    },
    {
     "name": "stderr",
     "output_type": "stream",
     "text": [
      "epoch: 0 | iteration: 914 | progress: [4575/50000] (9%) | avg loss: nan / accuracy :  0.10: : 915it [00:47, 20.18it/s]"
     ]
    },
    {
     "name": "stdout",
     "output_type": "stream",
     "text": [
      "nan\n",
      "tensor(nan, grad_fn=<NllLossBackward0>)\n",
      "nan\n",
      "\n",
      "nan\n",
      "tensor(nan, grad_fn=<NllLossBackward0>)\n",
      "nan\n",
      "\n",
      "nan\n",
      "tensor(nan, grad_fn=<NllLossBackward0>)\n",
      "nan\n",
      "\n",
      "nan\n",
      "tensor(nan, grad_fn=<NllLossBackward0>)\n",
      "nan\n",
      "\n",
      "nan\n",
      "tensor(nan, grad_fn=<NllLossBackward0>)\n",
      "nan\n",
      "\n"
     ]
    },
    {
     "name": "stderr",
     "output_type": "stream",
     "text": [
      "epoch: 0 | iteration: 919 | progress: [4600/50000] (9%) | avg loss: nan / accuracy :  0.10: : 918it [00:47, 20.47it/s]"
     ]
    },
    {
     "name": "stdout",
     "output_type": "stream",
     "text": [
      "nan\n",
      "tensor(nan, grad_fn=<NllLossBackward0>)\n",
      "nan\n",
      "\n",
      "nan\n",
      "tensor(nan, grad_fn=<NllLossBackward0>)\n",
      "nan\n",
      "\n",
      "nan\n",
      "tensor(nan, grad_fn=<NllLossBackward0>)\n",
      "nan\n",
      "\n",
      "nan\n",
      "tensor(nan, grad_fn=<NllLossBackward0>)\n",
      "nan\n",
      "\n",
      "nan\n",
      "tensor(nan, grad_fn=<NllLossBackward0>)\n",
      "nan\n",
      "\n"
     ]
    },
    {
     "name": "stderr",
     "output_type": "stream",
     "text": [
      "epoch: 0 | iteration: 923 | progress: [4620/50000] (9%) | avg loss: nan / accuracy :  0.10: : 924it [00:47, 20.21it/s]"
     ]
    },
    {
     "name": "stdout",
     "output_type": "stream",
     "text": [
      "nan\n",
      "tensor(nan, grad_fn=<NllLossBackward0>)\n",
      "nan\n",
      "\n",
      "nan\n",
      "tensor(nan, grad_fn=<NllLossBackward0>)\n",
      "nan\n",
      "\n",
      "nan\n",
      "tensor(nan, grad_fn=<NllLossBackward0>)\n",
      "nan\n",
      "\n",
      "nan\n",
      "tensor(nan, grad_fn=<NllLossBackward0>)\n",
      "nan\n",
      "\n"
     ]
    },
    {
     "name": "stderr",
     "output_type": "stream",
     "text": [
      "epoch: 0 | iteration: 928 | progress: [4645/50000] (9%) | avg loss: nan / accuracy :  0.10: : 927it [00:47, 20.21it/s]"
     ]
    },
    {
     "name": "stdout",
     "output_type": "stream",
     "text": [
      "nan\n",
      "tensor(nan, grad_fn=<NllLossBackward0>)\n",
      "nan\n",
      "\n",
      "nan\n",
      "tensor(nan, grad_fn=<NllLossBackward0>)\n",
      "nan\n",
      "\n",
      "nan\n",
      "tensor(nan, grad_fn=<NllLossBackward0>)\n",
      "nan\n",
      "\n",
      "nan\n",
      "tensor(nan, grad_fn=<NllLossBackward0>)\n",
      "nan\n",
      "\n",
      "nan\n",
      "tensor(nan, grad_fn=<NllLossBackward0>)\n",
      "nan\n",
      "\n"
     ]
    },
    {
     "name": "stderr",
     "output_type": "stream",
     "text": [
      "epoch: 0 | iteration: 933 | progress: [4670/50000] (9%) | avg loss: nan / accuracy :  0.10: : 933it [00:48, 20.68it/s]"
     ]
    },
    {
     "name": "stdout",
     "output_type": "stream",
     "text": [
      "nan\n",
      "tensor(nan, grad_fn=<NllLossBackward0>)\n",
      "nan\n",
      "\n",
      "nan\n",
      "tensor(nan, grad_fn=<NllLossBackward0>)\n",
      "nan\n",
      "\n",
      "nan\n",
      "tensor(nan, grad_fn=<NllLossBackward0>)\n",
      "nan\n",
      "\n",
      "nan\n",
      "tensor(nan, grad_fn=<NllLossBackward0>)\n",
      "nan\n",
      "\n",
      "nan\n",
      "tensor(nan, grad_fn=<NllLossBackward0>)\n",
      "nan\n",
      "\n"
     ]
    },
    {
     "name": "stderr",
     "output_type": "stream",
     "text": [
      "epoch: 0 | iteration: 937 | progress: [4690/50000] (9%) | avg loss: nan / accuracy :  0.10: : 936it [00:48, 20.69it/s]"
     ]
    },
    {
     "name": "stdout",
     "output_type": "stream",
     "text": [
      "nan\n",
      "tensor(nan, grad_fn=<NllLossBackward0>)\n",
      "nan\n",
      "\n",
      "nan\n",
      "tensor(nan, grad_fn=<NllLossBackward0>)\n",
      "nan\n",
      "\n",
      "nan\n",
      "tensor(nan, grad_fn=<NllLossBackward0>)\n",
      "nan\n",
      "\n",
      "nan\n",
      "tensor(nan, grad_fn=<NllLossBackward0>)\n",
      "nan\n",
      "\n"
     ]
    },
    {
     "name": "stderr",
     "output_type": "stream",
     "text": [
      "epoch: 0 | iteration: 941 | progress: [4710/50000] (9%) | avg loss: nan / accuracy :  0.10: : 941it [00:48, 19.51it/s]"
     ]
    },
    {
     "name": "stdout",
     "output_type": "stream",
     "text": [
      "nan\n",
      "tensor(nan, grad_fn=<NllLossBackward0>)\n",
      "nan\n",
      "\n",
      "nan\n",
      "tensor(nan, grad_fn=<NllLossBackward0>)\n",
      "nan\n",
      "\n",
      "nan\n",
      "tensor(nan, grad_fn=<NllLossBackward0>)\n",
      "nan\n",
      "\n",
      "nan\n",
      "tensor(nan, grad_fn=<NllLossBackward0>)\n",
      "nan\n",
      "\n"
     ]
    },
    {
     "name": "stderr",
     "output_type": "stream",
     "text": [
      "epoch: 0 | iteration: 945 | progress: [4730/50000] (9%) | avg loss: nan / accuracy :  0.10: : 945it [00:48, 18.17it/s]"
     ]
    },
    {
     "name": "stdout",
     "output_type": "stream",
     "text": [
      "nan\n",
      "tensor(nan, grad_fn=<NllLossBackward0>)\n",
      "nan\n",
      "\n",
      "nan\n",
      "tensor(nan, grad_fn=<NllLossBackward0>)\n",
      "nan\n",
      "\n",
      "nan\n",
      "tensor(nan, grad_fn=<NllLossBackward0>)\n",
      "nan\n",
      "\n",
      "nan\n",
      "tensor(nan, grad_fn=<NllLossBackward0>)\n",
      "nan\n",
      "\n"
     ]
    },
    {
     "name": "stderr",
     "output_type": "stream",
     "text": [
      "epoch: 0 | iteration: 949 | progress: [4750/50000] (9%) | avg loss: nan / accuracy :  0.10: : 949it [00:49, 18.45it/s]"
     ]
    },
    {
     "name": "stdout",
     "output_type": "stream",
     "text": [
      "nan\n",
      "tensor(nan, grad_fn=<NllLossBackward0>)\n",
      "nan\n",
      "\n",
      "nan\n",
      "tensor(nan, grad_fn=<NllLossBackward0>)\n",
      "nan\n",
      "\n",
      "nan\n",
      "tensor(nan, grad_fn=<NllLossBackward0>)\n",
      "nan\n",
      "\n",
      "nan\n",
      "tensor(nan, grad_fn=<NllLossBackward0>)\n",
      "nan\n",
      "\n"
     ]
    },
    {
     "name": "stderr",
     "output_type": "stream",
     "text": [
      "epoch: 0 | iteration: 953 | progress: [4770/50000] (10%) | avg loss: nan / accuracy :  0.10: : 953it [00:49, 18.75it/s]"
     ]
    },
    {
     "name": "stdout",
     "output_type": "stream",
     "text": [
      "nan\n",
      "tensor(nan, grad_fn=<NllLossBackward0>)\n",
      "nan\n",
      "\n",
      "nan\n",
      "tensor(nan, grad_fn=<NllLossBackward0>)\n",
      "nan\n",
      "\n",
      "nan\n",
      "tensor(nan, grad_fn=<NllLossBackward0>)\n",
      "nan\n",
      "\n",
      "nan\n",
      "tensor(nan, grad_fn=<NllLossBackward0>)\n",
      "nan\n",
      "\n"
     ]
    },
    {
     "name": "stderr",
     "output_type": "stream",
     "text": [
      "epoch: 0 | iteration: 957 | progress: [4790/50000] (10%) | avg loss: nan / accuracy :  0.10: : 957it [00:49, 17.65it/s]"
     ]
    },
    {
     "name": "stdout",
     "output_type": "stream",
     "text": [
      "nan\n",
      "tensor(nan, grad_fn=<NllLossBackward0>)\n",
      "nan\n",
      "\n",
      "nan\n",
      "tensor(nan, grad_fn=<NllLossBackward0>)\n",
      "nan\n",
      "\n",
      "nan\n",
      "tensor(nan, grad_fn=<NllLossBackward0>)\n",
      "nan\n",
      "\n",
      "nan\n",
      "tensor(nan, grad_fn=<NllLossBackward0>)\n",
      "nan\n",
      "\n"
     ]
    },
    {
     "name": "stderr",
     "output_type": "stream",
     "text": [
      "epoch: 0 | iteration: 962 | progress: [4815/50000] (10%) | avg loss: nan / accuracy :  0.10: : 962it [00:49, 18.98it/s]"
     ]
    },
    {
     "name": "stdout",
     "output_type": "stream",
     "text": [
      "nan\n",
      "tensor(nan, grad_fn=<NllLossBackward0>)\n",
      "nan\n",
      "\n",
      "nan\n",
      "tensor(nan, grad_fn=<NllLossBackward0>)\n",
      "nan\n",
      "\n",
      "nan\n",
      "tensor(nan, grad_fn=<NllLossBackward0>)\n",
      "nan\n",
      "\n",
      "nan\n",
      "tensor(nan, grad_fn=<NllLossBackward0>)\n",
      "nan\n",
      "\n",
      "nan\n",
      "tensor(nan, grad_fn=<NllLossBackward0>)\n",
      "nan\n",
      "\n"
     ]
    },
    {
     "name": "stderr",
     "output_type": "stream",
     "text": [
      "epoch: 0 | iteration: 966 | progress: [4835/50000] (10%) | avg loss: nan / accuracy :  0.10: : 966it [00:49, 19.03it/s]"
     ]
    },
    {
     "name": "stdout",
     "output_type": "stream",
     "text": [
      "nan\n",
      "tensor(nan, grad_fn=<NllLossBackward0>)\n",
      "nan\n",
      "\n",
      "nan\n",
      "tensor(nan, grad_fn=<NllLossBackward0>)\n",
      "nan\n",
      "\n",
      "nan\n",
      "tensor(nan, grad_fn=<NllLossBackward0>)\n",
      "nan\n",
      "\n",
      "nan\n",
      "tensor(nan, grad_fn=<NllLossBackward0>)\n",
      "nan\n",
      "\n"
     ]
    },
    {
     "name": "stderr",
     "output_type": "stream",
     "text": [
      "epoch: 0 | iteration: 970 | progress: [4855/50000] (10%) | avg loss: nan / accuracy :  0.10: : 969it [00:50, 19.26it/s]"
     ]
    },
    {
     "name": "stdout",
     "output_type": "stream",
     "text": [
      "nan\n",
      "tensor(nan, grad_fn=<NllLossBackward0>)\n",
      "nan\n",
      "\n",
      "nan\n",
      "tensor(nan, grad_fn=<NllLossBackward0>)\n",
      "nan\n",
      "\n",
      "nan\n",
      "tensor(nan, grad_fn=<NllLossBackward0>)\n",
      "nan\n",
      "\n",
      "nan\n",
      "tensor(nan, grad_fn=<NllLossBackward0>)\n",
      "nan\n",
      "\n",
      "nan\n"
     ]
    },
    {
     "name": "stderr",
     "output_type": "stream",
     "text": [
      "epoch: 0 | iteration: 974 | progress: [4875/50000] (10%) | avg loss: nan / accuracy :  0.10: : 974it [00:50, 19.62it/s]"
     ]
    },
    {
     "name": "stdout",
     "output_type": "stream",
     "text": [
      "tensor(nan, grad_fn=<NllLossBackward0>)\n",
      "nan\n",
      "\n",
      "nan\n",
      "tensor(nan, grad_fn=<NllLossBackward0>)\n",
      "nan\n",
      "\n",
      "nan\n",
      "tensor(nan, grad_fn=<NllLossBackward0>)\n",
      "nan\n",
      "\n",
      "nan\n",
      "tensor(nan, grad_fn=<NllLossBackward0>)\n",
      "nan\n",
      "\n",
      "nan\n"
     ]
    },
    {
     "name": "stderr",
     "output_type": "stream",
     "text": [
      "epoch: 0 | iteration: 979 | progress: [4900/50000] (10%) | avg loss: nan / accuracy :  0.10: : 980it [00:50, 20.10it/s]"
     ]
    },
    {
     "name": "stdout",
     "output_type": "stream",
     "text": [
      "tensor(nan, grad_fn=<NllLossBackward0>)\n",
      "nan\n",
      "\n",
      "nan\n",
      "tensor(nan, grad_fn=<NllLossBackward0>)\n",
      "nan\n",
      "\n",
      "nan\n",
      "tensor(nan, grad_fn=<NllLossBackward0>)\n",
      "nan\n",
      "\n",
      "nan\n",
      "tensor(nan, grad_fn=<NllLossBackward0>)\n",
      "nan\n",
      "\n",
      "nan\n",
      "tensor(nan, grad_fn=<NllLossBackward0>)\n",
      "nan\n",
      "\n"
     ]
    },
    {
     "name": "stderr",
     "output_type": "stream",
     "text": [
      "epoch: 0 | iteration: 984 | progress: [4925/50000] (10%) | avg loss: nan / accuracy :  0.10: : 983it [00:50, 19.93it/s]"
     ]
    },
    {
     "name": "stdout",
     "output_type": "stream",
     "text": [
      "nan\n",
      "tensor(nan, grad_fn=<NllLossBackward0>)\n",
      "nan\n",
      "\n",
      "nan\n",
      "tensor(nan, grad_fn=<NllLossBackward0>)\n",
      "nan\n",
      "\n",
      "nan\n",
      "tensor(nan, grad_fn=<NllLossBackward0>)\n",
      "nan\n",
      "\n",
      "nan\n",
      "tensor(nan, grad_fn=<NllLossBackward0>)\n",
      "nan\n",
      "\n",
      "nan\n",
      "tensor(nan, grad_fn=<NllLossBackward0>)\n",
      "nan\n",
      "\n"
     ]
    },
    {
     "name": "stderr",
     "output_type": "stream",
     "text": [
      "epoch: 0 | iteration: 989 | progress: [4950/50000] (10%) | avg loss: nan / accuracy :  0.10: : 988it [00:51, 19.95it/s]"
     ]
    },
    {
     "name": "stdout",
     "output_type": "stream",
     "text": [
      "nan\n",
      "tensor(nan, grad_fn=<NllLossBackward0>)\n",
      "nan\n",
      "\n",
      "nan\n",
      "tensor(nan, grad_fn=<NllLossBackward0>)\n",
      "nan\n",
      "\n",
      "nan\n",
      "tensor(nan, grad_fn=<NllLossBackward0>)\n",
      "nan\n",
      "\n",
      "nan\n",
      "tensor(nan, grad_fn=<NllLossBackward0>)\n",
      "nan\n",
      "\n",
      "nan\n",
      "tensor(nan, grad_fn=<NllLossBackward0>)\n",
      "nan\n",
      "\n"
     ]
    },
    {
     "name": "stderr",
     "output_type": "stream",
     "text": [
      "epoch: 0 | iteration: 993 | progress: [4970/50000] (10%) | avg loss: nan / accuracy :  0.10: : 994it [00:51, 20.06it/s]"
     ]
    },
    {
     "name": "stdout",
     "output_type": "stream",
     "text": [
      "nan\n",
      "tensor(nan, grad_fn=<NllLossBackward0>)\n",
      "nan\n",
      "\n",
      "nan\n",
      "tensor(nan, grad_fn=<NllLossBackward0>)\n",
      "nan\n",
      "\n",
      "nan\n",
      "tensor(nan, grad_fn=<NllLossBackward0>)\n",
      "nan\n",
      "\n",
      "nan\n",
      "tensor(nan, grad_fn=<NllLossBackward0>)\n",
      "nan\n",
      "\n"
     ]
    },
    {
     "name": "stderr",
     "output_type": "stream",
     "text": [
      "epoch: 0 | iteration: 997 | progress: [4990/50000] (10%) | avg loss: nan / accuracy :  0.10: : 997it [00:51, 19.54it/s]"
     ]
    },
    {
     "name": "stdout",
     "output_type": "stream",
     "text": [
      "nan\n",
      "tensor(nan, grad_fn=<NllLossBackward0>)\n",
      "nan\n",
      "\n",
      "nan\n",
      "tensor(nan, grad_fn=<NllLossBackward0>)\n",
      "nan\n",
      "\n",
      "nan\n",
      "tensor(nan, grad_fn=<NllLossBackward0>)\n",
      "nan\n",
      "\n",
      "nan\n",
      "tensor(nan, grad_fn=<NllLossBackward0>)\n",
      "nan\n",
      "\n"
     ]
    },
    {
     "name": "stderr",
     "output_type": "stream",
     "text": [
      "epoch: 0 | iteration: 1001 | progress: [5010/50000] (10%) | avg loss: nan / accuracy :  0.10: : 1001it [00:51, 19.31it/s]"
     ]
    },
    {
     "name": "stdout",
     "output_type": "stream",
     "text": [
      "nan\n",
      "tensor(nan, grad_fn=<NllLossBackward0>)\n",
      "nan\n",
      "\n",
      "nan\n",
      "tensor(nan, grad_fn=<NllLossBackward0>)\n",
      "nan\n",
      "\n",
      "nan\n",
      "tensor(nan, grad_fn=<NllLossBackward0>)\n",
      "nan\n",
      "\n",
      "nan\n",
      "tensor(nan, grad_fn=<NllLossBackward0>)\n",
      "nan\n",
      "\n"
     ]
    },
    {
     "name": "stderr",
     "output_type": "stream",
     "text": [
      "epoch: 0 | iteration: 1005 | progress: [5030/50000] (10%) | avg loss: nan / accuracy :  0.10: : 1005it [00:51, 19.09it/s]"
     ]
    },
    {
     "name": "stdout",
     "output_type": "stream",
     "text": [
      "nan\n",
      "tensor(nan, grad_fn=<NllLossBackward0>)\n",
      "nan\n",
      "\n",
      "nan\n",
      "tensor(nan, grad_fn=<NllLossBackward0>)\n",
      "nan\n",
      "\n",
      "nan\n",
      "tensor(nan, grad_fn=<NllLossBackward0>)\n",
      "nan\n",
      "\n",
      "nan\n",
      "tensor(nan, grad_fn=<NllLossBackward0>)\n",
      "nan\n",
      "\n"
     ]
    },
    {
     "name": "stderr",
     "output_type": "stream",
     "text": [
      "epoch: 0 | iteration: 1009 | progress: [5050/50000] (10%) | avg loss: nan / accuracy :  0.10: : 1009it [00:52, 18.73it/s]"
     ]
    },
    {
     "name": "stdout",
     "output_type": "stream",
     "text": [
      "nan\n",
      "tensor(nan, grad_fn=<NllLossBackward0>)\n",
      "nan\n",
      "\n",
      "nan\n",
      "tensor(nan, grad_fn=<NllLossBackward0>)\n",
      "nan\n",
      "\n",
      "nan\n",
      "tensor(nan, grad_fn=<NllLossBackward0>)\n",
      "nan\n",
      "\n",
      "nan\n",
      "tensor(nan, grad_fn=<NllLossBackward0>)\n",
      "nan\n",
      "\n"
     ]
    },
    {
     "name": "stderr",
     "output_type": "stream",
     "text": [
      "epoch: 0 | iteration: 1013 | progress: [5070/50000] (10%) | avg loss: nan / accuracy :  0.10: : 1013it [00:52, 18.43it/s]"
     ]
    },
    {
     "name": "stdout",
     "output_type": "stream",
     "text": [
      "nan\n",
      "tensor(nan, grad_fn=<NllLossBackward0>)\n",
      "nan\n",
      "\n",
      "nan\n",
      "tensor(nan, grad_fn=<NllLossBackward0>)\n",
      "nan\n",
      "\n",
      "nan\n",
      "tensor(nan, grad_fn=<NllLossBackward0>)\n",
      "nan\n",
      "\n",
      "nan\n",
      "tensor(nan, grad_fn=<NllLossBackward0>)\n",
      "nan\n",
      "\n"
     ]
    },
    {
     "name": "stderr",
     "output_type": "stream",
     "text": [
      "epoch: 0 | iteration: 1017 | progress: [5090/50000] (10%) | avg loss: nan / accuracy :  0.10: : 1017it [00:52, 18.83it/s]"
     ]
    },
    {
     "name": "stdout",
     "output_type": "stream",
     "text": [
      "nan\n",
      "tensor(nan, grad_fn=<NllLossBackward0>)\n",
      "nan\n",
      "\n",
      "nan\n",
      "tensor(nan, grad_fn=<NllLossBackward0>)\n",
      "nan\n",
      "\n",
      "nan\n",
      "tensor(nan, grad_fn=<NllLossBackward0>)\n",
      "nan\n",
      "\n",
      "nan\n",
      "tensor(nan, grad_fn=<NllLossBackward0>)\n",
      "nan\n",
      "\n"
     ]
    },
    {
     "name": "stderr",
     "output_type": "stream",
     "text": [
      "epoch: 0 | iteration: 1021 | progress: [5110/50000] (10%) | avg loss: nan / accuracy :  0.10: : 1021it [00:52, 18.11it/s]"
     ]
    },
    {
     "name": "stdout",
     "output_type": "stream",
     "text": [
      "nan\n",
      "tensor(nan, grad_fn=<NllLossBackward0>)\n",
      "nan\n",
      "\n",
      "nan\n",
      "tensor(nan, grad_fn=<NllLossBackward0>)\n",
      "nan\n",
      "\n",
      "nan\n",
      "tensor(nan, grad_fn=<NllLossBackward0>)\n",
      "nan\n",
      "\n",
      "nan\n",
      "tensor(nan, grad_fn=<NllLossBackward0>)\n",
      "nan\n",
      "\n"
     ]
    },
    {
     "name": "stderr",
     "output_type": "stream",
     "text": [
      "epoch: 0 | iteration: 1025 | progress: [5130/50000] (10%) | avg loss: nan / accuracy :  0.10: : 1025it [00:52, 18.78it/s]"
     ]
    },
    {
     "name": "stdout",
     "output_type": "stream",
     "text": [
      "nan\n",
      "tensor(nan, grad_fn=<NllLossBackward0>)\n",
      "nan\n",
      "\n",
      "nan\n",
      "tensor(nan, grad_fn=<NllLossBackward0>)\n",
      "nan\n",
      "\n",
      "nan\n",
      "tensor(nan, grad_fn=<NllLossBackward0>)\n",
      "nan\n",
      "\n",
      "nan\n",
      "tensor(nan, grad_fn=<NllLossBackward0>)\n",
      "nan\n",
      "\n"
     ]
    },
    {
     "name": "stderr",
     "output_type": "stream",
     "text": [
      "epoch: 0 | iteration: 1030 | progress: [5155/50000] (10%) | avg loss: nan / accuracy :  0.10: : 1030it [00:53, 19.85it/s]"
     ]
    },
    {
     "name": "stdout",
     "output_type": "stream",
     "text": [
      "nan\n",
      "tensor(nan, grad_fn=<NllLossBackward0>)\n",
      "nan\n",
      "\n",
      "nan\n",
      "tensor(nan, grad_fn=<NllLossBackward0>)\n",
      "nan\n",
      "\n",
      "nan\n",
      "tensor(nan, grad_fn=<NllLossBackward0>)\n",
      "nan\n",
      "\n",
      "nan\n",
      "tensor(nan, grad_fn=<NllLossBackward0>)\n",
      "nan\n",
      "\n",
      "nan\n",
      "tensor(nan, grad_fn=<NllLossBackward0>)\n",
      "nan\n",
      "\n"
     ]
    },
    {
     "name": "stderr",
     "output_type": "stream",
     "text": [
      "epoch: 0 | iteration: 1035 | progress: [5180/50000] (10%) | avg loss: nan / accuracy :  0.10: : 1036it [00:53, 20.44it/s]"
     ]
    },
    {
     "name": "stdout",
     "output_type": "stream",
     "text": [
      "nan\n",
      "tensor(nan, grad_fn=<NllLossBackward0>)\n",
      "nan\n",
      "\n",
      "nan\n",
      "tensor(nan, grad_fn=<NllLossBackward0>)\n",
      "nan\n",
      "\n",
      "nan\n",
      "tensor(nan, grad_fn=<NllLossBackward0>)\n",
      "nan\n",
      "\n",
      "nan\n",
      "tensor(nan, grad_fn=<NllLossBackward0>)\n",
      "nan\n",
      "\n",
      "nan\n",
      "tensor(nan, grad_fn=<NllLossBackward0>)\n",
      "nan\n",
      "\n"
     ]
    },
    {
     "name": "stderr",
     "output_type": "stream",
     "text": [
      "epoch: 0 | iteration: 1039 | progress: [5200/50000] (10%) | avg loss: nan / accuracy :  0.10: : 1039it [00:53, 20.19it/s]"
     ]
    },
    {
     "name": "stdout",
     "output_type": "stream",
     "text": [
      "nan\n",
      "tensor(nan, grad_fn=<NllLossBackward0>)\n",
      "nan\n",
      "\n",
      "nan\n",
      "tensor(nan, grad_fn=<NllLossBackward0>)\n",
      "nan\n",
      "\n",
      "nan\n",
      "tensor(nan, grad_fn=<NllLossBackward0>)\n",
      "nan\n",
      "\n",
      "nan\n",
      "tensor(nan, grad_fn=<NllLossBackward0>)\n",
      "nan\n",
      "\n",
      "nan\n"
     ]
    },
    {
     "name": "stderr",
     "output_type": "stream",
     "text": [
      "epoch: 0 | iteration: 1043 | progress: [5220/50000] (10%) | avg loss: nan / accuracy :  0.10: : 1042it [00:53, 20.14it/s]"
     ]
    },
    {
     "name": "stdout",
     "output_type": "stream",
     "text": [
      "tensor(nan, grad_fn=<NllLossBackward0>)\n",
      "nan\n",
      "\n",
      "nan\n",
      "tensor(nan, grad_fn=<NllLossBackward0>)\n",
      "nan\n",
      "\n",
      "nan\n",
      "tensor(nan, grad_fn=<NllLossBackward0>)\n",
      "nan\n",
      "\n",
      "nan\n",
      "tensor(nan, grad_fn=<NllLossBackward0>)\n",
      "nan\n",
      "\n"
     ]
    },
    {
     "name": "stderr",
     "output_type": "stream",
     "text": [
      "epoch: 0 | iteration: 1047 | progress: [5240/50000] (10%) | avg loss: nan / accuracy :  0.10: : 1047it [00:54, 19.47it/s]"
     ]
    },
    {
     "name": "stdout",
     "output_type": "stream",
     "text": [
      "nan\n",
      "tensor(nan, grad_fn=<NllLossBackward0>)\n",
      "nan\n",
      "\n",
      "nan\n",
      "tensor(nan, grad_fn=<NllLossBackward0>)\n",
      "nan\n",
      "\n",
      "nan\n",
      "tensor(nan, grad_fn=<NllLossBackward0>)\n",
      "nan\n",
      "\n",
      "nan\n",
      "tensor(nan, grad_fn=<NllLossBackward0>)\n",
      "nan\n",
      "\n"
     ]
    },
    {
     "name": "stderr",
     "output_type": "stream",
     "text": [
      "epoch: 0 | iteration: 1052 | progress: [5265/50000] (11%) | avg loss: nan / accuracy :  0.10: : 1052it [00:54, 19.82it/s]"
     ]
    },
    {
     "name": "stdout",
     "output_type": "stream",
     "text": [
      "nan\n",
      "tensor(nan, grad_fn=<NllLossBackward0>)\n",
      "nan\n",
      "\n",
      "nan\n",
      "tensor(nan, grad_fn=<NllLossBackward0>)\n",
      "nan\n",
      "\n",
      "nan\n",
      "tensor(nan, grad_fn=<NllLossBackward0>)\n",
      "nan\n",
      "\n",
      "nan\n",
      "tensor(nan, grad_fn=<NllLossBackward0>)\n",
      "nan\n",
      "\n",
      "nan\n",
      "tensor(nan, grad_fn=<NllLossBackward0>)\n",
      "nan\n",
      "\n"
     ]
    },
    {
     "name": "stderr",
     "output_type": "stream",
     "text": [
      "epoch: 0 | iteration: 1057 | progress: [5290/50000] (11%) | avg loss: nan / accuracy :  0.10: : 1058it [00:54, 20.59it/s]"
     ]
    },
    {
     "name": "stdout",
     "output_type": "stream",
     "text": [
      "nan\n",
      "tensor(nan, grad_fn=<NllLossBackward0>)\n",
      "nan\n",
      "\n",
      "nan\n",
      "tensor(nan, grad_fn=<NllLossBackward0>)\n",
      "nan\n",
      "\n",
      "nan\n",
      "tensor(nan, grad_fn=<NllLossBackward0>)\n",
      "nan\n",
      "\n",
      "nan\n",
      "tensor(nan, grad_fn=<NllLossBackward0>)\n",
      "nan\n",
      "\n",
      "nan\n",
      "tensor(nan, grad_fn=<NllLossBackward0>)\n",
      "nan\n",
      "\n"
     ]
    },
    {
     "name": "stderr",
     "output_type": "stream",
     "text": [
      "epoch: 0 | iteration: 1062 | progress: [5315/50000] (11%) | avg loss: nan / accuracy :  0.10: : 1061it [00:54, 20.68it/s]"
     ]
    },
    {
     "name": "stdout",
     "output_type": "stream",
     "text": [
      "nan\n",
      "tensor(nan, grad_fn=<NllLossBackward0>)\n",
      "nan\n",
      "\n",
      "nan\n",
      "tensor(nan, grad_fn=<NllLossBackward0>)\n",
      "nan\n",
      "\n",
      "nan\n",
      "tensor(nan, grad_fn=<NllLossBackward0>)\n",
      "nan\n",
      "\n",
      "nan\n",
      "tensor(nan, grad_fn=<NllLossBackward0>)\n",
      "nan\n",
      "\n",
      "nan\n",
      "tensor(nan, grad_fn=<NllLossBackward0>)\n",
      "nan\n",
      "\n"
     ]
    },
    {
     "name": "stderr",
     "output_type": "stream",
     "text": [
      "epoch: 0 | iteration: 1067 | progress: [5340/50000] (11%) | avg loss: nan / accuracy :  0.10: : 1067it [00:55, 20.43it/s]"
     ]
    },
    {
     "name": "stdout",
     "output_type": "stream",
     "text": [
      "nan\n",
      "tensor(nan, grad_fn=<NllLossBackward0>)\n",
      "nan\n",
      "\n",
      "nan\n",
      "tensor(nan, grad_fn=<NllLossBackward0>)\n",
      "nan\n",
      "\n",
      "nan\n",
      "tensor(nan, grad_fn=<NllLossBackward0>)\n",
      "nan\n",
      "\n",
      "nan\n",
      "tensor(nan, grad_fn=<NllLossBackward0>)\n",
      "nan\n",
      "\n",
      "nan\n",
      "tensor(nan, grad_fn=<NllLossBackward0>)\n",
      "nan\n",
      "\n"
     ]
    },
    {
     "name": "stderr",
     "output_type": "stream",
     "text": [
      "epoch: 0 | iteration: 1072 | progress: [5365/50000] (11%) | avg loss: nan / accuracy :  0.10: : 1073it [00:55, 20.75it/s]"
     ]
    },
    {
     "name": "stdout",
     "output_type": "stream",
     "text": [
      "nan\n",
      "tensor(nan, grad_fn=<NllLossBackward0>)\n",
      "nan\n",
      "\n",
      "nan\n",
      "tensor(nan, grad_fn=<NllLossBackward0>)\n",
      "nan\n",
      "\n",
      "nan\n",
      "tensor(nan, grad_fn=<NllLossBackward0>)\n",
      "nan\n",
      "\n",
      "nan\n",
      "tensor(nan, grad_fn=<NllLossBackward0>)\n",
      "nan\n",
      "\n",
      "nan\n",
      "tensor(nan, grad_fn=<NllLossBackward0>)\n",
      "nan\n",
      "\n"
     ]
    },
    {
     "name": "stderr",
     "output_type": "stream",
     "text": [
      "epoch: 0 | iteration: 1077 | progress: [5390/50000] (11%) | avg loss: nan / accuracy :  0.10: : 1076it [00:55, 20.64it/s]"
     ]
    },
    {
     "name": "stdout",
     "output_type": "stream",
     "text": [
      "nan\n",
      "tensor(nan, grad_fn=<NllLossBackward0>)\n",
      "nan\n",
      "\n",
      "nan\n",
      "tensor(nan, grad_fn=<NllLossBackward0>)\n",
      "nan\n",
      "\n",
      "nan\n",
      "tensor(nan, grad_fn=<NllLossBackward0>)\n",
      "nan\n",
      "\n",
      "nan\n",
      "tensor(nan, grad_fn=<NllLossBackward0>)\n",
      "nan\n",
      "\n",
      "nan\n",
      "tensor(nan, grad_fn=<NllLossBackward0>)\n",
      "nan\n",
      "\n"
     ]
    },
    {
     "name": "stderr",
     "output_type": "stream",
     "text": [
      "epoch: 0 | iteration: 1082 | progress: [5415/50000] (11%) | avg loss: nan / accuracy :  0.10: : 1082it [00:55, 21.06it/s]"
     ]
    },
    {
     "name": "stdout",
     "output_type": "stream",
     "text": [
      "nan\n",
      "tensor(nan, grad_fn=<NllLossBackward0>)\n",
      "nan\n",
      "\n",
      "nan\n",
      "tensor(nan, grad_fn=<NllLossBackward0>)\n",
      "nan\n",
      "\n",
      "nan\n",
      "tensor(nan, grad_fn=<NllLossBackward0>)\n",
      "nan\n",
      "\n",
      "nan\n",
      "tensor(nan, grad_fn=<NllLossBackward0>)\n",
      "nan\n",
      "\n",
      "nan\n",
      "tensor(nan, grad_fn=<NllLossBackward0>)\n",
      "nan\n",
      "\n"
     ]
    },
    {
     "name": "stderr",
     "output_type": "stream",
     "text": [
      "epoch: 0 | iteration: 1087 | progress: [5440/50000] (11%) | avg loss: nan / accuracy :  0.10: : 1088it [00:56, 20.96it/s]"
     ]
    },
    {
     "name": "stdout",
     "output_type": "stream",
     "text": [
      "nan\n",
      "tensor(nan, grad_fn=<NllLossBackward0>)\n",
      "nan\n",
      "\n",
      "nan\n",
      "tensor(nan, grad_fn=<NllLossBackward0>)\n",
      "nan\n",
      "\n",
      "nan\n",
      "tensor(nan, grad_fn=<NllLossBackward0>)\n",
      "nan\n",
      "\n",
      "nan\n",
      "tensor(nan, grad_fn=<NllLossBackward0>)\n",
      "nan\n",
      "\n",
      "nan\n",
      "tensor(nan, grad_fn=<NllLossBackward0>)\n",
      "nan\n",
      "\n"
     ]
    },
    {
     "name": "stderr",
     "output_type": "stream",
     "text": [
      "epoch: 0 | iteration: 1092 | progress: [5465/50000] (11%) | avg loss: nan / accuracy :  0.10: : 1091it [00:56, 20.76it/s]"
     ]
    },
    {
     "name": "stdout",
     "output_type": "stream",
     "text": [
      "nan\n",
      "tensor(nan, grad_fn=<NllLossBackward0>)\n",
      "nan\n",
      "\n",
      "nan\n",
      "tensor(nan, grad_fn=<NllLossBackward0>)\n",
      "nan\n",
      "\n",
      "nan\n",
      "tensor(nan, grad_fn=<NllLossBackward0>)\n",
      "nan\n",
      "\n",
      "nan\n",
      "tensor(nan, grad_fn=<NllLossBackward0>)\n",
      "nan\n",
      "\n",
      "nan\n",
      "tensor(nan, grad_fn=<NllLossBackward0>)\n",
      "nan\n",
      "\n"
     ]
    },
    {
     "name": "stderr",
     "output_type": "stream",
     "text": [
      "epoch: 0 | iteration: 1097 | progress: [5490/50000] (11%) | avg loss: nan / accuracy :  0.10: : 1097it [00:56, 21.05it/s]"
     ]
    },
    {
     "name": "stdout",
     "output_type": "stream",
     "text": [
      "nan\n",
      "tensor(nan, grad_fn=<NllLossBackward0>)\n",
      "nan\n",
      "\n",
      "nan\n",
      "tensor(nan, grad_fn=<NllLossBackward0>)\n",
      "nan\n",
      "\n",
      "nan\n",
      "tensor(nan, grad_fn=<NllLossBackward0>)\n",
      "nan\n",
      "\n",
      "nan\n",
      "tensor(nan, grad_fn=<NllLossBackward0>)\n",
      "nan\n",
      "\n",
      "nan\n",
      "tensor(nan, grad_fn=<NllLossBackward0>)\n",
      "nan\n",
      "\n"
     ]
    },
    {
     "name": "stderr",
     "output_type": "stream",
     "text": [
      "epoch: 0 | iteration: 1101 | progress: [5510/50000] (11%) | avg loss: nan / accuracy :  0.10: : 1100it [00:56, 20.82it/s]"
     ]
    },
    {
     "name": "stdout",
     "output_type": "stream",
     "text": [
      "nan\n",
      "tensor(nan, grad_fn=<NllLossBackward0>)\n",
      "nan\n",
      "\n",
      "nan\n",
      "tensor(nan, grad_fn=<NllLossBackward0>)\n",
      "nan\n",
      "\n",
      "nan\n",
      "tensor(nan, grad_fn=<NllLossBackward0>)\n",
      "nan\n",
      "\n",
      "nan\n",
      "tensor(nan, grad_fn=<NllLossBackward0>)\n",
      "nan\n",
      "\n"
     ]
    },
    {
     "name": "stderr",
     "output_type": "stream",
     "text": [
      "epoch: 0 | iteration: 1106 | progress: [5535/50000] (11%) | avg loss: nan / accuracy :  0.10: : 1106it [00:56, 20.75it/s]"
     ]
    },
    {
     "name": "stdout",
     "output_type": "stream",
     "text": [
      "nan\n",
      "tensor(nan, grad_fn=<NllLossBackward0>)\n",
      "nan\n",
      "\n",
      "nan\n",
      "tensor(nan, grad_fn=<NllLossBackward0>)\n",
      "nan\n",
      "\n",
      "nan\n",
      "tensor(nan, grad_fn=<NllLossBackward0>)\n",
      "nan\n",
      "\n",
      "nan\n",
      "tensor(nan, grad_fn=<NllLossBackward0>)\n",
      "nan\n",
      "\n",
      "nan\n",
      "tensor(nan, grad_fn=<NllLossBackward0>)\n",
      "nan\n",
      "\n"
     ]
    },
    {
     "name": "stderr",
     "output_type": "stream",
     "text": [
      "epoch: 0 | iteration: 1111 | progress: [5560/50000] (11%) | avg loss: nan / accuracy :  0.10: : 1112it [00:57, 20.80it/s]"
     ]
    },
    {
     "name": "stdout",
     "output_type": "stream",
     "text": [
      "nan\n",
      "tensor(nan, grad_fn=<NllLossBackward0>)\n",
      "nan\n",
      "\n",
      "nan\n",
      "tensor(nan, grad_fn=<NllLossBackward0>)\n",
      "nan\n",
      "\n",
      "nan\n",
      "tensor(nan, grad_fn=<NllLossBackward0>)\n",
      "nan\n",
      "\n",
      "nan\n",
      "tensor(nan, grad_fn=<NllLossBackward0>)\n",
      "nan\n",
      "\n",
      "nan\n",
      "tensor(nan, grad_fn=<NllLossBackward0>)\n",
      "nan\n",
      "\n"
     ]
    },
    {
     "name": "stderr",
     "output_type": "stream",
     "text": [
      "epoch: 0 | iteration: 1116 | progress: [5585/50000] (11%) | avg loss: nan / accuracy :  0.10: : 1115it [00:57, 21.02it/s]"
     ]
    },
    {
     "name": "stdout",
     "output_type": "stream",
     "text": [
      "nan\n",
      "tensor(nan, grad_fn=<NllLossBackward0>)\n",
      "nan\n",
      "\n",
      "nan\n",
      "tensor(nan, grad_fn=<NllLossBackward0>)\n",
      "nan\n",
      "\n",
      "nan\n",
      "tensor(nan, grad_fn=<NllLossBackward0>)\n",
      "nan\n",
      "\n",
      "nan\n",
      "tensor(nan, grad_fn=<NllLossBackward0>)\n",
      "nan\n",
      "\n",
      "nan\n",
      "tensor(nan, grad_fn=<NllLossBackward0>)\n",
      "nan\n",
      "\n"
     ]
    },
    {
     "name": "stderr",
     "output_type": "stream",
     "text": [
      "epoch: 0 | iteration: 1121 | progress: [5610/50000] (11%) | avg loss: nan / accuracy :  0.10: : 1121it [00:57, 20.77it/s]"
     ]
    },
    {
     "name": "stdout",
     "output_type": "stream",
     "text": [
      "nan\n",
      "tensor(nan, grad_fn=<NllLossBackward0>)\n",
      "nan\n",
      "\n",
      "nan\n",
      "tensor(nan, grad_fn=<NllLossBackward0>)\n",
      "nan\n",
      "\n",
      "nan\n",
      "tensor(nan, grad_fn=<NllLossBackward0>)\n",
      "nan\n",
      "\n",
      "nan\n",
      "tensor(nan, grad_fn=<NllLossBackward0>)\n",
      "nan\n",
      "\n",
      "nan\n",
      "tensor(nan, grad_fn=<NllLossBackward0>)\n",
      "nan\n",
      "\n"
     ]
    },
    {
     "name": "stderr",
     "output_type": "stream",
     "text": [
      "epoch: 0 | iteration: 1126 | progress: [5635/50000] (11%) | avg loss: nan / accuracy :  0.10: : 1127it [00:57, 20.70it/s]"
     ]
    },
    {
     "name": "stdout",
     "output_type": "stream",
     "text": [
      "nan\n",
      "tensor(nan, grad_fn=<NllLossBackward0>)\n",
      "nan\n",
      "\n",
      "nan\n",
      "tensor(nan, grad_fn=<NllLossBackward0>)\n",
      "nan\n",
      "\n",
      "nan\n",
      "tensor(nan, grad_fn=<NllLossBackward0>)\n",
      "nan\n",
      "\n",
      "nan\n",
      "tensor(nan, grad_fn=<NllLossBackward0>)\n",
      "nan\n",
      "\n",
      "nan\n",
      "tensor(nan, grad_fn=<NllLossBackward0>)\n",
      "nan\n",
      "\n"
     ]
    },
    {
     "name": "stderr",
     "output_type": "stream",
     "text": [
      "epoch: 0 | iteration: 1131 | progress: [5660/50000] (11%) | avg loss: nan / accuracy :  0.10: : 1130it [00:58, 20.86it/s]"
     ]
    },
    {
     "name": "stdout",
     "output_type": "stream",
     "text": [
      "nan\n",
      "tensor(nan, grad_fn=<NllLossBackward0>)\n",
      "nan\n",
      "\n",
      "nan\n",
      "tensor(nan, grad_fn=<NllLossBackward0>)\n",
      "nan\n",
      "\n",
      "nan\n",
      "tensor(nan, grad_fn=<NllLossBackward0>)\n",
      "nan\n",
      "\n",
      "nan\n",
      "tensor(nan, grad_fn=<NllLossBackward0>)\n",
      "nan\n",
      "\n",
      "nan\n",
      "tensor(nan, grad_fn=<NllLossBackward0>)\n",
      "nan\n",
      "\n"
     ]
    },
    {
     "name": "stderr",
     "output_type": "stream",
     "text": [
      "epoch: 0 | iteration: 1136 | progress: [5685/50000] (11%) | avg loss: nan / accuracy :  0.10: : 1136it [00:58, 20.86it/s]"
     ]
    },
    {
     "name": "stdout",
     "output_type": "stream",
     "text": [
      "nan\n",
      "tensor(nan, grad_fn=<NllLossBackward0>)\n",
      "nan\n",
      "\n",
      "nan\n",
      "tensor(nan, grad_fn=<NllLossBackward0>)\n",
      "nan\n",
      "\n",
      "nan\n",
      "tensor(nan, grad_fn=<NllLossBackward0>)\n",
      "nan\n",
      "\n",
      "nan\n",
      "tensor(nan, grad_fn=<NllLossBackward0>)\n",
      "nan\n",
      "\n",
      "nan\n",
      "tensor(nan, grad_fn=<NllLossBackward0>)\n",
      "nan\n",
      "\n"
     ]
    },
    {
     "name": "stderr",
     "output_type": "stream",
     "text": [
      "epoch: 0 | iteration: 1140 | progress: [5705/50000] (11%) | avg loss: nan / accuracy :  0.10: : 1139it [00:58, 20.60it/s]"
     ]
    },
    {
     "name": "stdout",
     "output_type": "stream",
     "text": [
      "nan\n",
      "tensor(nan, grad_fn=<NllLossBackward0>)\n",
      "nan\n",
      "\n",
      "nan\n",
      "tensor(nan, grad_fn=<NllLossBackward0>)\n",
      "nan\n",
      "\n",
      "nan\n",
      "tensor(nan, grad_fn=<NllLossBackward0>)\n",
      "nan\n",
      "\n",
      "nan\n",
      "tensor(nan, grad_fn=<NllLossBackward0>)\n",
      "nan\n",
      "\n"
     ]
    },
    {
     "name": "stderr",
     "output_type": "stream",
     "text": [
      "epoch: 0 | iteration: 1144 | progress: [5725/50000] (11%) | avg loss: nan / accuracy :  0.10: : 1145it [00:58, 19.30it/s]"
     ]
    },
    {
     "name": "stdout",
     "output_type": "stream",
     "text": [
      "nan\n",
      "tensor(nan, grad_fn=<NllLossBackward0>)\n",
      "nan\n",
      "\n",
      "nan\n",
      "tensor(nan, grad_fn=<NllLossBackward0>)\n",
      "nan\n",
      "\n",
      "nan\n",
      "tensor(nan, grad_fn=<NllLossBackward0>)\n",
      "nan\n",
      "\n",
      "nan\n",
      "tensor(nan, grad_fn=<NllLossBackward0>)\n",
      "nan\n",
      "\n"
     ]
    },
    {
     "name": "stderr",
     "output_type": "stream",
     "text": [
      "epoch: 0 | iteration: 1148 | progress: [5745/50000] (11%) | avg loss: nan / accuracy :  0.10: : 1147it [00:59, 19.11it/s]"
     ]
    },
    {
     "name": "stdout",
     "output_type": "stream",
     "text": [
      "nan\n",
      "tensor(nan, grad_fn=<NllLossBackward0>)\n",
      "nan\n",
      "\n",
      "nan\n",
      "tensor(nan, grad_fn=<NllLossBackward0>)\n",
      "nan\n",
      "\n",
      "nan\n",
      "tensor(nan, grad_fn=<NllLossBackward0>)\n",
      "nan\n",
      "\n",
      "nan\n",
      "tensor(nan, grad_fn=<NllLossBackward0>)\n",
      "nan\n",
      "\n",
      "nan\n"
     ]
    },
    {
     "name": "stderr",
     "output_type": "stream",
     "text": [
      "epoch: 0 | iteration: 1153 | progress: [5770/50000] (12%) | avg loss: nan / accuracy :  0.10: : 1153it [00:59, 20.15it/s]"
     ]
    },
    {
     "name": "stdout",
     "output_type": "stream",
     "text": [
      "tensor(nan, grad_fn=<NllLossBackward0>)\n",
      "nan\n",
      "\n",
      "nan\n",
      "tensor(nan, grad_fn=<NllLossBackward0>)\n",
      "nan\n",
      "\n",
      "nan\n",
      "tensor(nan, grad_fn=<NllLossBackward0>)\n",
      "nan\n",
      "\n",
      "nan\n",
      "tensor(nan, grad_fn=<NllLossBackward0>)\n",
      "nan\n",
      "\n",
      "nan\n",
      "tensor(nan, grad_fn=<NllLossBackward0>)\n",
      "nan\n",
      "\n"
     ]
    },
    {
     "name": "stderr",
     "output_type": "stream",
     "text": [
      "epoch: 0 | iteration: 1158 | progress: [5795/50000] (12%) | avg loss: nan / accuracy :  0.10: : 1159it [00:59, 20.65it/s]"
     ]
    },
    {
     "name": "stdout",
     "output_type": "stream",
     "text": [
      "nan\n",
      "tensor(nan, grad_fn=<NllLossBackward0>)\n",
      "nan\n",
      "\n",
      "nan\n",
      "tensor(nan, grad_fn=<NllLossBackward0>)\n",
      "nan\n",
      "\n",
      "nan\n",
      "tensor(nan, grad_fn=<NllLossBackward0>)\n",
      "nan\n",
      "\n",
      "nan\n",
      "tensor(nan, grad_fn=<NllLossBackward0>)\n",
      "nan\n",
      "\n",
      "nan\n",
      "tensor(nan, grad_fn=<NllLossBackward0>)\n",
      "nan\n",
      "\n"
     ]
    },
    {
     "name": "stderr",
     "output_type": "stream",
     "text": [
      "epoch: 0 | iteration: 1163 | progress: [5820/50000] (12%) | avg loss: nan / accuracy :  0.10: : 1162it [00:59, 20.84it/s]"
     ]
    },
    {
     "name": "stdout",
     "output_type": "stream",
     "text": [
      "nan\n",
      "tensor(nan, grad_fn=<NllLossBackward0>)\n",
      "nan\n",
      "\n",
      "nan\n",
      "tensor(nan, grad_fn=<NllLossBackward0>)\n",
      "nan\n",
      "\n",
      "nan\n",
      "tensor(nan, grad_fn=<NllLossBackward0>)\n",
      "nan\n",
      "\n",
      "nan\n",
      "tensor(nan, grad_fn=<NllLossBackward0>)\n",
      "nan\n",
      "\n",
      "nan\n",
      "tensor(nan, grad_fn=<NllLossBackward0>)\n",
      "nan\n",
      "\n"
     ]
    },
    {
     "name": "stderr",
     "output_type": "stream",
     "text": [
      "epoch: 0 | iteration: 1168 | progress: [5845/50000] (12%) | avg loss: nan / accuracy :  0.10: : 1168it [00:59, 20.36it/s]"
     ]
    },
    {
     "name": "stdout",
     "output_type": "stream",
     "text": [
      "nan\n",
      "tensor(nan, grad_fn=<NllLossBackward0>)\n",
      "nan\n",
      "\n",
      "nan\n",
      "tensor(nan, grad_fn=<NllLossBackward0>)\n",
      "nan\n",
      "\n",
      "nan\n",
      "tensor(nan, grad_fn=<NllLossBackward0>)\n",
      "nan\n",
      "\n",
      "nan\n",
      "tensor(nan, grad_fn=<NllLossBackward0>)\n",
      "nan\n",
      "\n",
      "nan\n",
      "tensor(nan, grad_fn=<NllLossBackward0>)\n",
      "nan\n",
      "\n"
     ]
    },
    {
     "name": "stderr",
     "output_type": "stream",
     "text": [
      "epoch: 0 | iteration: 1173 | progress: [5870/50000] (12%) | avg loss: nan / accuracy :  0.10: : 1174it [01:00, 20.73it/s]"
     ]
    },
    {
     "name": "stdout",
     "output_type": "stream",
     "text": [
      "nan\n",
      "tensor(nan, grad_fn=<NllLossBackward0>)\n",
      "nan\n",
      "\n",
      "nan\n",
      "tensor(nan, grad_fn=<NllLossBackward0>)\n",
      "nan\n",
      "\n",
      "nan\n",
      "tensor(nan, grad_fn=<NllLossBackward0>)\n",
      "nan\n",
      "\n",
      "nan\n",
      "tensor(nan, grad_fn=<NllLossBackward0>)\n",
      "nan\n",
      "\n",
      "nan\n",
      "tensor(nan, grad_fn=<NllLossBackward0>)\n",
      "nan\n",
      "\n"
     ]
    },
    {
     "name": "stderr",
     "output_type": "stream",
     "text": [
      "epoch: 0 | iteration: 1178 | progress: [5895/50000] (12%) | avg loss: nan / accuracy :  0.10: : 1177it [01:00, 20.78it/s]"
     ]
    },
    {
     "name": "stdout",
     "output_type": "stream",
     "text": [
      "nan\n",
      "tensor(nan, grad_fn=<NllLossBackward0>)\n",
      "nan\n",
      "\n",
      "nan\n",
      "tensor(nan, grad_fn=<NllLossBackward0>)\n",
      "nan\n",
      "\n",
      "nan\n",
      "tensor(nan, grad_fn=<NllLossBackward0>)\n",
      "nan\n",
      "\n",
      "nan\n",
      "tensor(nan, grad_fn=<NllLossBackward0>)\n",
      "nan\n",
      "\n",
      "nan\n",
      "tensor(nan, grad_fn=<NllLossBackward0>)\n",
      "nan\n",
      "\n"
     ]
    },
    {
     "name": "stderr",
     "output_type": "stream",
     "text": [
      "epoch: 0 | iteration: 1183 | progress: [5920/50000] (12%) | avg loss: nan / accuracy :  0.10: : 1183it [01:00, 20.87it/s]"
     ]
    },
    {
     "name": "stdout",
     "output_type": "stream",
     "text": [
      "nan\n",
      "tensor(nan, grad_fn=<NllLossBackward0>)\n",
      "nan\n",
      "\n",
      "nan\n",
      "tensor(nan, grad_fn=<NllLossBackward0>)\n",
      "nan\n",
      "\n",
      "nan\n",
      "tensor(nan, grad_fn=<NllLossBackward0>)\n",
      "nan\n",
      "\n",
      "nan\n",
      "tensor(nan, grad_fn=<NllLossBackward0>)\n",
      "nan\n",
      "\n",
      "nan\n",
      "tensor(nan, grad_fn=<NllLossBackward0>)\n",
      "nan\n",
      "\n"
     ]
    },
    {
     "name": "stderr",
     "output_type": "stream",
     "text": [
      "epoch: 0 | iteration: 1188 | progress: [5945/50000] (12%) | avg loss: nan / accuracy :  0.10: : 1189it [01:00, 21.21it/s]"
     ]
    },
    {
     "name": "stdout",
     "output_type": "stream",
     "text": [
      "nan\n",
      "tensor(nan, grad_fn=<NllLossBackward0>)\n",
      "nan\n",
      "\n",
      "nan\n",
      "tensor(nan, grad_fn=<NllLossBackward0>)\n",
      "nan\n",
      "\n",
      "nan\n",
      "tensor(nan, grad_fn=<NllLossBackward0>)\n",
      "nan\n",
      "\n",
      "nan\n",
      "tensor(nan, grad_fn=<NllLossBackward0>)\n",
      "nan\n",
      "\n",
      "nan\n",
      "tensor(nan, grad_fn=<NllLossBackward0>)\n",
      "nan\n",
      "\n"
     ]
    },
    {
     "name": "stderr",
     "output_type": "stream",
     "text": [
      "epoch: 0 | iteration: 1193 | progress: [5970/50000] (12%) | avg loss: nan / accuracy :  0.10: : 1192it [01:01, 20.90it/s]"
     ]
    },
    {
     "name": "stdout",
     "output_type": "stream",
     "text": [
      "nan\n",
      "tensor(nan, grad_fn=<NllLossBackward0>)\n",
      "nan\n",
      "\n",
      "nan\n",
      "tensor(nan, grad_fn=<NllLossBackward0>)\n",
      "nan\n",
      "\n",
      "nan\n",
      "tensor(nan, grad_fn=<NllLossBackward0>)\n",
      "nan\n",
      "\n",
      "nan\n",
      "tensor(nan, grad_fn=<NllLossBackward0>)\n",
      "nan\n",
      "\n",
      "nan\n",
      "tensor(nan, grad_fn=<NllLossBackward0>)\n",
      "nan\n",
      "\n"
     ]
    },
    {
     "name": "stderr",
     "output_type": "stream",
     "text": [
      "epoch: 0 | iteration: 1198 | progress: [5995/50000] (12%) | avg loss: nan / accuracy :  0.10: : 1198it [01:01, 20.90it/s]"
     ]
    },
    {
     "name": "stdout",
     "output_type": "stream",
     "text": [
      "nan\n",
      "tensor(nan, grad_fn=<NllLossBackward0>)\n",
      "nan\n",
      "\n",
      "nan\n",
      "tensor(nan, grad_fn=<NllLossBackward0>)\n",
      "nan\n",
      "\n",
      "nan\n",
      "tensor(nan, grad_fn=<NllLossBackward0>)\n",
      "nan\n",
      "\n",
      "nan\n",
      "tensor(nan, grad_fn=<NllLossBackward0>)\n",
      "nan\n",
      "\n",
      "nan\n",
      "tensor(nan, grad_fn=<NllLossBackward0>)\n",
      "nan\n",
      "\n"
     ]
    },
    {
     "name": "stderr",
     "output_type": "stream",
     "text": [
      "epoch: 0 | iteration: 1202 | progress: [6015/50000] (12%) | avg loss: nan / accuracy :  0.10: : 1201it [01:01, 20.72it/s]"
     ]
    },
    {
     "name": "stdout",
     "output_type": "stream",
     "text": [
      "nan\n",
      "tensor(nan, grad_fn=<NllLossBackward0>)\n",
      "nan\n",
      "\n",
      "nan\n",
      "tensor(nan, grad_fn=<NllLossBackward0>)\n",
      "nan\n",
      "\n",
      "nan\n",
      "tensor(nan, grad_fn=<NllLossBackward0>)\n",
      "nan\n",
      "\n",
      "nan\n",
      "tensor(nan, grad_fn=<NllLossBackward0>)\n",
      "nan\n",
      "\n"
     ]
    },
    {
     "name": "stderr",
     "output_type": "stream",
     "text": [
      "epoch: 0 | iteration: 1206 | progress: [6035/50000] (12%) | avg loss: nan / accuracy :  0.10: : 1207it [01:01, 20.28it/s]"
     ]
    },
    {
     "name": "stdout",
     "output_type": "stream",
     "text": [
      "nan\n",
      "tensor(nan, grad_fn=<NllLossBackward0>)\n",
      "nan\n",
      "\n",
      "nan\n",
      "tensor(nan, grad_fn=<NllLossBackward0>)\n",
      "nan\n",
      "\n",
      "nan\n",
      "tensor(nan, grad_fn=<NllLossBackward0>)\n",
      "nan\n",
      "\n",
      "nan\n",
      "tensor(nan, grad_fn=<NllLossBackward0>)\n",
      "nan\n",
      "\n"
     ]
    },
    {
     "name": "stderr",
     "output_type": "stream",
     "text": [
      "epoch: 0 | iteration: 1210 | progress: [6055/50000] (12%) | avg loss: nan / accuracy :  0.10: : 1210it [01:01, 20.01it/s]"
     ]
    },
    {
     "name": "stdout",
     "output_type": "stream",
     "text": [
      "nan\n",
      "tensor(nan, grad_fn=<NllLossBackward0>)\n",
      "nan\n",
      "\n",
      "nan\n",
      "tensor(nan, grad_fn=<NllLossBackward0>)\n",
      "nan\n",
      "\n",
      "nan\n",
      "tensor(nan, grad_fn=<NllLossBackward0>)\n",
      "nan\n",
      "\n",
      "nan\n",
      "tensor(nan, grad_fn=<NllLossBackward0>)\n",
      "nan\n",
      "\n",
      "nan\n"
     ]
    },
    {
     "name": "stderr",
     "output_type": "stream",
     "text": [
      "epoch: 0 | iteration: 1214 | progress: [6075/50000] (12%) | avg loss: nan / accuracy :  0.10: : 1215it [01:02, 19.61it/s]"
     ]
    },
    {
     "name": "stdout",
     "output_type": "stream",
     "text": [
      "tensor(nan, grad_fn=<NllLossBackward0>)\n",
      "nan\n",
      "\n",
      "nan\n",
      "tensor(nan, grad_fn=<NllLossBackward0>)\n",
      "nan\n",
      "\n",
      "nan\n",
      "tensor(nan, grad_fn=<NllLossBackward0>)\n",
      "nan\n",
      "\n",
      "nan\n",
      "tensor(nan, grad_fn=<NllLossBackward0>)\n",
      "nan\n",
      "\n"
     ]
    },
    {
     "name": "stderr",
     "output_type": "stream",
     "text": [
      "epoch: 0 | iteration: 1218 | progress: [6095/50000] (12%) | avg loss: nan / accuracy :  0.10: : 1219it [01:02, 19.67it/s]"
     ]
    },
    {
     "name": "stdout",
     "output_type": "stream",
     "text": [
      "nan\n",
      "tensor(nan, grad_fn=<NllLossBackward0>)\n",
      "nan\n",
      "\n",
      "nan\n",
      "tensor(nan, grad_fn=<NllLossBackward0>)\n",
      "nan\n",
      "\n",
      "nan\n",
      "tensor(nan, grad_fn=<NllLossBackward0>)\n",
      "nan\n",
      "\n",
      "nan\n",
      "tensor(nan, grad_fn=<NllLossBackward0>)\n",
      "nan\n",
      "\n",
      "nan\n"
     ]
    },
    {
     "name": "stderr",
     "output_type": "stream",
     "text": [
      "epoch: 0 | iteration: 1222 | progress: [6115/50000] (12%) | avg loss: nan / accuracy :  0.10: : 1223it [01:02, 18.88it/s]"
     ]
    },
    {
     "name": "stdout",
     "output_type": "stream",
     "text": [
      "tensor(nan, grad_fn=<NllLossBackward0>)\n",
      "nan\n",
      "\n",
      "nan\n",
      "tensor(nan, grad_fn=<NllLossBackward0>)\n",
      "nan\n",
      "\n",
      "nan\n",
      "tensor(nan, grad_fn=<NllLossBackward0>)\n",
      "nan\n",
      "\n",
      "nan\n",
      "tensor(nan, grad_fn=<NllLossBackward0>)\n",
      "nan\n",
      "\n"
     ]
    },
    {
     "name": "stderr",
     "output_type": "stream",
     "text": [
      "epoch: 0 | iteration: 1226 | progress: [6135/50000] (12%) | avg loss: nan / accuracy :  0.10: : 1227it [01:02, 18.54it/s]"
     ]
    },
    {
     "name": "stdout",
     "output_type": "stream",
     "text": [
      "nan\n",
      "tensor(nan, grad_fn=<NllLossBackward0>)\n",
      "nan\n",
      "\n",
      "nan\n",
      "tensor(nan, grad_fn=<NllLossBackward0>)\n",
      "nan\n",
      "\n",
      "nan\n",
      "tensor(nan, grad_fn=<NllLossBackward0>)\n",
      "nan\n",
      "\n",
      "nan\n",
      "tensor(nan, grad_fn=<NllLossBackward0>)\n",
      "nan\n",
      "\n"
     ]
    },
    {
     "name": "stderr",
     "output_type": "stream",
     "text": [
      "epoch: 0 | iteration: 1230 | progress: [6155/50000] (12%) | avg loss: nan / accuracy :  0.10: : 1231it [01:03, 18.54it/s]"
     ]
    },
    {
     "name": "stdout",
     "output_type": "stream",
     "text": [
      "nan\n",
      "tensor(nan, grad_fn=<NllLossBackward0>)\n",
      "nan\n",
      "\n",
      "nan\n",
      "tensor(nan, grad_fn=<NllLossBackward0>)\n",
      "nan\n",
      "\n",
      "nan\n",
      "tensor(nan, grad_fn=<NllLossBackward0>)\n",
      "nan\n",
      "\n",
      "nan\n",
      "tensor(nan, grad_fn=<NllLossBackward0>)\n",
      "nan\n",
      "\n"
     ]
    },
    {
     "name": "stderr",
     "output_type": "stream",
     "text": [
      "epoch: 0 | iteration: 1235 | progress: [6180/50000] (12%) | avg loss: nan / accuracy :  0.10: : 1234it [01:03, 19.56it/s]"
     ]
    },
    {
     "name": "stdout",
     "output_type": "stream",
     "text": [
      "nan\n",
      "tensor(nan, grad_fn=<NllLossBackward0>)\n",
      "nan\n",
      "\n",
      "nan\n",
      "tensor(nan, grad_fn=<NllLossBackward0>)\n",
      "nan\n",
      "\n",
      "nan\n",
      "tensor(nan, grad_fn=<NllLossBackward0>)\n",
      "nan\n",
      "\n",
      "nan\n",
      "tensor(nan, grad_fn=<NllLossBackward0>)\n",
      "nan\n",
      "\n",
      "nan\n",
      "tensor(nan, grad_fn=<NllLossBackward0>)\n",
      "nan\n",
      "\n"
     ]
    },
    {
     "name": "stderr",
     "output_type": "stream",
     "text": [
      "epoch: 0 | iteration: 1240 | progress: [6205/50000] (12%) | avg loss: nan / accuracy :  0.10: : 1240it [01:03, 20.38it/s]"
     ]
    },
    {
     "name": "stdout",
     "output_type": "stream",
     "text": [
      "nan\n",
      "tensor(nan, grad_fn=<NllLossBackward0>)\n",
      "nan\n",
      "\n",
      "nan\n",
      "tensor(nan, grad_fn=<NllLossBackward0>)\n",
      "nan\n",
      "\n",
      "nan\n",
      "tensor(nan, grad_fn=<NllLossBackward0>)\n",
      "nan\n",
      "\n",
      "nan\n",
      "tensor(nan, grad_fn=<NllLossBackward0>)\n",
      "nan\n",
      "\n",
      "nan\n",
      "tensor(nan, grad_fn=<NllLossBackward0>)\n",
      "nan\n",
      "\n"
     ]
    },
    {
     "name": "stderr",
     "output_type": "stream",
     "text": [
      "epoch: 0 | iteration: 1244 | progress: [6225/50000] (12%) | avg loss: nan / accuracy :  0.10: : 1245it [01:03, 19.39it/s]"
     ]
    },
    {
     "name": "stdout",
     "output_type": "stream",
     "text": [
      "nan\n",
      "tensor(nan, grad_fn=<NllLossBackward0>)\n",
      "nan\n",
      "\n",
      "nan\n",
      "tensor(nan, grad_fn=<NllLossBackward0>)\n",
      "nan\n",
      "\n",
      "nan\n",
      "tensor(nan, grad_fn=<NllLossBackward0>)\n",
      "nan\n",
      "\n",
      "nan\n",
      "tensor(nan, grad_fn=<NllLossBackward0>)\n",
      "nan\n",
      "\n"
     ]
    },
    {
     "name": "stderr",
     "output_type": "stream",
     "text": [
      "epoch: 0 | iteration: 1248 | progress: [6245/50000] (12%) | avg loss: nan / accuracy :  0.10: : 1249it [01:03, 19.22it/s]"
     ]
    },
    {
     "name": "stdout",
     "output_type": "stream",
     "text": [
      "nan\n",
      "tensor(nan, grad_fn=<NllLossBackward0>)\n",
      "nan\n",
      "\n",
      "nan\n",
      "tensor(nan, grad_fn=<NllLossBackward0>)\n",
      "nan\n",
      "\n",
      "nan\n",
      "tensor(nan, grad_fn=<NllLossBackward0>)\n",
      "nan\n",
      "\n",
      "nan\n",
      "tensor(nan, grad_fn=<NllLossBackward0>)\n",
      "nan\n",
      "\n"
     ]
    },
    {
     "name": "stderr",
     "output_type": "stream",
     "text": [
      "epoch: 0 | iteration: 1252 | progress: [6265/50000] (13%) | avg loss: nan / accuracy :  0.10: : 1253it [01:04, 18.92it/s]"
     ]
    },
    {
     "name": "stdout",
     "output_type": "stream",
     "text": [
      "nan\n",
      "tensor(nan, grad_fn=<NllLossBackward0>)\n",
      "nan\n",
      "\n",
      "nan\n",
      "tensor(nan, grad_fn=<NllLossBackward0>)\n",
      "nan\n",
      "\n",
      "nan\n",
      "tensor(nan, grad_fn=<NllLossBackward0>)\n",
      "nan\n",
      "\n",
      "nan\n",
      "tensor(nan, grad_fn=<NllLossBackward0>)\n",
      "nan\n",
      "\n"
     ]
    },
    {
     "name": "stderr",
     "output_type": "stream",
     "text": [
      "epoch: 0 | iteration: 1257 | progress: [6290/50000] (13%) | avg loss: nan / accuracy :  0.10: : 1258it [01:04, 19.72it/s]"
     ]
    },
    {
     "name": "stdout",
     "output_type": "stream",
     "text": [
      "nan\n",
      "tensor(nan, grad_fn=<NllLossBackward0>)\n",
      "nan\n",
      "\n",
      "nan\n",
      "tensor(nan, grad_fn=<NllLossBackward0>)\n",
      "nan\n",
      "\n",
      "nan\n",
      "tensor(nan, grad_fn=<NllLossBackward0>)\n",
      "nan\n",
      "\n",
      "nan\n",
      "tensor(nan, grad_fn=<NllLossBackward0>)\n",
      "nan\n",
      "\n",
      "nan\n",
      "tensor(nan, grad_fn=<NllLossBackward0>)\n",
      "nan\n",
      "\n"
     ]
    },
    {
     "name": "stderr",
     "output_type": "stream",
     "text": [
      "epoch: 0 | iteration: 1261 | progress: [6310/50000] (13%) | avg loss: nan / accuracy :  0.10: : 1262it [01:04, 19.23it/s]"
     ]
    },
    {
     "name": "stdout",
     "output_type": "stream",
     "text": [
      "nan\n",
      "tensor(nan, grad_fn=<NllLossBackward0>)\n",
      "nan\n",
      "\n",
      "nan\n",
      "tensor(nan, grad_fn=<NllLossBackward0>)\n",
      "nan\n",
      "\n",
      "nan\n",
      "tensor(nan, grad_fn=<NllLossBackward0>)\n",
      "nan\n",
      "\n",
      "nan\n",
      "tensor(nan, grad_fn=<NllLossBackward0>)\n",
      "nan\n",
      "\n"
     ]
    },
    {
     "name": "stderr",
     "output_type": "stream",
     "text": [
      "epoch: 0 | iteration: 1265 | progress: [6330/50000] (13%) | avg loss: nan / accuracy :  0.10: : 1266it [01:04, 18.66it/s]"
     ]
    },
    {
     "name": "stdout",
     "output_type": "stream",
     "text": [
      "nan\n",
      "tensor(nan, grad_fn=<NllLossBackward0>)\n",
      "nan\n",
      "\n",
      "nan\n",
      "tensor(nan, grad_fn=<NllLossBackward0>)\n",
      "nan\n",
      "\n",
      "nan\n",
      "tensor(nan, grad_fn=<NllLossBackward0>)\n",
      "nan\n",
      "\n",
      "nan\n",
      "tensor(nan, grad_fn=<NllLossBackward0>)\n",
      "nan\n",
      "\n"
     ]
    },
    {
     "name": "stderr",
     "output_type": "stream",
     "text": [
      "epoch: 0 | iteration: 1269 | progress: [6350/50000] (13%) | avg loss: nan / accuracy :  0.10: : 1270it [01:05, 18.76it/s]"
     ]
    },
    {
     "name": "stdout",
     "output_type": "stream",
     "text": [
      "nan\n",
      "tensor(nan, grad_fn=<NllLossBackward0>)\n",
      "nan\n",
      "\n",
      "nan\n",
      "tensor(nan, grad_fn=<NllLossBackward0>)\n",
      "nan\n",
      "\n",
      "nan\n",
      "tensor(nan, grad_fn=<NllLossBackward0>)\n",
      "nan\n",
      "\n",
      "nan\n",
      "tensor(nan, grad_fn=<NllLossBackward0>)\n",
      "nan\n",
      "\n"
     ]
    },
    {
     "name": "stderr",
     "output_type": "stream",
     "text": [
      "epoch: 0 | iteration: 1274 | progress: [6375/50000] (13%) | avg loss: nan / accuracy :  0.10: : 1275it [01:05, 19.50it/s]"
     ]
    },
    {
     "name": "stdout",
     "output_type": "stream",
     "text": [
      "nan\n",
      "tensor(nan, grad_fn=<NllLossBackward0>)\n",
      "nan\n",
      "\n",
      "nan\n",
      "tensor(nan, grad_fn=<NllLossBackward0>)\n",
      "nan\n",
      "\n",
      "nan\n",
      "tensor(nan, grad_fn=<NllLossBackward0>)\n",
      "nan\n",
      "\n",
      "nan\n",
      "tensor(nan, grad_fn=<NllLossBackward0>)\n",
      "nan\n",
      "\n",
      "nan\n",
      "tensor(nan, grad_fn=<NllLossBackward0>)\n",
      "nan\n",
      "\n"
     ]
    },
    {
     "name": "stderr",
     "output_type": "stream",
     "text": [
      "epoch: 0 | iteration: 1278 | progress: [6395/50000] (13%) | avg loss: nan / accuracy :  0.10: : 1279it [01:05, 18.60it/s]"
     ]
    },
    {
     "name": "stdout",
     "output_type": "stream",
     "text": [
      "nan\n",
      "tensor(nan, grad_fn=<NllLossBackward0>)\n",
      "nan\n",
      "\n",
      "nan\n",
      "tensor(nan, grad_fn=<NllLossBackward0>)\n",
      "nan\n",
      "\n",
      "nan\n",
      "tensor(nan, grad_fn=<NllLossBackward0>)\n",
      "nan\n",
      "\n",
      "nan\n",
      "tensor(nan, grad_fn=<NllLossBackward0>)\n",
      "nan\n",
      "\n"
     ]
    },
    {
     "name": "stderr",
     "output_type": "stream",
     "text": [
      "epoch: 0 | iteration: 1282 | progress: [6415/50000] (13%) | avg loss: nan / accuracy :  0.10: : 1283it [01:05, 18.35it/s]"
     ]
    },
    {
     "name": "stdout",
     "output_type": "stream",
     "text": [
      "nan\n",
      "tensor(nan, grad_fn=<NllLossBackward0>)\n",
      "nan\n",
      "\n",
      "nan\n",
      "tensor(nan, grad_fn=<NllLossBackward0>)\n",
      "nan\n",
      "\n",
      "nan\n",
      "tensor(nan, grad_fn=<NllLossBackward0>)\n",
      "nan\n",
      "\n",
      "nan\n",
      "tensor(nan, grad_fn=<NllLossBackward0>)\n",
      "nan\n",
      "\n"
     ]
    },
    {
     "name": "stderr",
     "output_type": "stream",
     "text": [
      "epoch: 0 | iteration: 1286 | progress: [6435/50000] (13%) | avg loss: nan / accuracy :  0.10: : 1287it [01:05, 18.28it/s]"
     ]
    },
    {
     "name": "stdout",
     "output_type": "stream",
     "text": [
      "nan\n",
      "tensor(nan, grad_fn=<NllLossBackward0>)\n",
      "nan\n",
      "\n",
      "nan\n",
      "tensor(nan, grad_fn=<NllLossBackward0>)\n",
      "nan\n",
      "\n",
      "nan\n",
      "tensor(nan, grad_fn=<NllLossBackward0>)\n",
      "nan\n",
      "\n",
      "nan\n",
      "tensor(nan, grad_fn=<NllLossBackward0>)\n",
      "nan\n",
      "\n"
     ]
    },
    {
     "name": "stderr",
     "output_type": "stream",
     "text": [
      "epoch: 0 | iteration: 1290 | progress: [6455/50000] (13%) | avg loss: nan / accuracy :  0.10: : 1291it [01:06, 18.47it/s]"
     ]
    },
    {
     "name": "stdout",
     "output_type": "stream",
     "text": [
      "nan\n",
      "tensor(nan, grad_fn=<NllLossBackward0>)\n",
      "nan\n",
      "\n",
      "nan\n",
      "tensor(nan, grad_fn=<NllLossBackward0>)\n",
      "nan\n",
      "\n",
      "nan\n",
      "tensor(nan, grad_fn=<NllLossBackward0>)\n",
      "nan\n",
      "\n",
      "nan\n",
      "tensor(nan, grad_fn=<NllLossBackward0>)\n",
      "nan\n",
      "\n"
     ]
    },
    {
     "name": "stderr",
     "output_type": "stream",
     "text": [
      "epoch: 0 | iteration: 1295 | progress: [6480/50000] (13%) | avg loss: nan / accuracy :  0.10: : 1294it [01:06, 19.42it/s]"
     ]
    },
    {
     "name": "stdout",
     "output_type": "stream",
     "text": [
      "nan\n",
      "tensor(nan, grad_fn=<NllLossBackward0>)\n",
      "nan\n",
      "\n",
      "nan\n",
      "tensor(nan, grad_fn=<NllLossBackward0>)\n",
      "nan\n",
      "\n",
      "nan\n",
      "tensor(nan, grad_fn=<NllLossBackward0>)\n",
      "nan\n",
      "\n",
      "nan\n",
      "tensor(nan, grad_fn=<NllLossBackward0>)\n",
      "nan\n",
      "\n",
      "nan\n",
      "tensor(nan, grad_fn=<NllLossBackward0>)\n",
      "nan\n",
      "\n"
     ]
    },
    {
     "name": "stderr",
     "output_type": "stream",
     "text": [
      "epoch: 0 | iteration: 1300 | progress: [6505/50000] (13%) | avg loss: nan / accuracy :  0.10: : 1300it [01:06, 20.04it/s]"
     ]
    },
    {
     "name": "stdout",
     "output_type": "stream",
     "text": [
      "nan\n",
      "tensor(nan, grad_fn=<NllLossBackward0>)\n",
      "nan\n",
      "\n",
      "nan\n",
      "tensor(nan, grad_fn=<NllLossBackward0>)\n",
      "nan\n",
      "\n",
      "nan\n",
      "tensor(nan, grad_fn=<NllLossBackward0>)\n",
      "nan\n",
      "\n",
      "nan\n",
      "tensor(nan, grad_fn=<NllLossBackward0>)\n",
      "nan\n",
      "\n",
      "nan\n",
      "tensor(nan, grad_fn=<NllLossBackward0>)\n",
      "nan\n",
      "\n"
     ]
    },
    {
     "name": "stderr",
     "output_type": "stream",
     "text": [
      "epoch: 0 | iteration: 1305 | progress: [6530/50000] (13%) | avg loss: nan / accuracy :  0.10: : 1306it [01:06, 20.59it/s]"
     ]
    },
    {
     "name": "stdout",
     "output_type": "stream",
     "text": [
      "nan\n",
      "tensor(nan, grad_fn=<NllLossBackward0>)\n",
      "nan\n",
      "\n",
      "nan\n",
      "tensor(nan, grad_fn=<NllLossBackward0>)\n",
      "nan\n",
      "\n",
      "nan\n",
      "tensor(nan, grad_fn=<NllLossBackward0>)\n",
      "nan\n",
      "\n",
      "nan\n",
      "tensor(nan, grad_fn=<NllLossBackward0>)\n",
      "nan\n",
      "\n",
      "nan\n",
      "tensor(nan, grad_fn=<NllLossBackward0>)\n",
      "nan\n",
      "\n"
     ]
    },
    {
     "name": "stderr",
     "output_type": "stream",
     "text": [
      "epoch: 0 | iteration: 1310 | progress: [6555/50000] (13%) | avg loss: nan / accuracy :  0.10: : 1309it [01:07, 20.35it/s]"
     ]
    },
    {
     "name": "stdout",
     "output_type": "stream",
     "text": [
      "nan\n",
      "tensor(nan, grad_fn=<NllLossBackward0>)\n",
      "nan\n",
      "\n",
      "nan\n",
      "tensor(nan, grad_fn=<NllLossBackward0>)\n",
      "nan\n",
      "\n",
      "nan\n",
      "tensor(nan, grad_fn=<NllLossBackward0>)\n",
      "nan\n",
      "\n",
      "nan\n",
      "tensor(nan, grad_fn=<NllLossBackward0>)\n",
      "nan\n",
      "\n",
      "nan\n",
      "tensor(nan, grad_fn=<NllLossBackward0>)\n",
      "nan\n",
      "\n"
     ]
    },
    {
     "name": "stderr",
     "output_type": "stream",
     "text": [
      "epoch: 0 | iteration: 1314 | progress: [6575/50000] (13%) | avg loss: nan / accuracy :  0.10: : 1315it [01:07, 19.25it/s]"
     ]
    },
    {
     "name": "stdout",
     "output_type": "stream",
     "text": [
      "nan\n",
      "tensor(nan, grad_fn=<NllLossBackward0>)\n",
      "nan\n",
      "\n",
      "nan\n",
      "tensor(nan, grad_fn=<NllLossBackward0>)\n",
      "nan\n",
      "\n",
      "nan\n",
      "tensor(nan, grad_fn=<NllLossBackward0>)\n",
      "nan\n",
      "\n",
      "nan\n",
      "tensor(nan, grad_fn=<NllLossBackward0>)\n",
      "nan\n",
      "\n"
     ]
    },
    {
     "name": "stderr",
     "output_type": "stream",
     "text": [
      "epoch: 0 | iteration: 1318 | progress: [6595/50000] (13%) | avg loss: nan / accuracy :  0.10: : 1319it [01:07, 19.14it/s]"
     ]
    },
    {
     "name": "stdout",
     "output_type": "stream",
     "text": [
      "nan\n",
      "tensor(nan, grad_fn=<NllLossBackward0>)\n",
      "nan\n",
      "\n",
      "nan\n",
      "tensor(nan, grad_fn=<NllLossBackward0>)\n",
      "nan\n",
      "\n",
      "nan\n",
      "tensor(nan, grad_fn=<NllLossBackward0>)\n",
      "nan\n",
      "\n",
      "nan\n",
      "tensor(nan, grad_fn=<NllLossBackward0>)\n",
      "nan\n",
      "\n"
     ]
    },
    {
     "name": "stderr",
     "output_type": "stream",
     "text": [
      "epoch: 0 | iteration: 1322 | progress: [6615/50000] (13%) | avg loss: nan / accuracy :  0.10: : 1321it [01:07, 17.39it/s]"
     ]
    },
    {
     "name": "stdout",
     "output_type": "stream",
     "text": [
      "nan\n",
      "tensor(nan, grad_fn=<NllLossBackward0>)\n",
      "nan\n",
      "\n",
      "nan\n",
      "tensor(nan, grad_fn=<NllLossBackward0>)\n",
      "nan\n",
      "\n",
      "nan\n",
      "tensor(nan, grad_fn=<NllLossBackward0>)\n",
      "nan\n",
      "\n",
      "nan\n",
      "tensor(nan, grad_fn=<NllLossBackward0>)\n",
      "nan\n",
      "\n"
     ]
    },
    {
     "name": "stderr",
     "output_type": "stream",
     "text": [
      "epoch: 0 | iteration: 1327 | progress: [6640/50000] (13%) | avg loss: nan / accuracy :  0.10: : 1327it [01:08, 18.97it/s]"
     ]
    },
    {
     "name": "stdout",
     "output_type": "stream",
     "text": [
      "nan\n",
      "tensor(nan, grad_fn=<NllLossBackward0>)\n",
      "nan\n",
      "\n",
      "nan\n",
      "tensor(nan, grad_fn=<NllLossBackward0>)\n",
      "nan\n",
      "\n",
      "nan\n",
      "tensor(nan, grad_fn=<NllLossBackward0>)\n",
      "nan\n",
      "\n",
      "nan\n",
      "tensor(nan, grad_fn=<NllLossBackward0>)\n",
      "nan\n",
      "\n",
      "nan\n",
      "tensor(nan, grad_fn=<NllLossBackward0>)\n",
      "nan\n",
      "\n"
     ]
    },
    {
     "name": "stderr",
     "output_type": "stream",
     "text": [
      "epoch: 0 | iteration: 1331 | progress: [6660/50000] (13%) | avg loss: nan / accuracy :  0.10: : 1332it [01:08, 19.35it/s]"
     ]
    },
    {
     "name": "stdout",
     "output_type": "stream",
     "text": [
      "nan\n",
      "tensor(nan, grad_fn=<NllLossBackward0>)\n",
      "nan\n",
      "\n",
      "nan\n",
      "tensor(nan, grad_fn=<NllLossBackward0>)\n",
      "nan\n",
      "\n",
      "nan\n",
      "tensor(nan, grad_fn=<NllLossBackward0>)\n",
      "nan\n",
      "\n",
      "nan\n",
      "tensor(nan, grad_fn=<NllLossBackward0>)\n",
      "nan\n",
      "\n",
      "nan\n"
     ]
    },
    {
     "name": "stderr",
     "output_type": "stream",
     "text": [
      "epoch: 0 | iteration: 1336 | progress: [6685/50000] (13%) | avg loss: nan / accuracy :  0.10: : 1337it [01:08, 19.69it/s]"
     ]
    },
    {
     "name": "stdout",
     "output_type": "stream",
     "text": [
      "tensor(nan, grad_fn=<NllLossBackward0>)\n",
      "nan\n",
      "\n",
      "nan\n",
      "tensor(nan, grad_fn=<NllLossBackward0>)\n",
      "nan\n",
      "\n",
      "nan\n",
      "tensor(nan, grad_fn=<NllLossBackward0>)\n",
      "nan\n",
      "\n",
      "nan\n",
      "tensor(nan, grad_fn=<NllLossBackward0>)\n",
      "nan\n",
      "\n",
      "nan\n",
      "tensor(nan, grad_fn=<NllLossBackward0>)\n",
      "nan\n",
      "\n"
     ]
    },
    {
     "name": "stderr",
     "output_type": "stream",
     "text": [
      "epoch: 0 | iteration: 1341 | progress: [6710/50000] (13%) | avg loss: nan / accuracy :  0.10: : 1340it [01:08, 20.14it/s]"
     ]
    },
    {
     "name": "stdout",
     "output_type": "stream",
     "text": [
      "nan\n",
      "tensor(nan, grad_fn=<NllLossBackward0>)\n",
      "nan\n",
      "\n",
      "nan\n",
      "tensor(nan, grad_fn=<NllLossBackward0>)\n",
      "nan\n",
      "\n",
      "nan\n",
      "tensor(nan, grad_fn=<NllLossBackward0>)\n",
      "nan\n",
      "\n",
      "nan\n",
      "tensor(nan, grad_fn=<NllLossBackward0>)\n",
      "nan\n",
      "\n",
      "nan\n",
      "tensor(nan, grad_fn=<NllLossBackward0>)\n",
      "nan\n",
      "\n"
     ]
    },
    {
     "name": "stderr",
     "output_type": "stream",
     "text": [
      "epoch: 0 | iteration: 1345 | progress: [6730/50000] (13%) | avg loss: nan / accuracy :  0.10: : 1346it [01:09, 18.94it/s]"
     ]
    },
    {
     "name": "stdout",
     "output_type": "stream",
     "text": [
      "nan\n",
      "tensor(nan, grad_fn=<NllLossBackward0>)\n",
      "nan\n",
      "\n",
      "nan\n",
      "tensor(nan, grad_fn=<NllLossBackward0>)\n",
      "nan\n",
      "\n",
      "nan\n",
      "tensor(nan, grad_fn=<NllLossBackward0>)\n",
      "nan\n",
      "\n",
      "nan\n",
      "tensor(nan, grad_fn=<NllLossBackward0>)\n",
      "nan\n",
      "\n"
     ]
    },
    {
     "name": "stderr",
     "output_type": "stream",
     "text": [
      "epoch: 0 | iteration: 1349 | progress: [6750/50000] (13%) | avg loss: nan / accuracy :  0.10: : 1349it [01:09, 19.55it/s]"
     ]
    },
    {
     "name": "stdout",
     "output_type": "stream",
     "text": [
      "nan\n",
      "tensor(nan, grad_fn=<NllLossBackward0>)\n",
      "nan\n",
      "\n",
      "nan\n",
      "tensor(nan, grad_fn=<NllLossBackward0>)\n",
      "nan\n",
      "\n",
      "nan\n",
      "tensor(nan, grad_fn=<NllLossBackward0>)\n",
      "nan\n",
      "\n",
      "nan\n",
      "tensor(nan, grad_fn=<NllLossBackward0>)\n",
      "nan\n",
      "\n"
     ]
    },
    {
     "name": "stderr",
     "output_type": "stream",
     "text": [
      "epoch: 0 | iteration: 1353 | progress: [6770/50000] (14%) | avg loss: nan / accuracy :  0.10: : 1353it [01:09, 18.93it/s]"
     ]
    },
    {
     "name": "stdout",
     "output_type": "stream",
     "text": [
      "nan\n",
      "tensor(nan, grad_fn=<NllLossBackward0>)\n",
      "nan\n",
      "\n",
      "nan\n",
      "tensor(nan, grad_fn=<NllLossBackward0>)\n",
      "nan\n",
      "\n",
      "nan\n",
      "tensor(nan, grad_fn=<NllLossBackward0>)\n",
      "nan\n",
      "\n",
      "nan\n",
      "tensor(nan, grad_fn=<NllLossBackward0>)\n",
      "nan\n",
      "\n"
     ]
    },
    {
     "name": "stderr",
     "output_type": "stream",
     "text": [
      "epoch: 0 | iteration: 1357 | progress: [6790/50000] (14%) | avg loss: nan / accuracy :  0.10: : 1357it [01:09, 18.98it/s]"
     ]
    },
    {
     "name": "stdout",
     "output_type": "stream",
     "text": [
      "nan\n",
      "tensor(nan, grad_fn=<NllLossBackward0>)\n",
      "nan\n",
      "\n",
      "nan\n",
      "tensor(nan, grad_fn=<NllLossBackward0>)\n",
      "nan\n",
      "\n",
      "nan\n",
      "tensor(nan, grad_fn=<NllLossBackward0>)\n",
      "nan\n",
      "\n",
      "nan\n",
      "tensor(nan, grad_fn=<NllLossBackward0>)\n",
      "nan\n",
      "\n"
     ]
    },
    {
     "name": "stderr",
     "output_type": "stream",
     "text": [
      "epoch: 0 | iteration: 1361 | progress: [6810/50000] (14%) | avg loss: nan / accuracy :  0.10: : 1361it [01:09, 18.27it/s]"
     ]
    },
    {
     "name": "stdout",
     "output_type": "stream",
     "text": [
      "nan\n",
      "tensor(nan, grad_fn=<NllLossBackward0>)\n",
      "nan\n",
      "\n",
      "nan\n",
      "tensor(nan, grad_fn=<NllLossBackward0>)\n",
      "nan\n",
      "\n",
      "nan\n",
      "tensor(nan, grad_fn=<NllLossBackward0>)\n",
      "nan\n",
      "\n",
      "nan\n",
      "tensor(nan, grad_fn=<NllLossBackward0>)\n",
      "nan\n",
      "\n"
     ]
    },
    {
     "name": "stderr",
     "output_type": "stream",
     "text": [
      "epoch: 0 | iteration: 1365 | progress: [6830/50000] (14%) | avg loss: nan / accuracy :  0.10: : 1365it [01:10, 18.76it/s]"
     ]
    },
    {
     "name": "stdout",
     "output_type": "stream",
     "text": [
      "nan\n",
      "tensor(nan, grad_fn=<NllLossBackward0>)\n",
      "nan\n",
      "\n",
      "nan\n",
      "tensor(nan, grad_fn=<NllLossBackward0>)\n",
      "nan\n",
      "\n",
      "nan\n",
      "tensor(nan, grad_fn=<NllLossBackward0>)\n",
      "nan\n",
      "\n",
      "nan\n",
      "tensor(nan, grad_fn=<NllLossBackward0>)\n",
      "nan\n",
      "\n"
     ]
    },
    {
     "name": "stderr",
     "output_type": "stream",
     "text": [
      "epoch: 0 | iteration: 1369 | progress: [6850/50000] (14%) | avg loss: nan / accuracy :  0.10: : 1369it [01:10, 18.89it/s]"
     ]
    },
    {
     "name": "stdout",
     "output_type": "stream",
     "text": [
      "nan\n",
      "tensor(nan, grad_fn=<NllLossBackward0>)\n",
      "nan\n",
      "\n",
      "nan\n",
      "tensor(nan, grad_fn=<NllLossBackward0>)\n",
      "nan\n",
      "\n",
      "nan\n",
      "tensor(nan, grad_fn=<NllLossBackward0>)\n",
      "nan\n",
      "\n",
      "nan\n",
      "tensor(nan, grad_fn=<NllLossBackward0>)\n",
      "nan\n",
      "\n"
     ]
    },
    {
     "name": "stderr",
     "output_type": "stream",
     "text": [
      "epoch: 0 | iteration: 1373 | progress: [6870/50000] (14%) | avg loss: nan / accuracy :  0.10: : 1373it [01:10, 18.93it/s]"
     ]
    },
    {
     "name": "stdout",
     "output_type": "stream",
     "text": [
      "nan\n",
      "tensor(nan, grad_fn=<NllLossBackward0>)\n",
      "nan\n",
      "\n",
      "nan\n",
      "tensor(nan, grad_fn=<NllLossBackward0>)\n",
      "nan\n",
      "\n",
      "nan\n",
      "tensor(nan, grad_fn=<NllLossBackward0>)\n",
      "nan\n",
      "\n",
      "nan\n",
      "tensor(nan, grad_fn=<NllLossBackward0>)\n",
      "nan\n",
      "\n"
     ]
    },
    {
     "name": "stderr",
     "output_type": "stream",
     "text": [
      "epoch: 0 | iteration: 1377 | progress: [6890/50000] (14%) | avg loss: nan / accuracy :  0.10: : 1377it [01:10, 19.21it/s]"
     ]
    },
    {
     "name": "stdout",
     "output_type": "stream",
     "text": [
      "nan\n",
      "tensor(nan, grad_fn=<NllLossBackward0>)\n",
      "nan\n",
      "\n",
      "nan\n",
      "tensor(nan, grad_fn=<NllLossBackward0>)\n",
      "nan\n",
      "\n",
      "nan\n",
      "tensor(nan, grad_fn=<NllLossBackward0>)\n",
      "nan\n",
      "\n",
      "nan\n",
      "tensor(nan, grad_fn=<NllLossBackward0>)\n",
      "nan\n",
      "\n"
     ]
    },
    {
     "name": "stderr",
     "output_type": "stream",
     "text": [
      "epoch: 0 | iteration: 1382 | progress: [6915/50000] (14%) | avg loss: nan / accuracy :  0.10: : 1381it [01:10, 19.17it/s]"
     ]
    },
    {
     "name": "stdout",
     "output_type": "stream",
     "text": [
      "nan\n",
      "tensor(nan, grad_fn=<NllLossBackward0>)\n",
      "nan\n",
      "\n",
      "nan\n",
      "tensor(nan, grad_fn=<NllLossBackward0>)\n",
      "nan\n",
      "\n",
      "nan\n",
      "tensor(nan, grad_fn=<NllLossBackward0>)\n",
      "nan\n",
      "\n",
      "nan\n",
      "tensor(nan, grad_fn=<NllLossBackward0>)\n",
      "nan\n",
      "\n",
      "nan\n",
      "tensor(nan, grad_fn=<NllLossBackward0>)\n",
      "nan\n",
      "\n"
     ]
    },
    {
     "name": "stderr",
     "output_type": "stream",
     "text": [
      "epoch: 0 | iteration: 1387 | progress: [6940/50000] (14%) | avg loss: nan / accuracy :  0.10: : 1387it [01:11, 20.10it/s]"
     ]
    },
    {
     "name": "stdout",
     "output_type": "stream",
     "text": [
      "nan\n",
      "tensor(nan, grad_fn=<NllLossBackward0>)\n",
      "nan\n",
      "\n",
      "nan\n",
      "tensor(nan, grad_fn=<NllLossBackward0>)\n",
      "nan\n",
      "\n",
      "nan\n",
      "tensor(nan, grad_fn=<NllLossBackward0>)\n",
      "nan\n",
      "\n",
      "nan\n",
      "tensor(nan, grad_fn=<NllLossBackward0>)\n",
      "nan\n",
      "\n",
      "nan\n",
      "tensor(nan, grad_fn=<NllLossBackward0>)\n",
      "nan\n",
      "\n"
     ]
    },
    {
     "name": "stderr",
     "output_type": "stream",
     "text": [
      "epoch: 0 | iteration: 1392 | progress: [6965/50000] (14%) | avg loss: nan / accuracy :  0.10: : 1393it [01:11, 20.22it/s]"
     ]
    },
    {
     "name": "stdout",
     "output_type": "stream",
     "text": [
      "nan\n",
      "tensor(nan, grad_fn=<NllLossBackward0>)\n",
      "nan\n",
      "\n",
      "nan\n",
      "tensor(nan, grad_fn=<NllLossBackward0>)\n",
      "nan\n",
      "\n",
      "nan\n",
      "tensor(nan, grad_fn=<NllLossBackward0>)\n",
      "nan\n",
      "\n",
      "nan\n",
      "tensor(nan, grad_fn=<NllLossBackward0>)\n",
      "nan\n",
      "\n",
      "nan\n",
      "tensor(nan, grad_fn=<NllLossBackward0>)\n",
      "nan\n",
      "\n"
     ]
    },
    {
     "name": "stderr",
     "output_type": "stream",
     "text": [
      "epoch: 0 | iteration: 1396 | progress: [6985/50000] (14%) | avg loss: nan / accuracy :  0.10: : 1396it [01:11, 19.82it/s]"
     ]
    },
    {
     "name": "stdout",
     "output_type": "stream",
     "text": [
      "nan\n",
      "tensor(nan, grad_fn=<NllLossBackward0>)\n",
      "nan\n",
      "\n",
      "nan\n",
      "tensor(nan, grad_fn=<NllLossBackward0>)\n",
      "nan\n",
      "\n",
      "nan\n",
      "tensor(nan, grad_fn=<NllLossBackward0>)\n",
      "nan\n",
      "\n",
      "nan\n",
      "tensor(nan, grad_fn=<NllLossBackward0>)\n",
      "nan\n",
      "\n"
     ]
    },
    {
     "name": "stderr",
     "output_type": "stream",
     "text": [
      "epoch: 0 | iteration: 1400 | progress: [7005/50000] (14%) | avg loss: nan / accuracy :  0.10: : 1400it [01:11, 19.79it/s]"
     ]
    },
    {
     "name": "stdout",
     "output_type": "stream",
     "text": [
      "nan\n",
      "tensor(nan, grad_fn=<NllLossBackward0>)\n",
      "nan\n",
      "\n",
      "nan\n",
      "tensor(nan, grad_fn=<NllLossBackward0>)\n",
      "nan\n",
      "\n",
      "nan\n",
      "tensor(nan, grad_fn=<NllLossBackward0>)\n",
      "nan\n",
      "\n",
      "nan\n",
      "tensor(nan, grad_fn=<NllLossBackward0>)\n",
      "nan\n",
      "\n"
     ]
    },
    {
     "name": "stderr",
     "output_type": "stream",
     "text": [
      "epoch: 0 | iteration: 1405 | progress: [7030/50000] (14%) | avg loss: nan / accuracy :  0.10: : 1404it [01:12, 19.23it/s]"
     ]
    },
    {
     "name": "stdout",
     "output_type": "stream",
     "text": [
      "nan\n",
      "tensor(nan, grad_fn=<NllLossBackward0>)\n",
      "nan\n",
      "\n",
      "nan\n",
      "tensor(nan, grad_fn=<NllLossBackward0>)\n",
      "nan\n",
      "\n",
      "nan\n",
      "tensor(nan, grad_fn=<NllLossBackward0>)\n",
      "nan\n",
      "\n",
      "nan\n",
      "tensor(nan, grad_fn=<NllLossBackward0>)\n",
      "nan\n",
      "\n",
      "nan\n",
      "tensor(nan, grad_fn=<NllLossBackward0>)\n",
      "nan\n",
      "\n"
     ]
    },
    {
     "name": "stderr",
     "output_type": "stream",
     "text": [
      "epoch: 0 | iteration: 1410 | progress: [7055/50000] (14%) | avg loss: nan / accuracy :  0.10: : 1410it [01:12, 19.97it/s]"
     ]
    },
    {
     "name": "stdout",
     "output_type": "stream",
     "text": [
      "nan\n",
      "tensor(nan, grad_fn=<NllLossBackward0>)\n",
      "nan\n",
      "\n",
      "nan\n",
      "tensor(nan, grad_fn=<NllLossBackward0>)\n",
      "nan\n",
      "\n",
      "nan\n",
      "tensor(nan, grad_fn=<NllLossBackward0>)\n",
      "nan\n",
      "\n",
      "nan\n",
      "tensor(nan, grad_fn=<NllLossBackward0>)\n",
      "nan\n",
      "\n",
      "nan\n",
      "tensor(nan, grad_fn=<NllLossBackward0>)\n",
      "nan\n",
      "\n"
     ]
    },
    {
     "name": "stderr",
     "output_type": "stream",
     "text": [
      "epoch: 0 | iteration: 1415 | progress: [7080/50000] (14%) | avg loss: nan / accuracy :  0.10: : 1416it [01:12, 20.65it/s]"
     ]
    },
    {
     "name": "stdout",
     "output_type": "stream",
     "text": [
      "nan\n",
      "tensor(nan, grad_fn=<NllLossBackward0>)\n",
      "nan\n",
      "\n",
      "nan\n",
      "tensor(nan, grad_fn=<NllLossBackward0>)\n",
      "nan\n",
      "\n",
      "nan\n",
      "tensor(nan, grad_fn=<NllLossBackward0>)\n",
      "nan\n",
      "\n",
      "nan\n",
      "tensor(nan, grad_fn=<NllLossBackward0>)\n",
      "nan\n",
      "\n",
      "nan\n",
      "tensor(nan, grad_fn=<NllLossBackward0>)\n",
      "nan\n",
      "\n"
     ]
    },
    {
     "name": "stderr",
     "output_type": "stream",
     "text": [
      "epoch: 0 | iteration: 1419 | progress: [7100/50000] (14%) | avg loss: nan / accuracy :  0.10: : 1419it [01:12, 19.68it/s]"
     ]
    },
    {
     "name": "stdout",
     "output_type": "stream",
     "text": [
      "nan\n",
      "tensor(nan, grad_fn=<NllLossBackward0>)\n",
      "nan\n",
      "\n",
      "nan\n",
      "tensor(nan, grad_fn=<NllLossBackward0>)\n",
      "nan\n",
      "\n",
      "nan\n",
      "tensor(nan, grad_fn=<NllLossBackward0>)\n",
      "nan\n",
      "\n",
      "nan\n",
      "tensor(nan, grad_fn=<NllLossBackward0>)\n",
      "nan\n",
      "\n"
     ]
    },
    {
     "name": "stderr",
     "output_type": "stream",
     "text": [
      "epoch: 0 | iteration: 1423 | progress: [7120/50000] (14%) | avg loss: nan / accuracy :  0.10: : 1423it [01:13, 19.01it/s]"
     ]
    },
    {
     "name": "stdout",
     "output_type": "stream",
     "text": [
      "nan\n",
      "tensor(nan, grad_fn=<NllLossBackward0>)\n",
      "nan\n",
      "\n",
      "nan\n",
      "tensor(nan, grad_fn=<NllLossBackward0>)\n",
      "nan\n",
      "\n",
      "nan\n",
      "tensor(nan, grad_fn=<NllLossBackward0>)\n",
      "nan\n",
      "\n",
      "nan\n",
      "tensor(nan, grad_fn=<NllLossBackward0>)\n",
      "nan\n",
      "\n"
     ]
    },
    {
     "name": "stderr",
     "output_type": "stream",
     "text": [
      "epoch: 0 | iteration: 1427 | progress: [7140/50000] (14%) | avg loss: nan / accuracy :  0.10: : 1427it [01:13, 18.47it/s]"
     ]
    },
    {
     "name": "stdout",
     "output_type": "stream",
     "text": [
      "nan\n",
      "tensor(nan, grad_fn=<NllLossBackward0>)\n",
      "nan\n",
      "\n",
      "nan\n",
      "tensor(nan, grad_fn=<NllLossBackward0>)\n",
      "nan\n",
      "\n",
      "nan\n",
      "tensor(nan, grad_fn=<NllLossBackward0>)\n",
      "nan\n",
      "\n",
      "nan\n",
      "tensor(nan, grad_fn=<NllLossBackward0>)\n",
      "nan\n",
      "\n"
     ]
    },
    {
     "name": "stderr",
     "output_type": "stream",
     "text": [
      "epoch: 0 | iteration: 1431 | progress: [7160/50000] (14%) | avg loss: nan / accuracy :  0.10: : 1431it [01:13, 18.30it/s]"
     ]
    },
    {
     "name": "stdout",
     "output_type": "stream",
     "text": [
      "nan\n",
      "tensor(nan, grad_fn=<NllLossBackward0>)\n",
      "nan\n",
      "\n",
      "nan\n",
      "tensor(nan, grad_fn=<NllLossBackward0>)\n",
      "nan\n",
      "\n",
      "nan\n",
      "tensor(nan, grad_fn=<NllLossBackward0>)\n",
      "nan\n",
      "\n",
      "nan\n",
      "tensor(nan, grad_fn=<NllLossBackward0>)\n",
      "nan\n",
      "\n"
     ]
    },
    {
     "name": "stderr",
     "output_type": "stream",
     "text": [
      "epoch: 0 | iteration: 1435 | progress: [7180/50000] (14%) | avg loss: nan / accuracy :  0.10: : 1435it [01:13, 17.28it/s]"
     ]
    },
    {
     "name": "stdout",
     "output_type": "stream",
     "text": [
      "nan\n",
      "tensor(nan, grad_fn=<NllLossBackward0>)\n",
      "nan\n",
      "\n",
      "nan\n",
      "tensor(nan, grad_fn=<NllLossBackward0>)\n",
      "nan\n",
      "\n",
      "nan\n",
      "tensor(nan, grad_fn=<NllLossBackward0>)\n",
      "nan\n",
      "\n",
      "nan\n",
      "tensor(nan, grad_fn=<NllLossBackward0>)\n",
      "nan\n",
      "\n"
     ]
    },
    {
     "name": "stderr",
     "output_type": "stream",
     "text": [
      "epoch: 0 | iteration: 1439 | progress: [7200/50000] (14%) | avg loss: nan / accuracy :  0.10: : 1439it [01:13, 17.55it/s]"
     ]
    },
    {
     "name": "stdout",
     "output_type": "stream",
     "text": [
      "nan\n",
      "tensor(nan, grad_fn=<NllLossBackward0>)\n",
      "nan\n",
      "\n",
      "nan\n",
      "tensor(nan, grad_fn=<NllLossBackward0>)\n",
      "nan\n",
      "\n",
      "nan\n",
      "tensor(nan, grad_fn=<NllLossBackward0>)\n",
      "nan\n",
      "\n",
      "nan\n",
      "tensor(nan, grad_fn=<NllLossBackward0>)\n",
      "nan\n",
      "\n"
     ]
    },
    {
     "name": "stderr",
     "output_type": "stream",
     "text": [
      "epoch: 0 | iteration: 1443 | progress: [7220/50000] (14%) | avg loss: nan / accuracy :  0.10: : 1443it [01:14, 17.67it/s]"
     ]
    },
    {
     "name": "stdout",
     "output_type": "stream",
     "text": [
      "nan\n",
      "tensor(nan, grad_fn=<NllLossBackward0>)\n",
      "nan\n",
      "\n",
      "nan\n",
      "tensor(nan, grad_fn=<NllLossBackward0>)\n",
      "nan\n",
      "\n",
      "nan\n",
      "tensor(nan, grad_fn=<NllLossBackward0>)\n",
      "nan\n",
      "\n",
      "nan\n",
      "tensor(nan, grad_fn=<NllLossBackward0>)\n",
      "nan\n",
      "\n"
     ]
    },
    {
     "name": "stderr",
     "output_type": "stream",
     "text": [
      "epoch: 0 | iteration: 1447 | progress: [7240/50000] (14%) | avg loss: nan / accuracy :  0.10: : 1447it [01:14, 17.97it/s]"
     ]
    },
    {
     "name": "stdout",
     "output_type": "stream",
     "text": [
      "nan\n",
      "tensor(nan, grad_fn=<NllLossBackward0>)\n",
      "nan\n",
      "\n",
      "nan\n",
      "tensor(nan, grad_fn=<NllLossBackward0>)\n",
      "nan\n",
      "\n",
      "nan\n",
      "tensor(nan, grad_fn=<NllLossBackward0>)\n",
      "nan\n",
      "\n",
      "nan\n",
      "tensor(nan, grad_fn=<NllLossBackward0>)\n",
      "nan\n",
      "\n"
     ]
    },
    {
     "name": "stderr",
     "output_type": "stream",
     "text": [
      "epoch: 0 | iteration: 1450 | progress: [7255/50000] (14%) | avg loss: nan / accuracy :  0.10: : 1451it [01:14, 19.46it/s]\n"
     ]
    },
    {
     "name": "stdout",
     "output_type": "stream",
     "text": [
      "nan\n",
      "tensor(nan, grad_fn=<NllLossBackward0>)\n",
      "nan\n",
      "\n",
      "nan\n",
      "tensor(nan, grad_fn=<NllLossBackward0>)\n",
      "nan\n",
      "\n",
      "nan\n",
      "tensor(nan, grad_fn=<NllLossBackward0>)\n",
      "nan\n",
      "\n"
     ]
    },
    {
     "name": "stderr",
     "output_type": "stream",
     "text": [
      "\n",
      "KeyboardInterrupt\n",
      "\n"
     ]
    }
   ],
   "source": [
    "from attacks import PGD_L2\n",
    "attacker = PGD_L2(2, max_norm = .5)\n",
    "smooth_net_trainer.adv_training(3, trainloader, testloader,'cpu', nn.CrossEntropyLoss(), .01, attacker)\n"
   ]
  },
  {
   "cell_type": "code",
   "execution_count": 2,
   "id": "f96b6724",
   "metadata": {
    "pycharm": {
     "name": "#%%\n"
    }
   },
   "outputs": [
    {
     "ename": "ImportError",
     "evalue": "cannot import name 'zero_gradients' from 'torch.autograd.gradcheck' (/opt/anaconda3/envs/RobustnessResearch/lib/python3.10/site-packages/torch/autograd/gradcheck.py)",
     "output_type": "error",
     "traceback": [
      "\u001b[0;31m---------------------------------------------------------------------------\u001b[0m",
      "\u001b[0;31mImportError\u001b[0m                               Traceback (most recent call last)",
      "Input \u001b[0;32mIn [2]\u001b[0m, in \u001b[0;36m<cell line: 1>\u001b[0;34m()\u001b[0m\n\u001b[0;32m----> 1\u001b[0m \u001b[38;5;28;01mfrom\u001b[39;00m \u001b[38;5;21;01madvertorch\u001b[39;00m\u001b[38;5;21;01m.\u001b[39;00m\u001b[38;5;21;01mattacks\u001b[39;00m \u001b[38;5;28;01mimport\u001b[39;00m LinfPGDAttack\n",
      "File \u001b[0;32m/opt/anaconda3/envs/RobustnessResearch/lib/python3.10/site-packages/advertorch/__init__.py:14\u001b[0m, in \u001b[0;36m<module>\u001b[0;34m\u001b[0m\n\u001b[1;32m     11\u001b[0m \u001b[38;5;28;01mwith\u001b[39;00m \u001b[38;5;28mopen\u001b[39m(os\u001b[38;5;241m.\u001b[39mpath\u001b[38;5;241m.\u001b[39mjoin(os\u001b[38;5;241m.\u001b[39mpath\u001b[38;5;241m.\u001b[39mdirname(\u001b[38;5;18m__file__\u001b[39m), \u001b[38;5;124m'\u001b[39m\u001b[38;5;124mVERSION\u001b[39m\u001b[38;5;124m'\u001b[39m)) \u001b[38;5;28;01mas\u001b[39;00m f:\n\u001b[1;32m     12\u001b[0m     __version__ \u001b[38;5;241m=\u001b[39m f\u001b[38;5;241m.\u001b[39mread()\u001b[38;5;241m.\u001b[39mstrip()\n\u001b[0;32m---> 14\u001b[0m \u001b[38;5;28;01mfrom\u001b[39;00m \u001b[38;5;21;01m.\u001b[39;00m \u001b[38;5;28;01mimport\u001b[39;00m attacks  \u001b[38;5;66;03m# noqa: F401\u001b[39;00m\n\u001b[1;32m     15\u001b[0m \u001b[38;5;28;01mfrom\u001b[39;00m \u001b[38;5;21;01m.\u001b[39;00m \u001b[38;5;28;01mimport\u001b[39;00m defenses\n",
      "File \u001b[0;32m/opt/anaconda3/envs/RobustnessResearch/lib/python3.10/site-packages/advertorch/attacks/__init__.py:47\u001b[0m, in \u001b[0;36m<module>\u001b[0;34m\u001b[0m\n\u001b[1;32m     44\u001b[0m \u001b[38;5;28;01mfrom\u001b[39;00m \u001b[38;5;21;01m.\u001b[39;00m\u001b[38;5;21;01mjsma\u001b[39;00m \u001b[38;5;28;01mimport\u001b[39;00m JSMA\n\u001b[1;32m     46\u001b[0m \u001b[38;5;28;01mfrom\u001b[39;00m \u001b[38;5;21;01m.\u001b[39;00m\u001b[38;5;21;01mspsa\u001b[39;00m \u001b[38;5;28;01mimport\u001b[39;00m LinfSPSAAttack\n\u001b[0;32m---> 47\u001b[0m \u001b[38;5;28;01mfrom\u001b[39;00m \u001b[38;5;21;01m.\u001b[39;00m\u001b[38;5;21;01mfast_adaptive_boundary\u001b[39;00m \u001b[38;5;28;01mimport\u001b[39;00m FABAttack\n\u001b[1;32m     48\u001b[0m \u001b[38;5;28;01mfrom\u001b[39;00m \u001b[38;5;21;01m.\u001b[39;00m\u001b[38;5;21;01mfast_adaptive_boundary\u001b[39;00m \u001b[38;5;28;01mimport\u001b[39;00m LinfFABAttack\n\u001b[1;32m     49\u001b[0m \u001b[38;5;28;01mfrom\u001b[39;00m \u001b[38;5;21;01m.\u001b[39;00m\u001b[38;5;21;01mfast_adaptive_boundary\u001b[39;00m \u001b[38;5;28;01mimport\u001b[39;00m L2FABAttack\n",
      "File \u001b[0;32m/opt/anaconda3/envs/RobustnessResearch/lib/python3.10/site-packages/advertorch/attacks/fast_adaptive_boundary.py:14\u001b[0m, in \u001b[0;36m<module>\u001b[0;34m\u001b[0m\n\u001b[1;32m     11\u001b[0m \u001b[38;5;28;01mfrom\u001b[39;00m \u001b[38;5;21;01m__future__\u001b[39;00m \u001b[38;5;28;01mimport\u001b[39;00m unicode_literals\n\u001b[1;32m     13\u001b[0m \u001b[38;5;28;01mimport\u001b[39;00m \u001b[38;5;21;01mtorch\u001b[39;00m\n\u001b[0;32m---> 14\u001b[0m \u001b[38;5;28;01mfrom\u001b[39;00m \u001b[38;5;21;01mtorch\u001b[39;00m\u001b[38;5;21;01m.\u001b[39;00m\u001b[38;5;21;01mautograd\u001b[39;00m\u001b[38;5;21;01m.\u001b[39;00m\u001b[38;5;21;01mgradcheck\u001b[39;00m \u001b[38;5;28;01mimport\u001b[39;00m zero_gradients\n\u001b[1;32m     15\u001b[0m \u001b[38;5;28;01mimport\u001b[39;00m \u001b[38;5;21;01mtime\u001b[39;00m\n\u001b[1;32m     17\u001b[0m \u001b[38;5;28;01mtry\u001b[39;00m:\n",
      "\u001b[0;31mImportError\u001b[0m: cannot import name 'zero_gradients' from 'torch.autograd.gradcheck' (/opt/anaconda3/envs/RobustnessResearch/lib/python3.10/site-packages/torch/autograd/gradcheck.py)"
     ]
    }
   ],
   "source": []
  },
  {
   "cell_type": "code",
   "execution_count": 4,
   "id": "a72d58a0",
   "metadata": {
    "pycharm": {
     "name": "#%%\n"
    }
   },
   "outputs": [
    {
     "data": {
      "text/plain": [
       "(tensor([[[0.6196, 0.6235, 0.6471,  ..., 0.5373, 0.4941, 0.4549],\n",
       "          [0.5961, 0.5922, 0.6235,  ..., 0.5333, 0.4902, 0.4667],\n",
       "          [0.5922, 0.5922, 0.6196,  ..., 0.5451, 0.5098, 0.4706],\n",
       "          ...,\n",
       "          [0.2667, 0.1647, 0.1216,  ..., 0.1490, 0.0510, 0.1569],\n",
       "          [0.2392, 0.1922, 0.1373,  ..., 0.1020, 0.1137, 0.0784],\n",
       "          [0.2118, 0.2196, 0.1765,  ..., 0.0941, 0.1333, 0.0824]],\n",
       " \n",
       "         [[0.4392, 0.4353, 0.4549,  ..., 0.3725, 0.3569, 0.3333],\n",
       "          [0.4392, 0.4314, 0.4471,  ..., 0.3725, 0.3569, 0.3451],\n",
       "          [0.4314, 0.4275, 0.4353,  ..., 0.3843, 0.3725, 0.3490],\n",
       "          ...,\n",
       "          [0.4863, 0.3922, 0.3451,  ..., 0.3804, 0.2510, 0.3333],\n",
       "          [0.4549, 0.4000, 0.3333,  ..., 0.3216, 0.3216, 0.2510],\n",
       "          [0.4196, 0.4118, 0.3490,  ..., 0.3020, 0.3294, 0.2627]],\n",
       " \n",
       "         [[0.1922, 0.1843, 0.2000,  ..., 0.1412, 0.1412, 0.1294],\n",
       "          [0.2000, 0.1569, 0.1765,  ..., 0.1216, 0.1255, 0.1333],\n",
       "          [0.1843, 0.1294, 0.1412,  ..., 0.1333, 0.1333, 0.1294],\n",
       "          ...,\n",
       "          [0.6941, 0.5804, 0.5373,  ..., 0.5725, 0.4235, 0.4980],\n",
       "          [0.6588, 0.5804, 0.5176,  ..., 0.5098, 0.4941, 0.4196],\n",
       "          [0.6275, 0.5843, 0.5176,  ..., 0.4863, 0.5059, 0.4314]]]),\n",
       " 3)"
      ]
     },
     "execution_count": 4,
     "metadata": {},
     "output_type": "execute_result"
    }
   ],
   "source": [
    "testset[0]"
   ]
  },
  {
   "cell_type": "code",
   "execution_count": 14,
   "id": "bfb0e2bb",
   "metadata": {
    "pycharm": {
     "name": "#%%\n"
    }
   },
   "outputs": [],
   "source": [
    "import torchattacks\n",
    "atk = torchattacks.PGD(net, eps=8/255, alpha=2/255, steps=4)\n",
    "adv_images = atk(testset[0][0][None, :], torch.tensor([testset[0][1]], dtype=torch.long))\n"
   ]
  },
  {
   "cell_type": "code",
   "execution_count": 15,
   "id": "133101eb",
   "metadata": {
    "pycharm": {
     "name": "#%%\n"
    }
   },
   "outputs": [
    {
     "data": {
      "text/plain": [
       "tensor([[[[0.6376, 0.6214, 0.6784,  ..., 0.5397, 0.4899, 0.4749],\n",
       "          [0.5876, 0.5815, 0.5922,  ..., 0.5338, 0.4588, 0.4980],\n",
       "          [0.6204, 0.5837, 0.6239,  ..., 0.5663, 0.5412, 0.5020],\n",
       "          ...,\n",
       "          [0.2627, 0.1427, 0.1525,  ..., 0.1804, 0.0438, 0.1725],\n",
       "          [0.2305, 0.2072, 0.1686,  ..., 0.1230, 0.1007, 0.0916],\n",
       "          [0.1938, 0.2259, 0.1768,  ..., 0.0657, 0.1331, 0.0588]],\n",
       "\n",
       "         [[0.4497, 0.4588, 0.4321,  ..., 0.3576, 0.3347, 0.3197],\n",
       "          [0.4706, 0.4627, 0.4238,  ..., 0.3961, 0.3882, 0.3455],\n",
       "          [0.4412, 0.4588, 0.4615,  ..., 0.3529, 0.3412, 0.3628],\n",
       "          ...,\n",
       "          [0.4549, 0.4023, 0.3265,  ..., 0.3977, 0.2682, 0.3053],\n",
       "          [0.4573, 0.3872, 0.3176,  ..., 0.3086, 0.2980, 0.2408],\n",
       "          [0.4510, 0.4081, 0.3448,  ..., 0.3038, 0.3204, 0.2863]],\n",
       "\n",
       "         [[0.2112, 0.2157, 0.1686,  ..., 0.1331, 0.1273, 0.1158],\n",
       "          [0.1829, 0.1882, 0.1540,  ..., 0.0902, 0.1319, 0.1234],\n",
       "          [0.1634, 0.1608, 0.1417,  ..., 0.1456, 0.1020, 0.1059],\n",
       "          ...,\n",
       "          [0.6738, 0.5882, 0.5359,  ..., 0.5467, 0.4217, 0.5118],\n",
       "          [0.6275, 0.5490, 0.5230,  ..., 0.4949, 0.4858, 0.4255],\n",
       "          [0.6488, 0.5803, 0.5490,  ..., 0.5176, 0.5029, 0.4078]]]])"
      ]
     },
     "execution_count": 15,
     "metadata": {},
     "output_type": "execute_result"
    }
   ],
   "source": [
    "adv_images"
   ]
  },
  {
   "cell_type": "code",
   "execution_count": null,
   "id": "2c531306",
   "metadata": {},
   "outputs": [],
   "source": []
  }
 ],
 "metadata": {
  "kernelspec": {
   "display_name": "Python 3 (ipykernel)",
   "language": "python",
   "name": "python3"
  },
  "language_info": {
   "codemirror_mode": {
    "name": "ipython",
    "version": 3
   },
   "file_extension": ".py",
   "mimetype": "text/x-python",
   "name": "python",
   "nbconvert_exporter": "python",
   "pygments_lexer": "ipython3",
   "version": "3.10.4"
  }
 },
 "nbformat": 4,
 "nbformat_minor": 5
}
